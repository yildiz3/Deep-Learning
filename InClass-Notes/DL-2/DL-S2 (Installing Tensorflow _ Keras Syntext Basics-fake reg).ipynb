{
  "cells": [
    {
<<<<<<< HEAD
     "name": "stdout",
     "output_type": "stream",
     "text": [
      "Python 3.9.13\n"
     ]
    }
   ],
   "source": [
    "!python --version"
   ]
  },
  {
   "cell_type": "code",
   "execution_count": 2,
   "metadata": {},
   "outputs": [],
   "source": [
    "#pip install tensorflow"
   ]
  },
  {
   "cell_type": "code",
   "execution_count": 3,
   "metadata": {},
   "outputs": [
    {
     "data": {
      "text/plain": [
       "'2.10.0'"
      ]
     },
     "execution_count": 3,
     "metadata": {},
     "output_type": "execute_result"
    }
   ],
   "source": [
    "import tensorflow as tf\n",
    "tf.__version__"
   ]
  },
  {
   "cell_type": "markdown",
   "metadata": {},
   "source": [
    "# Keras Syntax Basics"
   ]
  },
  {
   "cell_type": "code",
   "execution_count": 4,
   "metadata": {},
   "outputs": [],
   "source": [
    "import numpy as np\n",
    "import pandas as pd\n",
    "import matplotlib.pyplot as plt\n",
    "import seaborn as sns\n",
    "\n",
    "import warnings\n",
    "warnings.filterwarnings(\"ignore\")\n",
    "warnings.warn(\"this will not show\")\n",
    "\n",
    "plt.rcParams[\"figure.figsize\"] = (10,6)\n",
    "\n",
    "sns.set_style(\"whitegrid\")\n",
    "pd.set_option('display.float_format', lambda x: '%.3f' % x)\n",
    "\n",
    "# Set it None to display all rows in the dataframe\n",
    "# pd.set_option('display.max_rows', None)\n",
    "\n",
    "# Set it to None to display all columns in the dataframe\n",
    "pd.set_option('display.max_columns', None)"
   ]
  },
  {
   "cell_type": "code",
   "execution_count": 5,
   "metadata": {},
   "outputs": [],
   "source": [
    "#from google.colab import drive\n",
    "#drive.mount('/content/drive')"
   ]
  },
  {
   "cell_type": "code",
   "execution_count": 6,
   "metadata": {},
   "outputs": [],
   "source": [
    "#df = pd.read_csv(\"drive/MyDrive/Colab_Files/data/fake_reg.csv\")"
   ]
  },
  {
   "cell_type": "code",
   "execution_count": 7,
   "metadata": {},
   "outputs": [],
   "source": [
    "df = pd.read_csv(\"fake_reg.csv\")"
   ]
  },
  {
   "cell_type": "markdown",
   "metadata": {},
   "source": [
    "## Exploratory Data Analysis and Visualization"
   ]
  },
  {
   "cell_type": "code",
   "execution_count": 8,
   "metadata": {},
   "outputs": [
    {
     "data": {
      "text/html": [
       "<div>\n",
       "<style scoped>\n",
       "    .dataframe tbody tr th:only-of-type {\n",
       "        vertical-align: middle;\n",
       "    }\n",
       "\n",
       "    .dataframe tbody tr th {\n",
       "        vertical-align: top;\n",
       "    }\n",
       "\n",
       "    .dataframe thead th {\n",
       "        text-align: right;\n",
       "    }\n",
       "</style>\n",
       "<table border=\"1\" class=\"dataframe\">\n",
       "  <thead>\n",
       "    <tr style=\"text-align: right;\">\n",
       "      <th></th>\n",
       "      <th>price</th>\n",
       "      <th>feature1</th>\n",
       "      <th>feature2</th>\n",
       "    </tr>\n",
       "  </thead>\n",
       "  <tbody>\n",
       "    <tr>\n",
       "      <th>0</th>\n",
       "      <td>461.528</td>\n",
       "      <td>999.788</td>\n",
       "      <td>999.766</td>\n",
       "    </tr>\n",
       "    <tr>\n",
       "      <th>1</th>\n",
       "      <td>548.130</td>\n",
       "      <td>998.862</td>\n",
       "      <td>1001.042</td>\n",
       "    </tr>\n",
       "    <tr>\n",
       "      <th>2</th>\n",
       "      <td>410.297</td>\n",
       "      <td>1000.070</td>\n",
       "      <td>998.844</td>\n",
       "    </tr>\n",
       "    <tr>\n",
       "      <th>3</th>\n",
       "      <td>540.382</td>\n",
       "      <td>999.952</td>\n",
       "      <td>1000.441</td>\n",
       "    </tr>\n",
       "    <tr>\n",
       "      <th>4</th>\n",
       "      <td>546.025</td>\n",
       "      <td>1000.446</td>\n",
       "      <td>1000.339</td>\n",
       "    </tr>\n",
       "  </tbody>\n",
       "</table>\n",
       "</div>"
      ],
      "text/plain": [
       "    price  feature1  feature2\n",
       "0 461.528   999.788   999.766\n",
       "1 548.130   998.862  1001.042\n",
       "2 410.297  1000.070   998.844\n",
       "3 540.382   999.952  1000.441\n",
       "4 546.025  1000.446  1000.339"
      ]
     },
     "execution_count": 8,
     "metadata": {},
     "output_type": "execute_result"
    }
   ],
   "source": [
    "df.head()"
   ]
  },
  {
   "cell_type": "code",
   "execution_count": 9,
   "metadata": {},
   "outputs": [
    {
     "name": "stdout",
     "output_type": "stream",
     "text": [
      "<class 'pandas.core.frame.DataFrame'>\n",
      "RangeIndex: 1000 entries, 0 to 999\n",
      "Data columns (total 3 columns):\n",
      " #   Column    Non-Null Count  Dtype  \n",
      "---  ------    --------------  -----  \n",
      " 0   price     1000 non-null   float64\n",
      " 1   feature1  1000 non-null   float64\n",
      " 2   feature2  1000 non-null   float64\n",
      "dtypes: float64(3)\n",
      "memory usage: 23.6 KB\n"
     ]
    }
   ],
   "source": [
    "df.info()"
   ]
  },
  {
   "cell_type": "code",
   "execution_count": 10,
   "metadata": {},
   "outputs": [
    {
     "data": {
      "text/html": [
       "<div>\n",
       "<style scoped>\n",
       "    .dataframe tbody tr th:only-of-type {\n",
       "        vertical-align: middle;\n",
       "    }\n",
       "\n",
       "    .dataframe tbody tr th {\n",
       "        vertical-align: top;\n",
       "    }\n",
       "\n",
       "    .dataframe thead th {\n",
       "        text-align: right;\n",
       "    }\n",
       "</style>\n",
       "<table border=\"1\" class=\"dataframe\">\n",
       "  <thead>\n",
       "    <tr style=\"text-align: right;\">\n",
       "      <th></th>\n",
       "      <th>count</th>\n",
       "      <th>mean</th>\n",
       "      <th>std</th>\n",
       "      <th>min</th>\n",
       "      <th>25%</th>\n",
       "      <th>50%</th>\n",
       "      <th>75%</th>\n",
       "      <th>max</th>\n",
       "    </tr>\n",
       "  </thead>\n",
       "  <tbody>\n",
       "    <tr>\n",
       "      <th>price</th>\n",
       "      <td>1000.000</td>\n",
       "      <td>498.673</td>\n",
       "      <td>93.785</td>\n",
       "      <td>223.347</td>\n",
       "      <td>433.026</td>\n",
       "      <td>502.382</td>\n",
       "      <td>564.922</td>\n",
       "      <td>774.408</td>\n",
       "    </tr>\n",
       "    <tr>\n",
       "      <th>feature1</th>\n",
       "      <td>1000.000</td>\n",
       "      <td>1000.014</td>\n",
       "      <td>0.974</td>\n",
       "      <td>997.058</td>\n",
       "      <td>999.332</td>\n",
       "      <td>1000.010</td>\n",
       "      <td>1000.638</td>\n",
       "      <td>1003.208</td>\n",
       "    </tr>\n",
       "    <tr>\n",
       "      <th>feature2</th>\n",
       "      <td>1000.000</td>\n",
       "      <td>999.980</td>\n",
       "      <td>0.948</td>\n",
       "      <td>996.996</td>\n",
       "      <td>999.316</td>\n",
       "      <td>1000.002</td>\n",
       "      <td>1000.645</td>\n",
       "      <td>1002.666</td>\n",
       "    </tr>\n",
       "  </tbody>\n",
       "</table>\n",
       "</div>"
      ],
      "text/plain": [
       "            count     mean    std     min     25%      50%      75%      max\n",
       "price    1000.000  498.673 93.785 223.347 433.026  502.382  564.922  774.408\n",
       "feature1 1000.000 1000.014  0.974 997.058 999.332 1000.010 1000.638 1003.208\n",
       "feature2 1000.000  999.980  0.948 996.996 999.316 1000.002 1000.645 1002.666"
      ]
     },
     "execution_count": 10,
     "metadata": {},
     "output_type": "execute_result"
    }
   ],
   "source": [
    "df.describe().T"
   ]
  },
  {
   "cell_type": "code",
   "execution_count": 11,
   "metadata": {},
   "outputs": [
    {
     "data": {
      "image/png": "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\n",
      "text/plain": [
       "<Figure size 750x750 with 12 Axes>"
      ]
     },
     "metadata": {},
     "output_type": "display_data"
    }
   ],
   "source": [
    "sns.pairplot(df);"
   ]
  },
  {
   "cell_type": "code",
   "execution_count": 12,
   "metadata": {},
   "outputs": [
    {
     "data": {
      "text/html": [
       "<div>\n",
       "<style scoped>\n",
       "    .dataframe tbody tr th:only-of-type {\n",
       "        vertical-align: middle;\n",
       "    }\n",
       "\n",
       "    .dataframe tbody tr th {\n",
       "        vertical-align: top;\n",
       "    }\n",
       "\n",
       "    .dataframe thead th {\n",
       "        text-align: right;\n",
       "    }\n",
       "</style>\n",
       "<table border=\"1\" class=\"dataframe\">\n",
       "  <thead>\n",
       "    <tr style=\"text-align: right;\">\n",
       "      <th></th>\n",
       "      <th>price</th>\n",
       "      <th>feature1</th>\n",
       "      <th>feature2</th>\n",
       "    </tr>\n",
       "  </thead>\n",
       "  <tbody>\n",
       "    <tr>\n",
       "      <th>price</th>\n",
       "      <td>1.000</td>\n",
       "      <td>0.444</td>\n",
       "      <td>0.908</td>\n",
       "    </tr>\n",
       "    <tr>\n",
       "      <th>feature1</th>\n",
       "      <td>0.444</td>\n",
       "      <td>1.000</td>\n",
       "      <td>0.031</td>\n",
       "    </tr>\n",
       "    <tr>\n",
       "      <th>feature2</th>\n",
       "      <td>0.908</td>\n",
       "      <td>0.031</td>\n",
       "      <td>1.000</td>\n",
       "    </tr>\n",
       "  </tbody>\n",
       "</table>\n",
       "</div>"
      ],
      "text/plain": [
       "          price  feature1  feature2\n",
       "price     1.000     0.444     0.908\n",
       "feature1  0.444     1.000     0.031\n",
       "feature2  0.908     0.031     1.000"
      ]
     },
     "execution_count": 12,
     "metadata": {},
     "output_type": "execute_result"
    }
   ],
   "source": [
    "df.corr()"
   ]
  },
  {
   "cell_type": "markdown",
   "metadata": {},
   "source": [
    "## Preprocessing of Data\n",
    "- Train | Test Split, Scalling"
   ]
  },
  {
   "cell_type": "code",
   "execution_count": 13,
   "metadata": {},
   "outputs": [],
   "source": [
    "from sklearn.model_selection import train_test_split"
   ]
  },
  {
   "cell_type": "code",
   "execution_count": 14,
   "metadata": {},
   "outputs": [],
   "source": [
    "# X = df[['feature1', 'feature2']].values  # convert to array\n",
    "# y = df['price'].values"
   ]
  },
  {
   "cell_type": "code",
   "execution_count": 15,
   "metadata": {},
   "outputs": [],
   "source": [
    "X = df[['feature1', 'feature2']] \n",
    "y = df['price']"
   ]
  },
  {
   "cell_type": "code",
   "execution_count": 16,
   "metadata": {},
   "outputs": [
    {
     "data": {
      "text/html": [
       "<div>\n",
       "<style scoped>\n",
       "    .dataframe tbody tr th:only-of-type {\n",
       "        vertical-align: middle;\n",
       "    }\n",
       "\n",
       "    .dataframe tbody tr th {\n",
       "        vertical-align: top;\n",
       "    }\n",
       "\n",
       "    .dataframe thead th {\n",
       "        text-align: right;\n",
       "    }\n",
       "</style>\n",
       "<table border=\"1\" class=\"dataframe\">\n",
       "  <thead>\n",
       "    <tr style=\"text-align: right;\">\n",
       "      <th></th>\n",
       "      <th>feature1</th>\n",
       "      <th>feature2</th>\n",
       "    </tr>\n",
       "  </thead>\n",
       "  <tbody>\n",
       "    <tr>\n",
       "      <th>0</th>\n",
       "      <td>999.788</td>\n",
       "      <td>999.766</td>\n",
       "    </tr>\n",
       "    <tr>\n",
       "      <th>1</th>\n",
       "      <td>998.862</td>\n",
       "      <td>1001.042</td>\n",
       "    </tr>\n",
       "    <tr>\n",
       "      <th>2</th>\n",
       "      <td>1000.070</td>\n",
       "      <td>998.844</td>\n",
       "    </tr>\n",
       "    <tr>\n",
       "      <th>3</th>\n",
       "      <td>999.952</td>\n",
       "      <td>1000.441</td>\n",
       "    </tr>\n",
       "    <tr>\n",
       "      <th>4</th>\n",
       "      <td>1000.446</td>\n",
       "      <td>1000.339</td>\n",
       "    </tr>\n",
       "    <tr>\n",
       "      <th>...</th>\n",
       "      <td>...</td>\n",
       "      <td>...</td>\n",
       "    </tr>\n",
       "    <tr>\n",
       "      <th>995</th>\n",
       "      <td>1000.019</td>\n",
       "      <td>999.673</td>\n",
       "    </tr>\n",
       "    <tr>\n",
       "      <th>996</th>\n",
       "      <td>998.855</td>\n",
       "      <td>1000.020</td>\n",
       "    </tr>\n",
       "    <tr>\n",
       "      <th>997</th>\n",
       "      <td>1001.452</td>\n",
       "      <td>998.848</td>\n",
       "    </tr>\n",
       "    <tr>\n",
       "      <th>998</th>\n",
       "      <td>1000.771</td>\n",
       "      <td>998.563</td>\n",
       "    </tr>\n",
       "    <tr>\n",
       "      <th>999</th>\n",
       "      <td>999.232</td>\n",
       "      <td>1001.451</td>\n",
       "    </tr>\n",
       "  </tbody>\n",
       "</table>\n",
       "<p>1000 rows × 2 columns</p>\n",
       "</div>"
      ],
      "text/plain": [
       "     feature1  feature2\n",
       "0     999.788   999.766\n",
       "1     998.862  1001.042\n",
       "2    1000.070   998.844\n",
       "3     999.952  1000.441\n",
       "4    1000.446  1000.339\n",
       "..        ...       ...\n",
       "995  1000.019   999.673\n",
       "996   998.855  1000.020\n",
       "997  1001.452   998.848\n",
       "998  1000.771   998.563\n",
       "999   999.232  1001.451\n",
       "\n",
       "[1000 rows x 2 columns]"
      ]
     },
     "execution_count": 16,
     "metadata": {},
     "output_type": "execute_result"
    }
   ],
   "source": [
    "X"
   ]
  },
  {
   "cell_type": "code",
   "execution_count": 17,
   "metadata": {},
   "outputs": [
    {
     "data": {
      "text/plain": [
       "0     461.528\n",
       "1     548.130\n",
       "2     410.297\n",
       "3     540.382\n",
       "4     546.025\n",
       "        ...  \n",
       "995   476.526\n",
       "996   457.313\n",
       "997   456.721\n",
       "998   403.316\n",
       "999   599.367\n",
       "Name: price, Length: 1000, dtype: float64"
      ]
     },
     "execution_count": 17,
     "metadata": {},
     "output_type": "execute_result"
    }
   ],
   "source": [
    "y"
   ]
  },
  {
   "cell_type": "code",
   "execution_count": 18,
   "metadata": {},
   "outputs": [],
   "source": [
    "X_train, X_test, y_train, y_test = train_test_split(X, y, test_size = 0.3, random_state = 42)"
   ]
  },
  {
   "cell_type": "code",
   "execution_count": 19,
   "metadata": {},
   "outputs": [
    {
     "data": {
      "text/plain": [
       "(700, 2)"
      ]
     },
     "execution_count": 19,
     "metadata": {},
     "output_type": "execute_result"
    }
   ],
   "source": [
    "X_train.shape"
   ]
  },
  {
   "cell_type": "code",
   "execution_count": 20,
   "metadata": {},
   "outputs": [
    {
     "data": {
      "text/plain": [
       "(300, 2)"
      ]
     },
     "execution_count": 20,
     "metadata": {},
     "output_type": "execute_result"
    }
   ],
   "source": [
    "X_test.shape"
   ]
  },
  {
   "cell_type": "code",
   "execution_count": 21,
   "metadata": {},
   "outputs": [],
   "source": [
    "from sklearn.preprocessing import MinMaxScaler"
   ]
  },
  {
   "cell_type": "code",
   "execution_count": 22,
   "metadata": {},
   "outputs": [
    {
     "name": "stdout",
     "output_type": "stream",
     "text": [
      "Help on class MinMaxScaler in module sklearn.preprocessing._data:\n",
      "\n",
      "class MinMaxScaler(sklearn.base._OneToOneFeatureMixin, sklearn.base.TransformerMixin, sklearn.base.BaseEstimator)\n",
      " |  MinMaxScaler(feature_range=(0, 1), *, copy=True, clip=False)\n",
      " |  \n",
      " |  Transform features by scaling each feature to a given range.\n",
      " |  \n",
      " |  This estimator scales and translates each feature individually such\n",
      " |  that it is in the given range on the training set, e.g. between\n",
      " |  zero and one.\n",
      " |  \n",
      " |  The transformation is given by::\n",
      " |  \n",
      " |      X_std = (X - X.min(axis=0)) / (X.max(axis=0) - X.min(axis=0))\n",
      " |      X_scaled = X_std * (max - min) + min\n",
      " |  \n",
      " |  where min, max = feature_range.\n",
      " |  \n",
      " |  This transformation is often used as an alternative to zero mean,\n",
      " |  unit variance scaling.\n",
      " |  \n",
      " |  Read more in the :ref:`User Guide <preprocessing_scaler>`.\n",
      " |  \n",
      " |  Parameters\n",
      " |  ----------\n",
      " |  feature_range : tuple (min, max), default=(0, 1)\n",
      " |      Desired range of transformed data.\n",
      " |  \n",
      " |  copy : bool, default=True\n",
      " |      Set to False to perform inplace row normalization and avoid a\n",
      " |      copy (if the input is already a numpy array).\n",
      " |  \n",
      " |  clip : bool, default=False\n",
      " |      Set to True to clip transformed values of held-out data to\n",
      " |      provided `feature range`.\n",
      " |  \n",
      " |      .. versionadded:: 0.24\n",
      " |  \n",
      " |  Attributes\n",
      " |  ----------\n",
      " |  min_ : ndarray of shape (n_features,)\n",
      " |      Per feature adjustment for minimum. Equivalent to\n",
      " |      ``min - X.min(axis=0) * self.scale_``\n",
      " |  \n",
      " |  scale_ : ndarray of shape (n_features,)\n",
      " |      Per feature relative scaling of the data. Equivalent to\n",
      " |      ``(max - min) / (X.max(axis=0) - X.min(axis=0))``\n",
      " |  \n",
      " |      .. versionadded:: 0.17\n",
      " |         *scale_* attribute.\n",
      " |  \n",
      " |  data_min_ : ndarray of shape (n_features,)\n",
      " |      Per feature minimum seen in the data\n",
      " |  \n",
      " |      .. versionadded:: 0.17\n",
      " |         *data_min_*\n",
      " |  \n",
      " |  data_max_ : ndarray of shape (n_features,)\n",
      " |      Per feature maximum seen in the data\n",
      " |  \n",
      " |      .. versionadded:: 0.17\n",
      " |         *data_max_*\n",
      " |  \n",
      " |  data_range_ : ndarray of shape (n_features,)\n",
      " |      Per feature range ``(data_max_ - data_min_)`` seen in the data\n",
      " |  \n",
      " |      .. versionadded:: 0.17\n",
      " |         *data_range_*\n",
      " |  \n",
      " |  n_features_in_ : int\n",
      " |      Number of features seen during :term:`fit`.\n",
      " |  \n",
      " |      .. versionadded:: 0.24\n",
      " |  \n",
      " |  n_samples_seen_ : int\n",
      " |      The number of samples processed by the estimator.\n",
      " |      It will be reset on new calls to fit, but increments across\n",
      " |      ``partial_fit`` calls.\n",
      " |  \n",
      " |  feature_names_in_ : ndarray of shape (`n_features_in_`,)\n",
      " |      Names of features seen during :term:`fit`. Defined only when `X`\n",
      " |      has feature names that are all strings.\n",
      " |  \n",
      " |      .. versionadded:: 1.0\n",
      " |  \n",
      " |  See Also\n",
      " |  --------\n",
      " |  minmax_scale : Equivalent function without the estimator API.\n",
      " |  \n",
      " |  Notes\n",
      " |  -----\n",
      " |  NaNs are treated as missing values: disregarded in fit, and maintained in\n",
      " |  transform.\n",
      " |  \n",
      " |  For a comparison of the different scalers, transformers, and normalizers,\n",
      " |  see :ref:`examples/preprocessing/plot_all_scaling.py\n",
      " |  <sphx_glr_auto_examples_preprocessing_plot_all_scaling.py>`.\n",
      " |  \n",
      " |  Examples\n",
      " |  --------\n",
      " |  >>> from sklearn.preprocessing import MinMaxScaler\n",
      " |  >>> data = [[-1, 2], [-0.5, 6], [0, 10], [1, 18]]\n",
      " |  >>> scaler = MinMaxScaler()\n",
      " |  >>> print(scaler.fit(data))\n",
      " |  MinMaxScaler()\n",
      " |  >>> print(scaler.data_max_)\n",
      " |  [ 1. 18.]\n",
      " |  >>> print(scaler.transform(data))\n",
      " |  [[0.   0.  ]\n",
      " |   [0.25 0.25]\n",
      " |   [0.5  0.5 ]\n",
      " |   [1.   1.  ]]\n",
      " |  >>> print(scaler.transform([[2, 2]]))\n",
      " |  [[1.5 0. ]]\n",
      " |  \n",
      " |  Method resolution order:\n",
      " |      MinMaxScaler\n",
      " |      sklearn.base._OneToOneFeatureMixin\n",
      " |      sklearn.base.TransformerMixin\n",
      " |      sklearn.base.BaseEstimator\n",
      " |      builtins.object\n",
      " |  \n",
      " |  Methods defined here:\n",
      " |  \n",
      " |  __init__(self, feature_range=(0, 1), *, copy=True, clip=False)\n",
      " |      Initialize self.  See help(type(self)) for accurate signature.\n",
      " |  \n",
      " |  fit(self, X, y=None)\n",
      " |      Compute the minimum and maximum to be used for later scaling.\n",
      " |      \n",
      " |      Parameters\n",
      " |      ----------\n",
      " |      X : array-like of shape (n_samples, n_features)\n",
      " |          The data used to compute the per-feature minimum and maximum\n",
      " |          used for later scaling along the features axis.\n",
      " |      \n",
      " |      y : None\n",
      " |          Ignored.\n",
      " |      \n",
      " |      Returns\n",
      " |      -------\n",
      " |      self : object\n",
      " |          Fitted scaler.\n",
      " |  \n",
      " |  inverse_transform(self, X)\n",
      " |      Undo the scaling of X according to feature_range.\n",
      " |      \n",
      " |      Parameters\n",
      " |      ----------\n",
      " |      X : array-like of shape (n_samples, n_features)\n",
      " |          Input data that will be transformed. It cannot be sparse.\n",
      " |      \n",
      " |      Returns\n",
      " |      -------\n",
      " |      Xt : ndarray of shape (n_samples, n_features)\n",
      " |          Transformed data.\n",
      " |  \n",
      " |  partial_fit(self, X, y=None)\n",
      " |      Online computation of min and max on X for later scaling.\n",
      " |      \n",
      " |      All of X is processed as a single batch. This is intended for cases\n",
      " |      when :meth:`fit` is not feasible due to very large number of\n",
      " |      `n_samples` or because X is read from a continuous stream.\n",
      " |      \n",
      " |      Parameters\n",
      " |      ----------\n",
      " |      X : array-like of shape (n_samples, n_features)\n",
      " |          The data used to compute the mean and standard deviation\n",
      " |          used for later scaling along the features axis.\n",
      " |      \n",
      " |      y : None\n",
      " |          Ignored.\n",
      " |      \n",
      " |      Returns\n",
      " |      -------\n",
      " |      self : object\n",
      " |          Fitted scaler.\n",
      " |  \n",
      " |  transform(self, X)\n",
      " |      Scale features of X according to feature_range.\n",
      " |      \n",
      " |      Parameters\n",
      " |      ----------\n",
      " |      X : array-like of shape (n_samples, n_features)\n",
      " |          Input data that will be transformed.\n",
      " |      \n",
      " |      Returns\n",
      " |      -------\n",
      " |      Xt : ndarray of shape (n_samples, n_features)\n",
      " |          Transformed data.\n",
      " |  \n",
      " |  ----------------------------------------------------------------------\n",
      " |  Methods inherited from sklearn.base._OneToOneFeatureMixin:\n",
      " |  \n",
      " |  get_feature_names_out(self, input_features=None)\n",
      " |      Get output feature names for transformation.\n",
      " |      \n",
      " |      Parameters\n",
      " |      ----------\n",
      " |      input_features : array-like of str or None, default=None\n",
      " |          Input features.\n",
      " |      \n",
      " |          - If `input_features` is `None`, then `feature_names_in_` is\n",
      " |            used as feature names in. If `feature_names_in_` is not defined,\n",
      " |            then names are generated: `[x0, x1, ..., x(n_features_in_)]`.\n",
      " |          - If `input_features` is an array-like, then `input_features` must\n",
      " |            match `feature_names_in_` if `feature_names_in_` is defined.\n",
      " |      \n",
      " |      Returns\n",
      " |      -------\n",
      " |      feature_names_out : ndarray of str objects\n",
      " |          Same as input features.\n",
      " |  \n",
      " |  ----------------------------------------------------------------------\n",
      " |  Data descriptors inherited from sklearn.base._OneToOneFeatureMixin:\n",
      " |  \n",
      " |  __dict__\n",
      " |      dictionary for instance variables (if defined)\n",
      " |  \n",
      " |  __weakref__\n",
      " |      list of weak references to the object (if defined)\n",
      " |  \n",
      " |  ----------------------------------------------------------------------\n",
      " |  Methods inherited from sklearn.base.TransformerMixin:\n",
      " |  \n",
      " |  fit_transform(self, X, y=None, **fit_params)\n",
      " |      Fit to data, then transform it.\n",
      " |      \n",
      " |      Fits transformer to `X` and `y` with optional parameters `fit_params`\n",
      " |      and returns a transformed version of `X`.\n",
      " |      \n",
      " |      Parameters\n",
      " |      ----------\n",
      " |      X : array-like of shape (n_samples, n_features)\n",
      " |          Input samples.\n",
      " |      \n",
      " |      y :  array-like of shape (n_samples,) or (n_samples, n_outputs),                 default=None\n",
      " |          Target values (None for unsupervised transformations).\n",
      " |      \n",
      " |      **fit_params : dict\n",
      " |          Additional fit parameters.\n",
      " |      \n",
      " |      Returns\n",
      " |      -------\n",
      " |      X_new : ndarray array of shape (n_samples, n_features_new)\n",
      " |          Transformed array.\n",
      " |  \n",
      " |  ----------------------------------------------------------------------\n",
      " |  Methods inherited from sklearn.base.BaseEstimator:\n",
      " |  \n",
      " |  __getstate__(self)\n",
      " |  \n",
      " |  __repr__(self, N_CHAR_MAX=700)\n",
      " |      Return repr(self).\n",
      " |  \n",
      " |  __setstate__(self, state)\n",
      " |  \n",
      " |  get_params(self, deep=True)\n",
      " |      Get parameters for this estimator.\n",
      " |      \n",
      " |      Parameters\n",
      " |      ----------\n",
      " |      deep : bool, default=True\n",
      " |          If True, will return the parameters for this estimator and\n",
      " |          contained subobjects that are estimators.\n",
      " |      \n",
      " |      Returns\n",
      " |      -------\n",
      " |      params : dict\n",
      " |          Parameter names mapped to their values.\n",
      " |  \n",
      " |  set_params(self, **params)\n",
      " |      Set the parameters of this estimator.\n",
      " |      \n",
      " |      The method works on simple estimators as well as on nested objects\n",
      " |      (such as :class:`~sklearn.pipeline.Pipeline`). The latter have\n",
      " |      parameters of the form ``<component>__<parameter>`` so that it's\n",
      " |      possible to update each component of a nested object.\n",
      " |      \n",
      " |      Parameters\n",
      " |      ----------\n",
      " |      **params : dict\n",
      " |          Estimator parameters.\n",
      " |      \n",
      " |      Returns\n",
      " |      -------\n",
      " |      self : estimator instance\n",
      " |          Estimator instance.\n",
      "\n"
     ]
    }
   ],
   "source": [
    "help(MinMaxScaler)"
   ]
  },
  {
   "cell_type": "code",
   "execution_count": 23,
   "metadata": {},
   "outputs": [],
   "source": [
    "scaler = MinMaxScaler()"
   ]
  },
  {
   "cell_type": "code",
   "execution_count": 24,
   "metadata": {},
   "outputs": [],
   "source": [
    "scaler.fit(X_train)\n",
    "X_train = scaler.transform(X_train)\n",
    "X_test = scaler.transform(X_test)"
   ]
  },
  {
   "cell_type": "markdown",
   "metadata": {},
   "source": [
    "## Modelling"
   ]
  },
  {
   "cell_type": "code",
   "execution_count": 25,
   "metadata": {},
   "outputs": [],
   "source": [
    "import tensorflow as tf"
   ]
  },
  {
   "cell_type": "code",
   "execution_count": 26,
   "metadata": {},
   "outputs": [],
   "source": [
    "from tensorflow.keras.models import Sequential\n",
    "from tensorflow.keras.layers import Input,Dense, Activation"
   ]
  },
  {
   "cell_type": "code",
   "execution_count": 27,
   "metadata": {},
   "outputs": [],
   "source": [
    "# help(Sequential)"
   ]
  },
  {
   "cell_type": "code",
   "execution_count": 28,
   "metadata": {},
   "outputs": [],
   "source": [
    "# help(Dense)"
   ]
  },
  {
   "cell_type": "code",
   "execution_count": 29,
   "metadata": {},
   "outputs": [
    {
     "data": {
      "text/plain": [
       "(700, 2)"
      ]
     },
     "execution_count": 29,
     "metadata": {},
     "output_type": "execute_result"
    }
   ],
   "source": [
    "X_train.shape"
   ]
  },
  {
   "cell_type": "code",
   "execution_count": 30,
   "metadata": {},
   "outputs": [],
   "source": [
    "# First way to create model\n",
    "\n",
    "model = Sequential([Input(shape = X_train.shape[1]),\n",
    "                    Dense(units = 4, activation = \"relu\"),\n",
    "                    Dense(units = 4, activation = \"relu\"),\n",
    "                    Dense(units = 4, activation = \"relu\"),\n",
    "                    Dense(units = 1)])"
   ]
  },
  {
   "cell_type": "code",
   "execution_count": 31,
   "metadata": {},
   "outputs": [],
   "source": [
    "# Second way to create model (recommended)\n",
    "\n",
    "model = Sequential()\n",
    "#model.add(Input(shape = X_train.shape[1]))\n",
    "model.add(Dense(units = 4, activation = \"relu\", input_dim = X_train.shape[1]))\n",
    "model.add(Dense(units = 4, activation = \"relu\"))\n",
    "model.add(Dense(units = 4, activation = \"relu\"))\n",
    "model.add(Dense(units = 1))"
   ]
  },
  {
   "cell_type": "code",
   "execution_count": 32,
   "metadata": {},
   "outputs": [
    {
     "name": "stdout",
     "output_type": "stream",
     "text": [
      "Model: \"sequential_1\"\n",
      "_________________________________________________________________\n",
      " Layer (type)                Output Shape              Param #   \n",
      "=================================================================\n",
      " dense_4 (Dense)             (None, 4)                 12        \n",
      "                                                                 \n",
      " dense_5 (Dense)             (None, 4)                 20        \n",
      "                                                                 \n",
      " dense_6 (Dense)             (None, 4)                 20        \n",
      "                                                                 \n",
      " dense_7 (Dense)             (None, 1)                 5         \n",
      "                                                                 \n",
      "=================================================================\n",
      "Total params: 57\n",
      "Trainable params: 57\n",
      "Non-trainable params: 0\n",
      "_________________________________________________________________\n"
     ]
    }
   ],
   "source": [
    "model.summary()"
   ]
  },
  {
   "cell_type": "code",
   "execution_count": 33,
   "metadata": {},
   "outputs": [
    {
     "data": {
      "text/plain": [
       "[<tf.Variable 'dense_4/kernel:0' shape=(2, 4) dtype=float32, numpy=\n",
       " array([[-0.42178655, -0.8252635 ,  0.6323354 ,  0.49813223],\n",
       "        [-0.3147695 ,  0.32166147, -0.29462838, -0.43074226]],\n",
       "       dtype=float32)>,\n",
       " <tf.Variable 'dense_4/bias:0' shape=(4,) dtype=float32, numpy=array([0., 0., 0., 0.], dtype=float32)>,\n",
       " <tf.Variable 'dense_5/kernel:0' shape=(4, 4) dtype=float32, numpy=\n",
       " array([[-0.48151156, -0.16039348, -0.4090073 ,  0.5172078 ],\n",
       "        [-0.41297993,  0.29274982,  0.26818782,  0.33366054],\n",
       "        [ 0.33297604,  0.56904525,  0.16383046, -0.24787176],\n",
       "        [ 0.36022252, -0.7123162 ,  0.32849425,  0.19970804]],\n",
       "       dtype=float32)>,\n",
       " <tf.Variable 'dense_5/bias:0' shape=(4,) dtype=float32, numpy=array([0., 0., 0., 0.], dtype=float32)>,\n",
       " <tf.Variable 'dense_6/kernel:0' shape=(4, 4) dtype=float32, numpy=\n",
       " array([[ 0.57433933, -0.18274415,  0.84963864, -0.1765176 ],\n",
       "        [ 0.28738993, -0.05151278,  0.34488457, -0.40945598],\n",
       "        [-0.61423695,  0.86556643,  0.49005347,  0.48679966],\n",
       "        [-0.57254374, -0.19140065,  0.4753235 , -0.2449072 ]],\n",
       "       dtype=float32)>,\n",
       " <tf.Variable 'dense_6/bias:0' shape=(4,) dtype=float32, numpy=array([0., 0., 0., 0.], dtype=float32)>,\n",
       " <tf.Variable 'dense_7/kernel:0' shape=(4, 1) dtype=float32, numpy=\n",
       " array([[0.76768684],\n",
       "        [0.62477195],\n",
       "        [0.30435026],\n",
       "        [0.8003255 ]], dtype=float32)>,\n",
       " <tf.Variable 'dense_7/bias:0' shape=(1,) dtype=float32, numpy=array([0.], dtype=float32)>]"
      ]
     },
     "execution_count": 33,
     "metadata": {},
     "output_type": "execute_result"
    }
   ],
   "source": [
    "model.weights"
   ]
  },
  {
   "cell_type": "markdown",
   "metadata": {},
   "source": [
    "### Choosing an optimizer and loss\n",
    "\n",
    "Keep in mind what kind of problem you are trying to solve:\n",
    "\n",
    "    # For a multi-class classification problem\n",
    "    model.compile(optimizer='rmsprop',\n",
    "                  loss='categorical_crossentropy',\n",
    "                  metrics=['accuracy'])\n",
    "\n",
    "    # For a binary classification problem\n",
    "    model.compile(optimizer='rmsprop',\n",
    "                  loss='binary_crossentropy',\n",
    "                  metrics=['accuracy'])\n",
    "\n",
    "    # For a mean squared error regression problem\n",
    "    model.compile(optimizer='rmsprop',\n",
    "                  loss='mse')"
   ]
  },
  {
   "cell_type": "code",
   "execution_count": 34,
   "metadata": {},
   "outputs": [],
   "source": [
    "model.compile(optimizer = \"rmsprop\", loss = \"mse\")"
   ]
  },
  {
   "cell_type": "code",
   "execution_count": 35,
   "metadata": {},
   "outputs": [
    {
     "name": "stdout",
     "output_type": "stream",
     "text": [
      "Epoch 1/250\n",
      "22/22 [==============================] - 2s 3ms/step - loss: 256557.3438\n",
      "Epoch 2/250\n",
      "22/22 [==============================] - 0s 3ms/step - loss: 256344.2344\n",
      "Epoch 3/250\n",
      "22/22 [==============================] - 0s 3ms/step - loss: 256098.7188\n",
      "Epoch 4/250\n",
      "22/22 [==============================] - 0s 2ms/step - loss: 255805.3438\n",
      "Epoch 5/250\n",
      "22/22 [==============================] - 0s 3ms/step - loss: 255451.1250\n",
      "Epoch 6/250\n",
      "22/22 [==============================] - 0s 2ms/step - loss: 255026.1875\n",
      "Epoch 7/250\n",
      "22/22 [==============================] - 0s 3ms/step - loss: 254521.6250\n",
      "Epoch 8/250\n",
      "22/22 [==============================] - 0s 3ms/step - loss: 253934.5156\n",
      "Epoch 9/250\n",
      "22/22 [==============================] - 0s 2ms/step - loss: 253247.4219\n",
      "Epoch 10/250\n",
      "22/22 [==============================] - 0s 3ms/step - loss: 252451.2188\n",
      "Epoch 11/250\n",
      "22/22 [==============================] - 0s 3ms/step - loss: 251538.0156\n",
      "Epoch 12/250\n",
      "22/22 [==============================] - 0s 4ms/step - loss: 250498.2188\n",
      "Epoch 13/250\n",
      "22/22 [==============================] - 0s 3ms/step - loss: 249326.7812\n",
      "Epoch 14/250\n",
      "22/22 [==============================] - 0s 4ms/step - loss: 248000.0469\n",
      "Epoch 15/250\n",
      "22/22 [==============================] - 0s 3ms/step - loss: 246519.7656\n",
      "Epoch 16/250\n",
      "22/22 [==============================] - 0s 3ms/step - loss: 244870.8594\n",
      "Epoch 17/250\n",
      "22/22 [==============================] - 0s 2ms/step - loss: 243041.8281\n",
      "Epoch 18/250\n",
      "22/22 [==============================] - 0s 3ms/step - loss: 241026.2812\n",
      "Epoch 19/250\n",
      "22/22 [==============================] - 0s 3ms/step - loss: 238804.5312\n",
      "Epoch 20/250\n",
      "22/22 [==============================] - 0s 2ms/step - loss: 236378.1250\n",
      "Epoch 21/250\n",
      "22/22 [==============================] - 0s 3ms/step - loss: 233730.8594\n",
      "Epoch 22/250\n",
      "22/22 [==============================] - 0s 3ms/step - loss: 230848.5000\n",
      "Epoch 23/250\n",
      "22/22 [==============================] - 0s 2ms/step - loss: 227721.7812\n",
      "Epoch 24/250\n",
      "22/22 [==============================] - 0s 3ms/step - loss: 224349.0312\n",
      "Epoch 25/250\n",
      "22/22 [==============================] - 0s 3ms/step - loss: 220705.9375\n",
      "Epoch 26/250\n",
      "22/22 [==============================] - 0s 2ms/step - loss: 216813.6406\n",
      "Epoch 27/250\n",
      "22/22 [==============================] - 0s 3ms/step - loss: 212635.2969\n",
      "Epoch 28/250\n",
      "22/22 [==============================] - 0s 3ms/step - loss: 208189.0312\n",
      "Epoch 29/250\n",
      "22/22 [==============================] - 0s 3ms/step - loss: 203449.7344\n",
      "Epoch 30/250\n",
      "22/22 [==============================] - 0s 2ms/step - loss: 198407.9375\n",
      "Epoch 31/250\n",
      "22/22 [==============================] - 0s 3ms/step - loss: 193080.0625\n",
      "Epoch 32/250\n",
      "22/22 [==============================] - 0s 3ms/step - loss: 187475.2031\n",
      "Epoch 33/250\n",
      "22/22 [==============================] - 0s 2ms/step - loss: 181579.5312\n",
      "Epoch 34/250\n",
      "22/22 [==============================] - 0s 3ms/step - loss: 175377.5469\n",
      "Epoch 35/250\n",
      "22/22 [==============================] - 0s 3ms/step - loss: 168904.5625\n",
      "Epoch 36/250\n",
      "22/22 [==============================] - 0s 3ms/step - loss: 162148.3594\n",
      "Epoch 37/250\n",
      "22/22 [==============================] - 0s 4ms/step - loss: 155155.6406\n",
      "Epoch 38/250\n",
      "22/22 [==============================] - 0s 3ms/step - loss: 147906.6406\n",
      "Epoch 39/250\n",
      "22/22 [==============================] - 0s 3ms/step - loss: 140447.7656\n",
      "Epoch 40/250\n",
      "22/22 [==============================] - 0s 3ms/step - loss: 132665.0625\n",
      "Epoch 41/250\n",
      "22/22 [==============================] - 0s 3ms/step - loss: 124718.8125\n",
      "Epoch 42/250\n",
      "22/22 [==============================] - 0s 4ms/step - loss: 116630.9922\n",
      "Epoch 43/250\n",
      "22/22 [==============================] - 0s 4ms/step - loss: 108440.0938\n",
      "Epoch 44/250\n",
      "22/22 [==============================] - 0s 4ms/step - loss: 100109.6484\n",
      "Epoch 45/250\n",
      "22/22 [==============================] - 0s 3ms/step - loss: 91756.3594\n",
      "Epoch 46/250\n",
      "22/22 [==============================] - 0s 3ms/step - loss: 83340.7031\n",
      "Epoch 47/250\n",
      "22/22 [==============================] - 0s 3ms/step - loss: 74974.0078\n",
      "Epoch 48/250\n",
      "22/22 [==============================] - 0s 4ms/step - loss: 66691.8203\n",
      "Epoch 49/250\n",
      "22/22 [==============================] - 0s 3ms/step - loss: 58591.2227\n",
      "Epoch 50/250\n",
      "22/22 [==============================] - 0s 3ms/step - loss: 50710.8398\n",
      "Epoch 51/250\n",
      "22/22 [==============================] - 0s 4ms/step - loss: 43115.8789\n",
      "Epoch 52/250\n",
      "22/22 [==============================] - 0s 4ms/step - loss: 35894.0547\n",
      "Epoch 53/250\n",
      "22/22 [==============================] - 0s 3ms/step - loss: 29198.5859\n",
      "Epoch 54/250\n",
      "22/22 [==============================] - 0s 3ms/step - loss: 23056.0430\n",
      "Epoch 55/250\n",
      "22/22 [==============================] - 0s 2ms/step - loss: 17535.6758\n",
      "Epoch 56/250\n",
      "22/22 [==============================] - 0s 2ms/step - loss: 12761.7861\n",
      "Epoch 57/250\n",
      "22/22 [==============================] - 0s 2ms/step - loss: 8812.5498\n",
      "Epoch 58/250\n",
      "22/22 [==============================] - 0s 2ms/step - loss: 5837.6694\n",
      "Epoch 59/250\n",
      "22/22 [==============================] - 0s 2ms/step - loss: 3913.7019\n",
      "Epoch 60/250\n",
      "22/22 [==============================] - 0s 2ms/step - loss: 2884.0054\n",
      "Epoch 61/250\n",
      "22/22 [==============================] - 0s 2ms/step - loss: 2580.5845\n",
      "Epoch 62/250\n",
      "22/22 [==============================] - 0s 2ms/step - loss: 2517.0322\n",
      "Epoch 63/250\n",
      "22/22 [==============================] - 0s 2ms/step - loss: 2465.3674\n",
      "Epoch 64/250\n",
      "22/22 [==============================] - 0s 2ms/step - loss: 2414.7339\n",
      "Epoch 65/250\n",
      "22/22 [==============================] - 0s 3ms/step - loss: 2355.4487\n",
      "Epoch 66/250\n",
      "22/22 [==============================] - 0s 3ms/step - loss: 2304.0801\n",
      "Epoch 67/250\n",
      "22/22 [==============================] - 0s 3ms/step - loss: 2251.6064\n",
      "Epoch 68/250\n",
      "22/22 [==============================] - 0s 3ms/step - loss: 2197.8518\n",
      "Epoch 69/250\n",
      "22/22 [==============================] - 0s 3ms/step - loss: 2148.1106\n",
      "Epoch 70/250\n",
      "22/22 [==============================] - 0s 3ms/step - loss: 2094.9915\n",
      "Epoch 71/250\n",
      "22/22 [==============================] - 0s 2ms/step - loss: 2044.6418\n",
      "Epoch 72/250\n",
      "22/22 [==============================] - 0s 3ms/step - loss: 1997.0223\n",
      "Epoch 73/250\n",
      "22/22 [==============================] - 0s 3ms/step - loss: 1949.4911\n",
      "Epoch 74/250\n",
      "22/22 [==============================] - 0s 2ms/step - loss: 1904.0193\n",
      "Epoch 75/250\n",
      "22/22 [==============================] - 0s 2ms/step - loss: 1854.1614\n",
      "Epoch 76/250\n",
      "22/22 [==============================] - 0s 2ms/step - loss: 1803.7356\n",
      "Epoch 77/250\n",
      "22/22 [==============================] - 0s 3ms/step - loss: 1756.9962\n",
      "Epoch 78/250\n",
      "22/22 [==============================] - 0s 2ms/step - loss: 1704.0144\n",
      "Epoch 79/250\n",
      "22/22 [==============================] - 0s 3ms/step - loss: 1665.9363\n",
      "Epoch 80/250\n",
      "22/22 [==============================] - 0s 2ms/step - loss: 1619.5171\n",
      "Epoch 81/250\n",
      "22/22 [==============================] - 0s 2ms/step - loss: 1574.4955\n",
      "Epoch 82/250\n",
      "22/22 [==============================] - 0s 2ms/step - loss: 1526.4510\n",
      "Epoch 83/250\n",
      "22/22 [==============================] - 0s 2ms/step - loss: 1474.3273\n",
      "Epoch 84/250\n",
      "22/22 [==============================] - 0s 2ms/step - loss: 1436.2893\n",
      "Epoch 85/250\n",
      "22/22 [==============================] - 0s 2ms/step - loss: 1381.8949\n",
      "Epoch 86/250\n",
      "22/22 [==============================] - 0s 2ms/step - loss: 1343.5499\n",
      "Epoch 87/250\n",
      "22/22 [==============================] - 0s 2ms/step - loss: 1298.4353\n",
      "Epoch 88/250\n",
      "22/22 [==============================] - 0s 2ms/step - loss: 1263.5342\n",
      "Epoch 89/250\n",
      "22/22 [==============================] - 0s 2ms/step - loss: 1227.0361\n",
      "Epoch 90/250\n",
      "22/22 [==============================] - 0s 2ms/step - loss: 1182.2526\n",
      "Epoch 91/250\n",
      "22/22 [==============================] - 0s 2ms/step - loss: 1144.7732\n",
      "Epoch 92/250\n",
      "22/22 [==============================] - 0s 2ms/step - loss: 1101.6667\n",
      "Epoch 93/250\n",
      "22/22 [==============================] - 0s 2ms/step - loss: 1068.2942\n",
      "Epoch 94/250\n",
      "22/22 [==============================] - 0s 2ms/step - loss: 1028.7516\n",
      "Epoch 95/250\n",
      "22/22 [==============================] - 0s 2ms/step - loss: 994.8859\n",
      "Epoch 96/250\n",
      "22/22 [==============================] - 0s 3ms/step - loss: 952.1517\n",
      "Epoch 97/250\n"
     ]
    },
    {
     "name": "stdout",
     "output_type": "stream",
     "text": [
      "22/22 [==============================] - 0s 2ms/step - loss: 913.4502\n",
      "Epoch 98/250\n",
      "22/22 [==============================] - 0s 2ms/step - loss: 874.0522\n",
      "Epoch 99/250\n",
      "22/22 [==============================] - 0s 2ms/step - loss: 836.3837\n",
      "Epoch 100/250\n",
      "22/22 [==============================] - 0s 2ms/step - loss: 806.1236\n",
      "Epoch 101/250\n",
      "22/22 [==============================] - 0s 2ms/step - loss: 769.5367\n",
      "Epoch 102/250\n",
      "22/22 [==============================] - 0s 2ms/step - loss: 733.8755\n",
      "Epoch 103/250\n",
      "22/22 [==============================] - 0s 2ms/step - loss: 702.6961\n",
      "Epoch 104/250\n",
      "22/22 [==============================] - 0s 2ms/step - loss: 669.4742\n",
      "Epoch 105/250\n",
      "22/22 [==============================] - 0s 2ms/step - loss: 636.9260\n",
      "Epoch 106/250\n",
      "22/22 [==============================] - 0s 2ms/step - loss: 605.3981\n",
      "Epoch 107/250\n",
      "22/22 [==============================] - 0s 2ms/step - loss: 576.1213\n",
      "Epoch 108/250\n",
      "22/22 [==============================] - 0s 4ms/step - loss: 547.0398\n",
      "Epoch 109/250\n",
      "22/22 [==============================] - 0s 2ms/step - loss: 513.2211\n",
      "Epoch 110/250\n",
      "22/22 [==============================] - 0s 2ms/step - loss: 483.5800\n",
      "Epoch 111/250\n",
      "22/22 [==============================] - 0s 2ms/step - loss: 453.6525\n",
      "Epoch 112/250\n",
      "22/22 [==============================] - 0s 2ms/step - loss: 428.2263\n",
      "Epoch 113/250\n",
      "22/22 [==============================] - 0s 2ms/step - loss: 402.0208\n",
      "Epoch 114/250\n",
      "22/22 [==============================] - 0s 2ms/step - loss: 378.2070\n",
      "Epoch 115/250\n",
      "22/22 [==============================] - 0s 2ms/step - loss: 352.3744\n",
      "Epoch 116/250\n",
      "22/22 [==============================] - 0s 2ms/step - loss: 324.7566\n",
      "Epoch 117/250\n",
      "22/22 [==============================] - 0s 2ms/step - loss: 295.9846\n",
      "Epoch 118/250\n",
      "22/22 [==============================] - 0s 2ms/step - loss: 274.2987\n",
      "Epoch 119/250\n",
      "22/22 [==============================] - 0s 2ms/step - loss: 253.3186\n",
      "Epoch 120/250\n",
      "22/22 [==============================] - 0s 2ms/step - loss: 236.2441\n",
      "Epoch 121/250\n",
      "22/22 [==============================] - 0s 2ms/step - loss: 216.3141\n",
      "Epoch 122/250\n",
      "22/22 [==============================] - 0s 2ms/step - loss: 198.9864\n",
      "Epoch 123/250\n",
      "22/22 [==============================] - 0s 2ms/step - loss: 182.8234\n",
      "Epoch 124/250\n",
      "22/22 [==============================] - 0s 2ms/step - loss: 167.8110\n",
      "Epoch 125/250\n",
      "22/22 [==============================] - 0s 2ms/step - loss: 152.7167\n",
      "Epoch 126/250\n",
      "22/22 [==============================] - 0s 2ms/step - loss: 141.1861\n",
      "Epoch 127/250\n",
      "22/22 [==============================] - 0s 2ms/step - loss: 125.5360\n",
      "Epoch 128/250\n",
      "22/22 [==============================] - 0s 2ms/step - loss: 114.4327\n",
      "Epoch 129/250\n",
      "22/22 [==============================] - 0s 2ms/step - loss: 103.7459\n",
      "Epoch 130/250\n",
      "22/22 [==============================] - 0s 2ms/step - loss: 94.9679\n",
      "Epoch 131/250\n",
      "22/22 [==============================] - 0s 2ms/step - loss: 85.5369\n",
      "Epoch 132/250\n",
      "22/22 [==============================] - 0s 2ms/step - loss: 78.1030\n",
      "Epoch 133/250\n",
      "22/22 [==============================] - 0s 2ms/step - loss: 69.6225\n",
      "Epoch 134/250\n",
      "22/22 [==============================] - 0s 2ms/step - loss: 63.1009\n",
      "Epoch 135/250\n",
      "22/22 [==============================] - 0s 2ms/step - loss: 57.2165\n",
      "Epoch 136/250\n",
      "22/22 [==============================] - 0s 2ms/step - loss: 51.9806\n",
      "Epoch 137/250\n",
      "22/22 [==============================] - 0s 2ms/step - loss: 47.4903\n",
      "Epoch 138/250\n",
      "22/22 [==============================] - 0s 2ms/step - loss: 42.3419\n",
      "Epoch 139/250\n",
      "22/22 [==============================] - 0s 2ms/step - loss: 38.8647\n",
      "Epoch 140/250\n",
      "22/22 [==============================] - 0s 2ms/step - loss: 35.9145\n",
      "Epoch 141/250\n",
      "22/22 [==============================] - 0s 2ms/step - loss: 33.6154\n",
      "Epoch 142/250\n",
      "22/22 [==============================] - 0s 2ms/step - loss: 30.9404\n",
      "Epoch 143/250\n",
      "22/22 [==============================] - 0s 2ms/step - loss: 30.0839\n",
      "Epoch 144/250\n",
      "22/22 [==============================] - 0s 2ms/step - loss: 28.8297\n",
      "Epoch 145/250\n",
      "22/22 [==============================] - 0s 2ms/step - loss: 28.1817\n",
      "Epoch 146/250\n",
      "22/22 [==============================] - 0s 2ms/step - loss: 27.1144\n",
      "Epoch 147/250\n",
      "22/22 [==============================] - 0s 2ms/step - loss: 26.4357\n",
      "Epoch 148/250\n",
      "22/22 [==============================] - 0s 2ms/step - loss: 26.2101\n",
      "Epoch 149/250\n",
      "22/22 [==============================] - 0s 2ms/step - loss: 25.3391\n",
      "Epoch 150/250\n",
      "22/22 [==============================] - 0s 2ms/step - loss: 25.3431\n",
      "Epoch 151/250\n",
      "22/22 [==============================] - 0s 2ms/step - loss: 25.4203\n",
      "Epoch 152/250\n",
      "22/22 [==============================] - 0s 2ms/step - loss: 25.2581\n",
      "Epoch 153/250\n",
      "22/22 [==============================] - 0s 2ms/step - loss: 24.5162\n",
      "Epoch 154/250\n",
      "22/22 [==============================] - 0s 2ms/step - loss: 25.0060\n",
      "Epoch 155/250\n",
      "22/22 [==============================] - 0s 2ms/step - loss: 24.9464\n",
      "Epoch 156/250\n",
      "22/22 [==============================] - 0s 2ms/step - loss: 24.6622\n",
      "Epoch 157/250\n",
      "22/22 [==============================] - 0s 2ms/step - loss: 24.6724\n",
      "Epoch 158/250\n",
      "22/22 [==============================] - 0s 2ms/step - loss: 24.6152\n",
      "Epoch 159/250\n",
      "22/22 [==============================] - 0s 3ms/step - loss: 24.4507\n",
      "Epoch 160/250\n",
      "22/22 [==============================] - 0s 2ms/step - loss: 25.0498\n",
      "Epoch 161/250\n",
      "22/22 [==============================] - 0s 2ms/step - loss: 24.6067\n",
      "Epoch 162/250\n",
      "22/22 [==============================] - 0s 2ms/step - loss: 24.3594\n",
      "Epoch 163/250\n",
      "22/22 [==============================] - 0s 2ms/step - loss: 24.3012\n",
      "Epoch 164/250\n",
      "22/22 [==============================] - 0s 2ms/step - loss: 25.2574\n",
      "Epoch 165/250\n",
      "22/22 [==============================] - 0s 2ms/step - loss: 24.1109\n",
      "Epoch 166/250\n",
      "22/22 [==============================] - 0s 2ms/step - loss: 24.3035\n",
      "Epoch 167/250\n",
      "22/22 [==============================] - 0s 2ms/step - loss: 24.9600\n",
      "Epoch 168/250\n",
      "22/22 [==============================] - 0s 2ms/step - loss: 24.2126\n",
      "Epoch 169/250\n",
      "22/22 [==============================] - 0s 2ms/step - loss: 24.5996\n",
      "Epoch 170/250\n",
      "22/22 [==============================] - 0s 2ms/step - loss: 23.8907\n",
      "Epoch 171/250\n",
      "22/22 [==============================] - 0s 2ms/step - loss: 24.0713\n",
      "Epoch 172/250\n",
      "22/22 [==============================] - 0s 3ms/step - loss: 24.6613\n",
      "Epoch 173/250\n",
      "22/22 [==============================] - 0s 2ms/step - loss: 24.8575\n",
      "Epoch 174/250\n",
      "22/22 [==============================] - 0s 2ms/step - loss: 24.8218\n",
      "Epoch 175/250\n",
      "22/22 [==============================] - 0s 2ms/step - loss: 24.4622\n",
      "Epoch 176/250\n",
      "22/22 [==============================] - 0s 2ms/step - loss: 24.4080\n",
      "Epoch 177/250\n",
      "22/22 [==============================] - 0s 2ms/step - loss: 24.7071\n",
      "Epoch 178/250\n",
      "22/22 [==============================] - 0s 2ms/step - loss: 24.4670\n",
      "Epoch 179/250\n",
      "22/22 [==============================] - 0s 2ms/step - loss: 24.2460\n",
      "Epoch 180/250\n",
      "22/22 [==============================] - 0s 2ms/step - loss: 24.4926\n",
      "Epoch 181/250\n",
      "22/22 [==============================] - 0s 2ms/step - loss: 24.4068\n",
      "Epoch 182/250\n",
      "22/22 [==============================] - 0s 2ms/step - loss: 24.8879\n",
      "Epoch 183/250\n",
      "22/22 [==============================] - 0s 2ms/step - loss: 24.5964\n",
      "Epoch 184/250\n",
      "22/22 [==============================] - 0s 2ms/step - loss: 24.6084\n",
      "Epoch 185/250\n",
      "22/22 [==============================] - 0s 2ms/step - loss: 24.3085\n",
      "Epoch 186/250\n",
      "22/22 [==============================] - 0s 2ms/step - loss: 24.1114\n",
      "Epoch 187/250\n",
      "22/22 [==============================] - 0s 2ms/step - loss: 24.5759\n",
      "Epoch 188/250\n",
      "22/22 [==============================] - 0s 2ms/step - loss: 24.7440\n",
      "Epoch 189/250\n",
      "22/22 [==============================] - 0s 2ms/step - loss: 24.9554\n",
      "Epoch 190/250\n",
      "22/22 [==============================] - 0s 2ms/step - loss: 24.7589\n",
      "Epoch 191/250\n",
      "22/22 [==============================] - 0s 2ms/step - loss: 24.1632\n",
      "Epoch 192/250\n",
      "22/22 [==============================] - 0s 2ms/step - loss: 25.3413\n",
      "Epoch 193/250\n",
      "22/22 [==============================] - 0s 2ms/step - loss: 24.3517\n",
      "Epoch 194/250\n",
      "22/22 [==============================] - 0s 3ms/step - loss: 24.7942\n",
      "Epoch 195/250\n"
     ]
    },
    {
     "name": "stdout",
     "output_type": "stream",
     "text": [
      "22/22 [==============================] - 0s 2ms/step - loss: 24.8794\n",
      "Epoch 196/250\n",
      "22/22 [==============================] - 0s 2ms/step - loss: 24.4127\n",
      "Epoch 197/250\n",
      "22/22 [==============================] - 0s 2ms/step - loss: 24.2990\n",
      "Epoch 198/250\n",
      "22/22 [==============================] - 0s 2ms/step - loss: 24.3583\n",
      "Epoch 199/250\n",
      "22/22 [==============================] - 0s 2ms/step - loss: 24.4082\n",
      "Epoch 200/250\n",
      "22/22 [==============================] - 0s 2ms/step - loss: 24.9136\n",
      "Epoch 201/250\n",
      "22/22 [==============================] - 0s 2ms/step - loss: 24.5535\n",
      "Epoch 202/250\n",
      "22/22 [==============================] - 0s 2ms/step - loss: 24.7597\n",
      "Epoch 203/250\n",
      "22/22 [==============================] - 0s 2ms/step - loss: 24.3633\n",
      "Epoch 204/250\n",
      "22/22 [==============================] - 0s 2ms/step - loss: 24.4517\n",
      "Epoch 205/250\n",
      "22/22 [==============================] - 0s 2ms/step - loss: 24.3395\n",
      "Epoch 206/250\n",
      "22/22 [==============================] - 0s 2ms/step - loss: 24.7978\n",
      "Epoch 207/250\n",
      "22/22 [==============================] - 0s 2ms/step - loss: 25.1850\n",
      "Epoch 208/250\n",
      "22/22 [==============================] - 0s 2ms/step - loss: 24.3377\n",
      "Epoch 209/250\n",
      "22/22 [==============================] - 0s 2ms/step - loss: 24.6390\n",
      "Epoch 210/250\n",
      "22/22 [==============================] - 0s 2ms/step - loss: 24.6041\n",
      "Epoch 211/250\n",
      "22/22 [==============================] - 0s 2ms/step - loss: 24.5270\n",
      "Epoch 212/250\n",
      "22/22 [==============================] - 0s 2ms/step - loss: 24.5771\n",
      "Epoch 213/250\n",
      "22/22 [==============================] - 0s 2ms/step - loss: 24.7707\n",
      "Epoch 214/250\n",
      "22/22 [==============================] - 0s 2ms/step - loss: 24.5133\n",
      "Epoch 215/250\n",
      "22/22 [==============================] - 0s 2ms/step - loss: 24.6403\n",
      "Epoch 216/250\n",
      "22/22 [==============================] - 0s 2ms/step - loss: 24.5747\n",
      "Epoch 217/250\n",
      "22/22 [==============================] - 0s 2ms/step - loss: 24.3329\n",
      "Epoch 218/250\n",
      "22/22 [==============================] - 0s 2ms/step - loss: 24.2663\n",
      "Epoch 219/250\n",
      "22/22 [==============================] - 0s 2ms/step - loss: 24.3380\n",
      "Epoch 220/250\n",
      "22/22 [==============================] - 0s 2ms/step - loss: 24.1562\n",
      "Epoch 221/250\n",
      "22/22 [==============================] - 0s 2ms/step - loss: 24.7642\n",
      "Epoch 222/250\n",
      "22/22 [==============================] - 0s 2ms/step - loss: 25.0445\n",
      "Epoch 223/250\n",
      "22/22 [==============================] - 0s 2ms/step - loss: 24.7506\n",
      "Epoch 224/250\n",
      "22/22 [==============================] - 0s 2ms/step - loss: 24.2880\n",
      "Epoch 225/250\n",
      "22/22 [==============================] - 0s 2ms/step - loss: 24.3837\n",
      "Epoch 226/250\n",
      "22/22 [==============================] - 0s 2ms/step - loss: 24.3553\n",
      "Epoch 227/250\n",
      "22/22 [==============================] - 0s 2ms/step - loss: 24.4322\n",
      "Epoch 228/250\n",
      "22/22 [==============================] - 0s 2ms/step - loss: 24.6474\n",
      "Epoch 229/250\n",
      "22/22 [==============================] - 0s 2ms/step - loss: 24.6821\n",
      "Epoch 230/250\n",
      "22/22 [==============================] - 0s 3ms/step - loss: 24.1817\n",
      "Epoch 231/250\n",
      "22/22 [==============================] - 0s 2ms/step - loss: 25.1070\n",
      "Epoch 232/250\n",
      "22/22 [==============================] - 0s 2ms/step - loss: 24.3786\n",
      "Epoch 233/250\n",
      "22/22 [==============================] - 0s 2ms/step - loss: 24.8419\n",
      "Epoch 234/250\n",
      "22/22 [==============================] - 0s 2ms/step - loss: 24.2172\n",
      "Epoch 235/250\n",
      "22/22 [==============================] - 0s 2ms/step - loss: 25.0119\n",
      "Epoch 236/250\n",
      "22/22 [==============================] - 0s 2ms/step - loss: 24.5007\n",
      "Epoch 237/250\n",
      "22/22 [==============================] - 0s 2ms/step - loss: 24.6343\n",
      "Epoch 238/250\n",
      "22/22 [==============================] - 0s 2ms/step - loss: 24.3964\n",
      "Epoch 239/250\n",
      "22/22 [==============================] - 0s 2ms/step - loss: 24.2948\n",
      "Epoch 240/250\n",
      "22/22 [==============================] - 0s 2ms/step - loss: 24.4495\n",
      "Epoch 241/250\n",
      "22/22 [==============================] - 0s 2ms/step - loss: 24.7056\n",
      "Epoch 242/250\n",
      "22/22 [==============================] - 0s 2ms/step - loss: 24.4491\n",
      "Epoch 243/250\n",
      "22/22 [==============================] - 0s 2ms/step - loss: 24.7400\n",
      "Epoch 244/250\n",
      "22/22 [==============================] - 0s 2ms/step - loss: 24.7683\n",
      "Epoch 245/250\n",
      "22/22 [==============================] - 0s 2ms/step - loss: 24.1038\n",
      "Epoch 246/250\n",
      "22/22 [==============================] - 0s 3ms/step - loss: 24.8916\n",
      "Epoch 247/250\n",
      "22/22 [==============================] - 0s 3ms/step - loss: 24.3960\n",
      "Epoch 248/250\n",
      "22/22 [==============================] - 0s 2ms/step - loss: 24.4058\n",
      "Epoch 249/250\n",
      "22/22 [==============================] - 0s 3ms/step - loss: 24.5754\n",
      "Epoch 250/250\n",
      "22/22 [==============================] - 0s 3ms/step - loss: 24.1093\n"
     ]
    },
    {
     "data": {
      "text/plain": [
       "<keras.callbacks.History at 0x1ca46e27070>"
      ]
     },
     "execution_count": 35,
     "metadata": {},
     "output_type": "execute_result"
    }
   ],
   "source": [
    "model.fit(x = X_train, y = y_train, batch_size = 32, epochs = 250)"
   ]
  },
  {
   "cell_type": "code",
   "execution_count": 36,
   "metadata": {},
   "outputs": [
    {
     "data": {
      "text/plain": [
       "[<tf.Variable 'dense_4/kernel:0' shape=(2, 4) dtype=float32, numpy=\n",
       " array([[-0.42178655,  0.26082394,  1.7215444 ,  1.5921894 ],\n",
       "        [-0.3147695 ,  2.792455  ,  2.1825163 ,  2.0547311 ]],\n",
       "       dtype=float32)>,\n",
       " <tf.Variable 'dense_4/bias:0' shape=(4,) dtype=float32, numpy=array([0.        , 0.45692578, 0.46280998, 0.4688519 ], dtype=float32)>,\n",
       " <tf.Variable 'dense_5/kernel:0' shape=(4, 4) dtype=float32, numpy=\n",
       " array([[-0.48151156, -0.16039348, -0.4090073 ,  0.5172078 ],\n",
       "        [ 1.3605453 ,  2.033974  ,  2.0317743 ,  0.21379046],\n",
       "        [ 1.7855271 ,  2.025013  ,  1.6186459 , -0.33432972],\n",
       "        [ 1.7857941 ,  0.7198759 ,  1.7538502 ,  0.14042251]],\n",
       "       dtype=float32)>,\n",
       " <tf.Variable 'dense_5/bias:0' shape=(4,) dtype=float32, numpy=array([ 0.446565  ,  0.44871455,  0.44942024, -0.11490292], dtype=float32)>,\n",
       " <tf.Variable 'dense_6/kernel:0' shape=(4, 4) dtype=float32, numpy=\n",
       " array([[ 2.0073464 ,  1.251335  ,  2.2879655 ,  1.2589242 ],\n",
       "        [ 1.7719818 ,  1.4340777 ,  1.834717  ,  1.0814645 ],\n",
       "        [ 0.86194056,  2.3427217 ,  1.9714111 ,  1.9648246 ],\n",
       "        [-0.46293083, -0.08769374,  0.579834  , -0.14219785]],\n",
       "       dtype=float32)>,\n",
       " <tf.Variable 'dense_6/bias:0' shape=(4,) dtype=float32, numpy=array([0.4290306 , 0.42985505, 0.43439648, 0.4355189 ], dtype=float32)>,\n",
       " <tf.Variable 'dense_7/kernel:0' shape=(4, 1) dtype=float32, numpy=\n",
       " array([[2.2195206],\n",
       "        [2.0862975],\n",
       "        [1.7551545],\n",
       "        [2.269643 ]], dtype=float32)>,\n",
       " <tf.Variable 'dense_7/bias:0' shape=(1,) dtype=float32, numpy=array([0.42015857], dtype=float32)>]"
      ]
     },
     "execution_count": 36,
     "metadata": {},
     "output_type": "execute_result"
    }
   ],
   "source": [
    "model.weights"
   ]
  },
  {
   "cell_type": "code",
   "execution_count": 37,
   "metadata": {},
   "outputs": [
    {
     "data": {
      "text/plain": [
       "{'loss': [256557.34375,\n",
       "  256344.234375,\n",
       "  256098.71875,\n",
       "  255805.34375,\n",
       "  255451.125,\n",
       "  255026.1875,\n",
       "  254521.625,\n",
       "  253934.515625,\n",
       "  253247.421875,\n",
       "  252451.21875,\n",
       "  251538.015625,\n",
       "  250498.21875,\n",
       "  249326.78125,\n",
       "  248000.046875,\n",
       "  246519.765625,\n",
       "  244870.859375,\n",
       "  243041.828125,\n",
       "  241026.28125,\n",
       "  238804.53125,\n",
       "  236378.125,\n",
       "  233730.859375,\n",
       "  230848.5,\n",
       "  227721.78125,\n",
       "  224349.03125,\n",
       "  220705.9375,\n",
       "  216813.640625,\n",
       "  212635.296875,\n",
       "  208189.03125,\n",
       "  203449.734375,\n",
       "  198407.9375,\n",
       "  193080.0625,\n",
       "  187475.203125,\n",
       "  181579.53125,\n",
       "  175377.546875,\n",
       "  168904.5625,\n",
       "  162148.359375,\n",
       "  155155.640625,\n",
       "  147906.640625,\n",
       "  140447.765625,\n",
       "  132665.0625,\n",
       "  124718.8125,\n",
       "  116630.9921875,\n",
       "  108440.09375,\n",
       "  100109.6484375,\n",
       "  91756.359375,\n",
       "  83340.703125,\n",
       "  74974.0078125,\n",
       "  66691.8203125,\n",
       "  58591.22265625,\n",
       "  50710.83984375,\n",
       "  43115.87890625,\n",
       "  35894.0546875,\n",
       "  29198.5859375,\n",
       "  23056.04296875,\n",
       "  17535.67578125,\n",
       "  12761.7861328125,\n",
       "  8812.5498046875,\n",
       "  5837.66943359375,\n",
       "  3913.701904296875,\n",
       "  2884.00537109375,\n",
       "  2580.58447265625,\n",
       "  2517.0322265625,\n",
       "  2465.367431640625,\n",
       "  2414.73388671875,\n",
       "  2355.44873046875,\n",
       "  2304.080078125,\n",
       "  2251.6064453125,\n",
       "  2197.851806640625,\n",
       "  2148.110595703125,\n",
       "  2094.991455078125,\n",
       "  2044.641845703125,\n",
       "  1997.0223388671875,\n",
       "  1949.4910888671875,\n",
       "  1904.019287109375,\n",
       "  1854.161376953125,\n",
       "  1803.735595703125,\n",
       "  1756.9962158203125,\n",
       "  1704.014404296875,\n",
       "  1665.936279296875,\n",
       "  1619.51708984375,\n",
       "  1574.4954833984375,\n",
       "  1526.4510498046875,\n",
       "  1474.3272705078125,\n",
       "  1436.289306640625,\n",
       "  1381.8948974609375,\n",
       "  1343.5499267578125,\n",
       "  1298.435302734375,\n",
       "  1263.5341796875,\n",
       "  1227.0361328125,\n",
       "  1182.2525634765625,\n",
       "  1144.773193359375,\n",
       "  1101.666748046875,\n",
       "  1068.294189453125,\n",
       "  1028.7515869140625,\n",
       "  994.8858642578125,\n",
       "  952.1516723632812,\n",
       "  913.4501953125,\n",
       "  874.05224609375,\n",
       "  836.3837280273438,\n",
       "  806.1235961914062,\n",
       "  769.5366821289062,\n",
       "  733.8755493164062,\n",
       "  702.6961059570312,\n",
       "  669.4741821289062,\n",
       "  636.9259643554688,\n",
       "  605.3980712890625,\n",
       "  576.121337890625,\n",
       "  547.039794921875,\n",
       "  513.2210693359375,\n",
       "  483.5799560546875,\n",
       "  453.6524658203125,\n",
       "  428.2262878417969,\n",
       "  402.02081298828125,\n",
       "  378.20697021484375,\n",
       "  352.3743591308594,\n",
       "  324.7565612792969,\n",
       "  295.98455810546875,\n",
       "  274.2987365722656,\n",
       "  253.31858825683594,\n",
       "  236.24407958984375,\n",
       "  216.31410217285156,\n",
       "  198.9864044189453,\n",
       "  182.82342529296875,\n",
       "  167.8109893798828,\n",
       "  152.71665954589844,\n",
       "  141.18614196777344,\n",
       "  125.53598022460938,\n",
       "  114.43269348144531,\n",
       "  103.7458724975586,\n",
       "  94.96790313720703,\n",
       "  85.53691864013672,\n",
       "  78.10304260253906,\n",
       "  69.62247467041016,\n",
       "  63.10089874267578,\n",
       "  57.21651077270508,\n",
       "  51.980613708496094,\n",
       "  47.49030303955078,\n",
       "  42.341915130615234,\n",
       "  38.864688873291016,\n",
       "  35.91446304321289,\n",
       "  33.61537551879883,\n",
       "  30.940380096435547,\n",
       "  30.083940505981445,\n",
       "  28.829679489135742,\n",
       "  28.181690216064453,\n",
       "  27.1143798828125,\n",
       "  26.435739517211914,\n",
       "  26.210147857666016,\n",
       "  25.339065551757812,\n",
       "  25.343097686767578,\n",
       "  25.420265197753906,\n",
       "  25.258127212524414,\n",
       "  24.516183853149414,\n",
       "  25.005966186523438,\n",
       "  24.946395874023438,\n",
       "  24.662221908569336,\n",
       "  24.67243766784668,\n",
       "  24.615203857421875,\n",
       "  24.450653076171875,\n",
       "  25.049785614013672,\n",
       "  24.606679916381836,\n",
       "  24.35940933227539,\n",
       "  24.301191329956055,\n",
       "  25.25739860534668,\n",
       "  24.110864639282227,\n",
       "  24.303485870361328,\n",
       "  24.960041046142578,\n",
       "  24.212570190429688,\n",
       "  24.59955596923828,\n",
       "  23.89068031311035,\n",
       "  24.071269989013672,\n",
       "  24.661258697509766,\n",
       "  24.85745620727539,\n",
       "  24.821815490722656,\n",
       "  24.46222686767578,\n",
       "  24.408008575439453,\n",
       "  24.70706558227539,\n",
       "  24.46697235107422,\n",
       "  24.246009826660156,\n",
       "  24.49264144897461,\n",
       "  24.406780242919922,\n",
       "  24.887874603271484,\n",
       "  24.596437454223633,\n",
       "  24.608415603637695,\n",
       "  24.30852699279785,\n",
       "  24.111434936523438,\n",
       "  24.575925827026367,\n",
       "  24.74397087097168,\n",
       "  24.955387115478516,\n",
       "  24.758939743041992,\n",
       "  24.163236618041992,\n",
       "  25.34131622314453,\n",
       "  24.351669311523438,\n",
       "  24.79422378540039,\n",
       "  24.87936019897461,\n",
       "  24.41274070739746,\n",
       "  24.299043655395508,\n",
       "  24.358325958251953,\n",
       "  24.408178329467773,\n",
       "  24.913562774658203,\n",
       "  24.55349349975586,\n",
       "  24.759695053100586,\n",
       "  24.363262176513672,\n",
       "  24.451696395874023,\n",
       "  24.3394775390625,\n",
       "  24.79778480529785,\n",
       "  25.185014724731445,\n",
       "  24.33774185180664,\n",
       "  24.639007568359375,\n",
       "  24.604076385498047,\n",
       "  24.527042388916016,\n",
       "  24.57709503173828,\n",
       "  24.770708084106445,\n",
       "  24.513320922851562,\n",
       "  24.64028549194336,\n",
       "  24.57465171813965,\n",
       "  24.33285903930664,\n",
       "  24.266252517700195,\n",
       "  24.3380184173584,\n",
       "  24.156219482421875,\n",
       "  24.764225006103516,\n",
       "  25.044498443603516,\n",
       "  24.750646591186523,\n",
       "  24.28803062438965,\n",
       "  24.383699417114258,\n",
       "  24.355331420898438,\n",
       "  24.432209014892578,\n",
       "  24.647449493408203,\n",
       "  24.68212127685547,\n",
       "  24.181684494018555,\n",
       "  25.106969833374023,\n",
       "  24.37856101989746,\n",
       "  24.841934204101562,\n",
       "  24.21717643737793,\n",
       "  25.011852264404297,\n",
       "  24.500730514526367,\n",
       "  24.63426971435547,\n",
       "  24.396406173706055,\n",
       "  24.2948055267334,\n",
       "  24.44948959350586,\n",
       "  24.705595016479492,\n",
       "  24.449085235595703,\n",
       "  24.74001693725586,\n",
       "  24.768260955810547,\n",
       "  24.103778839111328,\n",
       "  24.891584396362305,\n",
       "  24.396015167236328,\n",
       "  24.405786514282227,\n",
       "  24.575368881225586,\n",
       "  24.109254837036133]}"
      ]
     },
     "execution_count": 37,
     "metadata": {},
     "output_type": "execute_result"
    }
   ],
   "source": [
    "model.history.history"
   ]
  },
  {
   "cell_type": "code",
   "execution_count": 38,
   "metadata": {},
   "outputs": [
    {
     "data": {
      "text/html": [
       "<div>\n",
       "<style scoped>\n",
       "    .dataframe tbody tr th:only-of-type {\n",
       "        vertical-align: middle;\n",
       "    }\n",
       "\n",
       "    .dataframe tbody tr th {\n",
       "        vertical-align: top;\n",
       "    }\n",
       "\n",
       "    .dataframe thead th {\n",
       "        text-align: right;\n",
       "    }\n",
       "</style>\n",
       "<table border=\"1\" class=\"dataframe\">\n",
       "  <thead>\n",
       "    <tr style=\"text-align: right;\">\n",
       "      <th></th>\n",
       "      <th>loss</th>\n",
       "    </tr>\n",
       "  </thead>\n",
       "  <tbody>\n",
       "    <tr>\n",
       "      <th>0</th>\n",
       "      <td>256557.344</td>\n",
       "    </tr>\n",
       "    <tr>\n",
       "      <th>1</th>\n",
       "      <td>256344.234</td>\n",
       "    </tr>\n",
       "    <tr>\n",
       "      <th>2</th>\n",
       "      <td>256098.719</td>\n",
       "    </tr>\n",
       "    <tr>\n",
       "      <th>3</th>\n",
       "      <td>255805.344</td>\n",
       "    </tr>\n",
       "    <tr>\n",
       "      <th>4</th>\n",
       "      <td>255451.125</td>\n",
       "    </tr>\n",
       "    <tr>\n",
       "      <th>...</th>\n",
       "      <td>...</td>\n",
       "    </tr>\n",
       "    <tr>\n",
       "      <th>245</th>\n",
       "      <td>24.892</td>\n",
       "    </tr>\n",
       "    <tr>\n",
       "      <th>246</th>\n",
       "      <td>24.396</td>\n",
       "    </tr>\n",
       "    <tr>\n",
       "      <th>247</th>\n",
       "      <td>24.406</td>\n",
       "    </tr>\n",
       "    <tr>\n",
       "      <th>248</th>\n",
       "      <td>24.575</td>\n",
       "    </tr>\n",
       "    <tr>\n",
       "      <th>249</th>\n",
       "      <td>24.109</td>\n",
       "    </tr>\n",
       "  </tbody>\n",
       "</table>\n",
       "<p>250 rows × 1 columns</p>\n",
       "</div>"
      ],
      "text/plain": [
       "          loss\n",
       "0   256557.344\n",
       "1   256344.234\n",
       "2   256098.719\n",
       "3   255805.344\n",
       "4   255451.125\n",
       "..         ...\n",
       "245     24.892\n",
       "246     24.396\n",
       "247     24.406\n",
       "248     24.575\n",
       "249     24.109\n",
       "\n",
       "[250 rows x 1 columns]"
      ]
     },
     "execution_count": 38,
     "metadata": {},
     "output_type": "execute_result"
    }
   ],
   "source": [
    "pd.DataFrame(model.history.history)"
   ]
  },
  {
   "cell_type": "code",
   "execution_count": 39,
   "metadata": {},
   "outputs": [
    {
     "data": {
      "text/plain": [
       "<AxesSubplot:>"
      ]
     },
     "execution_count": 39,
     "metadata": {},
     "output_type": "execute_result"
    }
   ],
   "source": [
    "loss_df = pd.DataFrame(model.history.history)\n",
    "loss_df.plot()"
   ]
  },
  {
   "cell_type": "code",
   "execution_count": 40,
   "metadata": {},
   "outputs": [
    {
     "data": {
      "text/plain": [
       "(0.0, 3000.0)"
      ]
     },
     "execution_count": 40,
     "metadata": {},
     "output_type": "execute_result"
    }
   ],
   "source": [
    "fig, ax= plt.subplots()\n",
    "ax.plot(loss_df)\n",
    "ax.set_xlabel(\"epoch\")\n",
    "ax.set_ylabel(\"loss\")\n",
    "ax.set_title(\"loss - epoch graph\")\n",
    "ax.set_xlim([0, 250]) # focusing on the given x values\n",
    "ax.set_ylim([0, 3000]) # focusing on the given y values"
   ]
  },
  {
   "cell_type": "markdown",
   "metadata": {},
   "source": [
    "## Model Performance"
   ]
  },
  {
   "cell_type": "code",
   "execution_count": 41,
   "metadata": {},
   "outputs": [],
   "source": [
    "from sklearn.metrics import mean_squared_error, mean_absolute_error, r2_score"
   ]
  },
  {
   "cell_type": "code",
   "execution_count": 42,
   "metadata": {},
   "outputs": [
    {
     "data": {
      "text/plain": [
       "24.563404083251953"
      ]
     },
     "execution_count": 42,
     "metadata": {},
     "output_type": "execute_result"
    }
   ],
   "source": [
    "model.evaluate(X_train, y_train, verbose=0)"
   ]
  },
  {
   "cell_type": "code",
   "execution_count": 43,
   "metadata": {},
   "outputs": [
    {
     "data": {
      "text/plain": [
       "25.191844940185547"
      ]
     },
     "execution_count": 43,
     "metadata": {},
     "output_type": "execute_result"
    }
   ],
   "source": [
    "model.evaluate(X_test, y_test, verbose=0)"
   ]
  },
  {
   "cell_type": "code",
   "execution_count": 44,
   "metadata": {},
   "outputs": [
    {
     "name": "stdout",
     "output_type": "stream",
     "text": [
      "10/10 [==============================] - 0s 2ms/step\n"
     ]
    },
    {
     "data": {
      "text/plain": [
       "(300, 1)"
      ]
     },
     "execution_count": 44,
     "metadata": {},
     "output_type": "execute_result"
    }
   ],
   "source": [
    "y_pred = model.predict(X_test)\n",
    "y_pred.shape"
   ]
  },
  {
   "cell_type": "code",
   "execution_count": 45,
   "metadata": {},
   "outputs": [
    {
     "data": {
      "text/plain": [
       "(300,)"
      ]
     },
     "execution_count": 45,
     "metadata": {},
     "output_type": "execute_result"
    }
   ],
   "source": [
    "y_test.shape"
   ]
  },
  {
   "cell_type": "code",
   "execution_count": 46,
   "metadata": {},
   "outputs": [
    {
     "data": {
      "text/plain": [
       "(300,)"
      ]
     },
     "execution_count": 46,
     "metadata": {},
     "output_type": "execute_result"
    }
   ],
   "source": [
    "y_pred.reshape(-1,).shape"
   ]
  },
  {
   "cell_type": "code",
   "execution_count": 47,
   "metadata": {},
   "outputs": [
    {
     "data": {
      "text/html": [
       "<div>\n",
       "<style scoped>\n",
       "    .dataframe tbody tr th:only-of-type {\n",
       "        vertical-align: middle;\n",
       "    }\n",
       "\n",
       "    .dataframe tbody tr th {\n",
       "        vertical-align: top;\n",
       "    }\n",
       "\n",
       "    .dataframe thead th {\n",
       "        text-align: right;\n",
       "    }\n",
       "</style>\n",
       "<table border=\"1\" class=\"dataframe\">\n",
       "  <thead>\n",
       "    <tr style=\"text-align: right;\">\n",
       "      <th></th>\n",
       "      <th>Actual</th>\n",
       "      <th>Pred</th>\n",
       "    </tr>\n",
       "  </thead>\n",
       "  <tbody>\n",
       "    <tr>\n",
       "      <th>211</th>\n",
       "      <td>504.694</td>\n",
       "      <td>498.724</td>\n",
       "    </tr>\n",
       "    <tr>\n",
       "      <th>679</th>\n",
       "      <td>466.000</td>\n",
       "      <td>465.476</td>\n",
       "    </tr>\n",
       "    <tr>\n",
       "      <th>713</th>\n",
       "      <td>387.646</td>\n",
       "      <td>389.831</td>\n",
       "    </tr>\n",
       "    <tr>\n",
       "      <th>59</th>\n",
       "      <td>397.882</td>\n",
       "      <td>394.837</td>\n",
       "    </tr>\n",
       "    <tr>\n",
       "      <th>481</th>\n",
       "      <td>595.854</td>\n",
       "      <td>594.728</td>\n",
       "    </tr>\n",
       "    <tr>\n",
       "      <th>948</th>\n",
       "      <td>433.423</td>\n",
       "      <td>437.170</td>\n",
       "    </tr>\n",
       "    <tr>\n",
       "      <th>136</th>\n",
       "      <td>451.804</td>\n",
       "      <td>446.923</td>\n",
       "    </tr>\n",
       "    <tr>\n",
       "      <th>554</th>\n",
       "      <td>506.339</td>\n",
       "      <td>512.810</td>\n",
       "    </tr>\n",
       "    <tr>\n",
       "      <th>107</th>\n",
       "      <td>357.342</td>\n",
       "      <td>360.669</td>\n",
       "    </tr>\n",
       "    <tr>\n",
       "      <th>260</th>\n",
       "      <td>275.333</td>\n",
       "      <td>280.829</td>\n",
       "    </tr>\n",
       "  </tbody>\n",
       "</table>\n",
       "</div>"
      ],
      "text/plain": [
       "     Actual    Pred\n",
       "211 504.694 498.724\n",
       "679 466.000 465.476\n",
       "713 387.646 389.831\n",
       "59  397.882 394.837\n",
       "481 595.854 594.728\n",
       "948 433.423 437.170\n",
       "136 451.804 446.923\n",
       "554 506.339 512.810\n",
       "107 357.342 360.669\n",
       "260 275.333 280.829"
      ]
     },
     "execution_count": 47,
     "metadata": {},
     "output_type": "execute_result"
    }
   ],
   "source": [
    "my_dict = {\"Actual\" : y_test, \"Pred\" : y_pred.reshape(-1,)}\n",
    "compare = pd.DataFrame(my_dict)\n",
    "compare.sample(10)"
   ]
  },
  {
   "cell_type": "code",
   "execution_count": 48,
   "metadata": {},
   "outputs": [
    {
     "data": {
      "text/plain": [
       "<AxesSubplot:title={'center':'loss - epoch graph'}, xlabel='epoch', ylabel='loss'>"
      ]
     },
     "execution_count": 48,
     "metadata": {},
     "output_type": "execute_result"
    }
   ],
   "source": [
    "sns.scatterplot(x = 'Actual', y = 'Pred', data = compare)"
   ]
  },
  {
   "cell_type": "code",
   "execution_count": 49,
   "metadata": {},
   "outputs": [],
   "source": [
    "def eval_metric(actual, pred):\n",
    "    mae = mean_absolute_error(actual, pred)\n",
    "    mse = mean_squared_error(actual, pred)\n",
    "    rmse = np.sqrt(mean_squared_error(actual, pred))\n",
    "    score = r2_score(actual, pred)\n",
    "    return print(\"r2_score:\", score, \"\\nmae:\", mae, \"\\nmse:\", mse, \"\\nrmse:\", rmse)"
   ]
  },
  {
   "cell_type": "code",
   "execution_count": 50,
   "metadata": {},
   "outputs": [
    {
     "name": "stdout",
     "output_type": "stream",
     "text": [
      "r2_score: 0.9971346970802638 \n",
      "mae: 4.016953068798935 \n",
      "mse: 25.191834001320043 \n",
      "rmse: 5.0191467403653425\n"
     ]
    }
   ],
   "source": [
    "eval_metric(y_test, y_pred)"
   ]
  },
  {
   "cell_type": "markdown",
   "metadata": {},
   "source": [
    "## Final Model and Model Deployment"
   ]
  },
  {
   "cell_type": "markdown",
   "metadata": {},
   "source": [
    "### Final Model Training"
   ]
  },
  {
   "cell_type": "code",
   "execution_count": 51,
   "metadata": {},
   "outputs": [],
   "source": [
    "scaler = MinMaxScaler().fit(X)"
   ]
  },
  {
   "cell_type": "code",
   "execution_count": 52,
   "metadata": {},
   "outputs": [],
   "source": [
    "import pickle\n",
    "pickle.dump(scaler, open(\"scaler_fake_reg\", 'wb'))"
   ]
  },
  {
   "cell_type": "code",
   "execution_count": 53,
   "metadata": {},
   "outputs": [],
   "source": [
    "X_scaled = scaler.transform(X)"
   ]
  },
  {
   "cell_type": "code",
   "execution_count": 54,
   "metadata": {},
   "outputs": [
    {
     "name": "stdout",
     "output_type": "stream",
     "text": [
      "Epoch 1/250\n",
      "32/32 [==============================] - 1s 2ms/step - loss: 257391.8750\n",
      "Epoch 2/250\n",
      "32/32 [==============================] - 0s 2ms/step - loss: 257316.1406\n",
      "Epoch 3/250\n",
      "32/32 [==============================] - 0s 2ms/step - loss: 257228.4688\n",
      "Epoch 4/250\n",
      "32/32 [==============================] - 0s 2ms/step - loss: 257124.4531\n",
      "Epoch 5/250\n",
      "32/32 [==============================] - 0s 2ms/step - loss: 257000.7500\n",
      "Epoch 6/250\n",
      "32/32 [==============================] - 0s 2ms/step - loss: 256855.5469\n",
      "Epoch 7/250\n",
      "32/32 [==============================] - 0s 2ms/step - loss: 256685.5781\n",
      "Epoch 8/250\n",
      "32/32 [==============================] - 0s 2ms/step - loss: 256486.5781\n",
      "Epoch 9/250\n",
      "32/32 [==============================] - 0s 2ms/step - loss: 256257.3594\n",
      "Epoch 10/250\n",
      "32/32 [==============================] - 0s 2ms/step - loss: 255994.4375\n",
      "Epoch 11/250\n",
      "32/32 [==============================] - 0s 3ms/step - loss: 255693.4531\n",
      "Epoch 12/250\n",
      "32/32 [==============================] - 0s 3ms/step - loss: 255352.1562\n",
      "Epoch 13/250\n",
      "32/32 [==============================] - 0s 2ms/step - loss: 254965.6562\n",
      "Epoch 14/250\n",
      "32/32 [==============================] - 0s 2ms/step - loss: 254533.4219\n",
      "Epoch 15/250\n",
      "32/32 [==============================] - 0s 2ms/step - loss: 254044.5625\n",
      "Epoch 16/250\n",
      "32/32 [==============================] - 0s 2ms/step - loss: 253501.1250\n",
      "Epoch 17/250\n",
      "32/32 [==============================] - 0s 2ms/step - loss: 252899.1406\n",
      "Epoch 18/250\n",
      "32/32 [==============================] - 0s 2ms/step - loss: 252228.7344\n",
      "Epoch 19/250\n",
      "32/32 [==============================] - 0s 2ms/step - loss: 251495.4062\n",
      "Epoch 20/250\n",
      "32/32 [==============================] - 0s 2ms/step - loss: 250682.3594\n",
      "Epoch 21/250\n",
      "32/32 [==============================] - 0s 2ms/step - loss: 249795.9844\n",
      "Epoch 22/250\n",
      "32/32 [==============================] - 0s 2ms/step - loss: 248824.2812\n",
      "Epoch 23/250\n",
      "32/32 [==============================] - 0s 2ms/step - loss: 247761.0469\n",
      "Epoch 24/250\n",
      "32/32 [==============================] - 0s 2ms/step - loss: 246608.5156\n",
      "Epoch 25/250\n",
      "32/32 [==============================] - 0s 2ms/step - loss: 245360.5312\n",
      "Epoch 26/250\n",
      "32/32 [==============================] - 0s 2ms/step - loss: 244013.5625\n",
      "Epoch 27/250\n",
      "32/32 [==============================] - 0s 2ms/step - loss: 242549.8281\n",
      "Epoch 28/250\n",
      "32/32 [==============================] - 0s 2ms/step - loss: 240985.5469\n",
      "Epoch 29/250\n",
      "32/32 [==============================] - 0s 2ms/step - loss: 239296.4062\n",
      "Epoch 30/250\n",
      "32/32 [==============================] - 0s 2ms/step - loss: 237485.5000\n",
      "Epoch 31/250\n",
      "32/32 [==============================] - 0s 2ms/step - loss: 235548.0938\n",
      "Epoch 32/250\n",
      "32/32 [==============================] - 0s 2ms/step - loss: 233473.6094\n",
      "Epoch 33/250\n",
      "32/32 [==============================] - 0s 2ms/step - loss: 231279.9219\n",
      "Epoch 34/250\n",
      "32/32 [==============================] - 0s 3ms/step - loss: 228936.9688\n",
      "Epoch 35/250\n",
      "32/32 [==============================] - 0s 2ms/step - loss: 226456.7969\n",
      "Epoch 36/250\n",
      "32/32 [==============================] - 0s 2ms/step - loss: 223822.6875\n",
      "Epoch 37/250\n",
      "32/32 [==============================] - 0s 4ms/step - loss: 221015.1875\n",
      "Epoch 38/250\n",
      "32/32 [==============================] - 0s 3ms/step - loss: 218079.6875\n",
      "Epoch 39/250\n",
      "32/32 [==============================] - 0s 2ms/step - loss: 214975.3906\n",
      "Epoch 40/250\n",
      "32/32 [==============================] - 0s 2ms/step - loss: 211722.1719\n",
      "Epoch 41/250\n",
      "32/32 [==============================] - 0s 4ms/step - loss: 208290.9688\n",
      "Epoch 42/250\n",
      "32/32 [==============================] - 0s 3ms/step - loss: 204676.9375\n",
      "Epoch 43/250\n",
      "32/32 [==============================] - 0s 3ms/step - loss: 200913.5625\n",
      "Epoch 44/250\n",
      "32/32 [==============================] - 0s 3ms/step - loss: 196959.5781\n",
      "Epoch 45/250\n",
      "32/32 [==============================] - 0s 2ms/step - loss: 192884.1875\n",
      "Epoch 46/250\n",
      "32/32 [==============================] - 0s 3ms/step - loss: 188568.8906\n",
      "Epoch 47/250\n",
      "32/32 [==============================] - 0s 3ms/step - loss: 184099.5625\n",
      "Epoch 48/250\n",
      "32/32 [==============================] - 0s 2ms/step - loss: 179475.1562\n",
      "Epoch 49/250\n",
      "32/32 [==============================] - 0s 2ms/step - loss: 174677.2656\n",
      "Epoch 50/250\n",
      "32/32 [==============================] - 0s 2ms/step - loss: 169698.6562\n",
      "Epoch 51/250\n",
      "32/32 [==============================] - 0s 2ms/step - loss: 164547.7500\n",
      "Epoch 52/250\n",
      "32/32 [==============================] - 0s 3ms/step - loss: 159234.0469\n",
      "Epoch 53/250\n",
      "32/32 [==============================] - 0s 3ms/step - loss: 153779.3125\n",
      "Epoch 54/250\n",
      "32/32 [==============================] - 0s 2ms/step - loss: 148156.4531\n",
      "Epoch 55/250\n",
      "32/32 [==============================] - 0s 3ms/step - loss: 142374.0625\n",
      "Epoch 56/250\n",
      "32/32 [==============================] - 0s 2ms/step - loss: 136485.5312\n",
      "Epoch 57/250\n",
      "32/32 [==============================] - 0s 2ms/step - loss: 130491.4609\n",
      "Epoch 58/250\n",
      "32/32 [==============================] - 0s 2ms/step - loss: 124341.3438\n",
      "Epoch 59/250\n",
      "32/32 [==============================] - 0s 2ms/step - loss: 118090.3750\n",
      "Epoch 60/250\n",
      "32/32 [==============================] - 0s 3ms/step - loss: 111786.8594\n",
      "Epoch 61/250\n",
      "32/32 [==============================] - 0s 2ms/step - loss: 105377.3516\n",
      "Epoch 62/250\n",
      "32/32 [==============================] - 0s 3ms/step - loss: 98920.4062\n",
      "Epoch 63/250\n",
      "32/32 [==============================] - 0s 2ms/step - loss: 92408.3672\n",
      "Epoch 64/250\n",
      "32/32 [==============================] - 0s 2ms/step - loss: 85892.2500\n",
      "Epoch 65/250\n",
      "32/32 [==============================] - 0s 2ms/step - loss: 79394.7109\n",
      "Epoch 66/250\n",
      "32/32 [==============================] - 0s 2ms/step - loss: 72856.9922\n",
      "Epoch 67/250\n",
      "32/32 [==============================] - 0s 2ms/step - loss: 66461.5078\n",
      "Epoch 68/250\n",
      "32/32 [==============================] - 0s 2ms/step - loss: 60119.1250\n",
      "Epoch 69/250\n",
      "32/32 [==============================] - 0s 2ms/step - loss: 53899.5703\n",
      "Epoch 70/250\n",
      "32/32 [==============================] - 0s 3ms/step - loss: 47845.8008\n",
      "Epoch 71/250\n",
      "32/32 [==============================] - 0s 2ms/step - loss: 41983.5781\n",
      "Epoch 72/250\n",
      "32/32 [==============================] - 0s 7ms/step - loss: 36353.7539\n",
      "Epoch 73/250\n",
      "32/32 [==============================] - 0s 4ms/step - loss: 30924.5586\n",
      "Epoch 74/250\n",
      "32/32 [==============================] - 0s 2ms/step - loss: 25868.6758\n",
      "Epoch 75/250\n",
      "32/32 [==============================] - 0s 2ms/step - loss: 21202.1172\n",
      "Epoch 76/250\n",
      "32/32 [==============================] - 0s 2ms/step - loss: 16910.0508\n",
      "Epoch 77/250\n",
      "32/32 [==============================] - 0s 2ms/step - loss: 13066.6816\n",
      "Epoch 78/250\n",
      "32/32 [==============================] - 0s 2ms/step - loss: 9721.9766\n",
      "Epoch 79/250\n",
      "32/32 [==============================] - 0s 2ms/step - loss: 6955.3960\n",
      "Epoch 80/250\n",
      "32/32 [==============================] - 0s 2ms/step - loss: 4800.9653\n",
      "Epoch 81/250\n",
      "32/32 [==============================] - 0s 4ms/step - loss: 3301.8474\n",
      "Epoch 82/250\n",
      "32/32 [==============================] - 0s 4ms/step - loss: 2479.6270\n",
      "Epoch 83/250\n",
      "32/32 [==============================] - 0s 4ms/step - loss: 2155.5955\n",
      "Epoch 84/250\n",
      "32/32 [==============================] - 0s 6ms/step - loss: 2092.0388\n",
      "Epoch 85/250\n",
      "32/32 [==============================] - 0s 5ms/step - loss: 2055.7964\n",
      "Epoch 86/250\n",
      "32/32 [==============================] - 0s 6ms/step - loss: 2023.5790\n",
      "Epoch 87/250\n",
      "32/32 [==============================] - 0s 5ms/step - loss: 1987.6915\n",
      "Epoch 88/250\n",
      "32/32 [==============================] - 0s 5ms/step - loss: 1949.9259\n",
      "Epoch 89/250\n",
      "32/32 [==============================] - 0s 3ms/step - loss: 1916.3772\n",
      "Epoch 90/250\n",
      "32/32 [==============================] - 0s 3ms/step - loss: 1881.6611\n",
      "Epoch 91/250\n",
      "32/32 [==============================] - 0s 3ms/step - loss: 1851.5066\n",
      "Epoch 92/250\n",
      "32/32 [==============================] - 0s 4ms/step - loss: 1819.8579\n",
      "Epoch 93/250\n",
      "32/32 [==============================] - 0s 3ms/step - loss: 1788.8690\n",
      "Epoch 94/250\n",
      "32/32 [==============================] - 0s 3ms/step - loss: 1756.7893\n",
      "Epoch 95/250\n",
      "32/32 [==============================] - 0s 3ms/step - loss: 1723.3650\n",
      "Epoch 96/250\n",
      "32/32 [==============================] - 0s 3ms/step - loss: 1687.5216\n"
     ]
    },
    {
     "name": "stdout",
     "output_type": "stream",
     "text": [
      "Epoch 97/250\n",
      "32/32 [==============================] - 0s 2ms/step - loss: 1656.5022\n",
      "Epoch 98/250\n",
      "32/32 [==============================] - 0s 2ms/step - loss: 1624.8160\n",
      "Epoch 99/250\n",
      "32/32 [==============================] - 0s 2ms/step - loss: 1593.9076\n",
      "Epoch 100/250\n",
      "32/32 [==============================] - 0s 2ms/step - loss: 1563.5303\n",
      "Epoch 101/250\n",
      "32/32 [==============================] - 0s 2ms/step - loss: 1530.0557\n",
      "Epoch 102/250\n",
      "32/32 [==============================] - 0s 2ms/step - loss: 1497.7169\n",
      "Epoch 103/250\n",
      "32/32 [==============================] - 0s 2ms/step - loss: 1464.4078\n",
      "Epoch 104/250\n",
      "32/32 [==============================] - 0s 2ms/step - loss: 1437.6519\n",
      "Epoch 105/250\n",
      "32/32 [==============================] - 0s 2ms/step - loss: 1409.9944\n",
      "Epoch 106/250\n",
      "32/32 [==============================] - 0s 2ms/step - loss: 1379.6920\n",
      "Epoch 107/250\n",
      "32/32 [==============================] - 0s 2ms/step - loss: 1349.9973\n",
      "Epoch 108/250\n",
      "32/32 [==============================] - 0s 2ms/step - loss: 1321.5320\n",
      "Epoch 109/250\n",
      "32/32 [==============================] - 0s 2ms/step - loss: 1291.6671\n",
      "Epoch 110/250\n",
      "32/32 [==============================] - 0s 2ms/step - loss: 1262.3329\n",
      "Epoch 111/250\n",
      "32/32 [==============================] - 0s 2ms/step - loss: 1233.9034\n",
      "Epoch 112/250\n",
      "32/32 [==============================] - 0s 3ms/step - loss: 1203.3340\n",
      "Epoch 113/250\n",
      "32/32 [==============================] - 0s 2ms/step - loss: 1177.2913\n",
      "Epoch 114/250\n",
      "32/32 [==============================] - 0s 2ms/step - loss: 1148.7761\n",
      "Epoch 115/250\n",
      "32/32 [==============================] - 0s 3ms/step - loss: 1121.7911\n",
      "Epoch 116/250\n",
      "32/32 [==============================] - 0s 4ms/step - loss: 1091.2528\n",
      "Epoch 117/250\n",
      "32/32 [==============================] - 0s 3ms/step - loss: 1061.7261\n",
      "Epoch 118/250\n",
      "32/32 [==============================] - 0s 3ms/step - loss: 1035.0874\n",
      "Epoch 119/250\n",
      "32/32 [==============================] - 0s 3ms/step - loss: 1008.6374\n",
      "Epoch 120/250\n",
      "32/32 [==============================] - 0s 2ms/step - loss: 984.7133\n",
      "Epoch 121/250\n",
      "32/32 [==============================] - 0s 2ms/step - loss: 961.4636\n",
      "Epoch 122/250\n",
      "32/32 [==============================] - 0s 2ms/step - loss: 934.6514\n",
      "Epoch 123/250\n",
      "32/32 [==============================] - 0s 3ms/step - loss: 910.8349\n",
      "Epoch 124/250\n",
      "32/32 [==============================] - 0s 3ms/step - loss: 884.4182\n",
      "Epoch 125/250\n",
      "32/32 [==============================] - 0s 3ms/step - loss: 856.7353\n",
      "Epoch 126/250\n",
      "32/32 [==============================] - 0s 3ms/step - loss: 832.3287\n",
      "Epoch 127/250\n",
      "32/32 [==============================] - 0s 2ms/step - loss: 808.0377\n",
      "Epoch 128/250\n",
      "32/32 [==============================] - 0s 3ms/step - loss: 784.0906\n",
      "Epoch 129/250\n",
      "32/32 [==============================] - 0s 3ms/step - loss: 760.8669\n",
      "Epoch 130/250\n",
      "32/32 [==============================] - 0s 3ms/step - loss: 739.3870\n",
      "Epoch 131/250\n",
      "32/32 [==============================] - 0s 3ms/step - loss: 715.8435\n",
      "Epoch 132/250\n",
      "32/32 [==============================] - 0s 4ms/step - loss: 693.4044\n",
      "Epoch 133/250\n",
      "32/32 [==============================] - 0s 4ms/step - loss: 671.1976\n",
      "Epoch 134/250\n",
      "32/32 [==============================] - 0s 4ms/step - loss: 652.0895\n",
      "Epoch 135/250\n",
      "32/32 [==============================] - 0s 4ms/step - loss: 629.6604\n",
      "Epoch 136/250\n",
      "32/32 [==============================] - 0s 4ms/step - loss: 610.2790\n",
      "Epoch 137/250\n",
      "32/32 [==============================] - 0s 4ms/step - loss: 586.5533\n",
      "Epoch 138/250\n",
      "32/32 [==============================] - 0s 4ms/step - loss: 567.1876\n",
      "Epoch 139/250\n",
      "32/32 [==============================] - 0s 5ms/step - loss: 548.0316\n",
      "Epoch 140/250\n",
      "32/32 [==============================] - 0s 3ms/step - loss: 527.0721\n",
      "Epoch 141/250\n",
      "32/32 [==============================] - 0s 3ms/step - loss: 506.5987\n",
      "Epoch 142/250\n",
      "32/32 [==============================] - 0s 3ms/step - loss: 485.3643\n",
      "Epoch 143/250\n",
      "32/32 [==============================] - 0s 3ms/step - loss: 464.8778\n",
      "Epoch 144/250\n",
      "32/32 [==============================] - 0s 4ms/step - loss: 445.2977\n",
      "Epoch 145/250\n",
      "32/32 [==============================] - 0s 4ms/step - loss: 426.6106\n",
      "Epoch 146/250\n",
      "32/32 [==============================] - 0s 3ms/step - loss: 407.5364\n",
      "Epoch 147/250\n",
      "32/32 [==============================] - 0s 4ms/step - loss: 387.2688\n",
      "Epoch 148/250\n",
      "32/32 [==============================] - 0s 4ms/step - loss: 368.4782\n",
      "Epoch 149/250\n",
      "32/32 [==============================] - 0s 4ms/step - loss: 351.3998\n",
      "Epoch 150/250\n",
      "32/32 [==============================] - 0s 4ms/step - loss: 333.2753\n",
      "Epoch 151/250\n",
      "32/32 [==============================] - 0s 3ms/step - loss: 315.1261\n",
      "Epoch 152/250\n",
      "32/32 [==============================] - 0s 3ms/step - loss: 301.5752\n",
      "Epoch 153/250\n",
      "32/32 [==============================] - 0s 3ms/step - loss: 286.6897\n",
      "Epoch 154/250\n",
      "32/32 [==============================] - 0s 4ms/step - loss: 273.5897\n",
      "Epoch 155/250\n",
      "32/32 [==============================] - 0s 4ms/step - loss: 258.9626\n",
      "Epoch 156/250\n",
      "32/32 [==============================] - 0s 4ms/step - loss: 246.3781\n",
      "Epoch 157/250\n",
      "32/32 [==============================] - 0s 4ms/step - loss: 232.0865\n",
      "Epoch 158/250\n",
      "32/32 [==============================] - 0s 4ms/step - loss: 219.3710\n",
      "Epoch 159/250\n",
      "32/32 [==============================] - 0s 3ms/step - loss: 208.0539\n",
      "Epoch 160/250\n",
      "32/32 [==============================] - 0s 4ms/step - loss: 196.5708\n",
      "Epoch 161/250\n",
      "32/32 [==============================] - 0s 4ms/step - loss: 184.6510\n",
      "Epoch 162/250\n",
      "32/32 [==============================] - 0s 4ms/step - loss: 172.3726\n",
      "Epoch 163/250\n",
      "32/32 [==============================] - 0s 4ms/step - loss: 161.0184\n",
      "Epoch 164/250\n",
      "32/32 [==============================] - 0s 3ms/step - loss: 151.4794\n",
      "Epoch 165/250\n",
      "32/32 [==============================] - 0s 3ms/step - loss: 142.7748\n",
      "Epoch 166/250\n",
      "32/32 [==============================] - 0s 5ms/step - loss: 133.1032\n",
      "Epoch 167/250\n",
      "32/32 [==============================] - 0s 5ms/step - loss: 123.7348\n",
      "Epoch 168/250\n",
      "32/32 [==============================] - 0s 4ms/step - loss: 115.9759\n",
      "Epoch 169/250\n",
      "32/32 [==============================] - 0s 4ms/step - loss: 108.8012\n",
      "Epoch 170/250\n",
      "32/32 [==============================] - 0s 3ms/step - loss: 101.0364\n",
      "Epoch 171/250\n",
      "32/32 [==============================] - 0s 4ms/step - loss: 93.7821\n",
      "Epoch 172/250\n",
      "32/32 [==============================] - 0s 3ms/step - loss: 88.3119\n",
      "Epoch 173/250\n",
      "32/32 [==============================] - 0s 3ms/step - loss: 81.2369\n",
      "Epoch 174/250\n",
      "32/32 [==============================] - 0s 3ms/step - loss: 74.6148\n",
      "Epoch 175/250\n",
      "32/32 [==============================] - 0s 3ms/step - loss: 68.9387\n",
      "Epoch 176/250\n",
      "32/32 [==============================] - 0s 3ms/step - loss: 64.3234\n",
      "Epoch 177/250\n",
      "32/32 [==============================] - 0s 3ms/step - loss: 59.7851\n",
      "Epoch 178/250\n",
      "32/32 [==============================] - 0s 3ms/step - loss: 55.4758\n",
      "Epoch 179/250\n",
      "32/32 [==============================] - 0s 3ms/step - loss: 51.4995\n",
      "Epoch 180/250\n",
      "32/32 [==============================] - 0s 3ms/step - loss: 48.1230\n",
      "Epoch 181/250\n",
      "32/32 [==============================] - 0s 4ms/step - loss: 44.7750\n",
      "Epoch 182/250\n",
      "32/32 [==============================] - 0s 3ms/step - loss: 41.5915\n",
      "Epoch 183/250\n",
      "32/32 [==============================] - 0s 2ms/step - loss: 39.5717\n",
      "Epoch 184/250\n",
      "32/32 [==============================] - 0s 3ms/step - loss: 37.4536\n",
      "Epoch 185/250\n",
      "32/32 [==============================] - 0s 3ms/step - loss: 35.5020\n",
      "Epoch 186/250\n",
      "32/32 [==============================] - 0s 3ms/step - loss: 33.8386\n",
      "Epoch 187/250\n",
      "32/32 [==============================] - 0s 3ms/step - loss: 32.3008\n",
      "Epoch 188/250\n",
      "32/32 [==============================] - 0s 4ms/step - loss: 31.1168\n",
      "Epoch 189/250\n",
      "32/32 [==============================] - 0s 3ms/step - loss: 30.4553\n",
      "Epoch 190/250\n",
      "32/32 [==============================] - 0s 4ms/step - loss: 29.2681\n",
      "Epoch 191/250\n",
      "32/32 [==============================] - 0s 3ms/step - loss: 28.5695\n",
      "Epoch 192/250\n",
      "32/32 [==============================] - 0s 3ms/step - loss: 27.6412\n",
      "Epoch 193/250\n",
      "32/32 [==============================] - 0s 3ms/step - loss: 27.0945\n",
      "Epoch 194/250\n"
     ]
    },
    {
     "name": "stdout",
     "output_type": "stream",
     "text": [
      "32/32 [==============================] - 0s 3ms/step - loss: 26.7058\n",
      "Epoch 195/250\n",
      "32/32 [==============================] - 0s 3ms/step - loss: 26.1120\n",
      "Epoch 196/250\n",
      "32/32 [==============================] - 0s 3ms/step - loss: 26.2518\n",
      "Epoch 197/250\n",
      "32/32 [==============================] - 0s 3ms/step - loss: 25.7627\n",
      "Epoch 198/250\n",
      "32/32 [==============================] - 0s 2ms/step - loss: 25.5179\n",
      "Epoch 199/250\n",
      "32/32 [==============================] - 0s 2ms/step - loss: 25.2135\n",
      "Epoch 200/250\n",
      "32/32 [==============================] - 0s 2ms/step - loss: 25.1467\n",
      "Epoch 201/250\n",
      "32/32 [==============================] - 0s 3ms/step - loss: 24.9908\n",
      "Epoch 202/250\n",
      "32/32 [==============================] - 0s 2ms/step - loss: 24.8816\n",
      "Epoch 203/250\n",
      "32/32 [==============================] - 0s 3ms/step - loss: 24.9244\n",
      "Epoch 204/250\n",
      "32/32 [==============================] - 0s 6ms/step - loss: 24.8100\n",
      "Epoch 205/250\n",
      "32/32 [==============================] - 0s 5ms/step - loss: 24.7239\n",
      "Epoch 206/250\n",
      "32/32 [==============================] - 0s 4ms/step - loss: 25.1064\n",
      "Epoch 207/250\n",
      "32/32 [==============================] - 0s 3ms/step - loss: 24.6986\n",
      "Epoch 208/250\n",
      "32/32 [==============================] - 0s 2ms/step - loss: 24.6935\n",
      "Epoch 209/250\n",
      "32/32 [==============================] - 0s 2ms/step - loss: 24.5001\n",
      "Epoch 210/250\n",
      "32/32 [==============================] - 0s 2ms/step - loss: 24.6905\n",
      "Epoch 211/250\n",
      "32/32 [==============================] - 0s 2ms/step - loss: 24.6305\n",
      "Epoch 212/250\n",
      "32/32 [==============================] - 0s 3ms/step - loss: 24.4669\n",
      "Epoch 213/250\n",
      "32/32 [==============================] - 0s 2ms/step - loss: 24.4916\n",
      "Epoch 214/250\n",
      "32/32 [==============================] - 0s 2ms/step - loss: 24.6396\n",
      "Epoch 215/250\n",
      "32/32 [==============================] - 0s 2ms/step - loss: 24.3661\n",
      "Epoch 216/250\n",
      "32/32 [==============================] - 0s 2ms/step - loss: 24.6991\n",
      "Epoch 217/250\n",
      "32/32 [==============================] - 0s 2ms/step - loss: 24.5390\n",
      "Epoch 218/250\n",
      "32/32 [==============================] - 0s 2ms/step - loss: 24.6822\n",
      "Epoch 219/250\n",
      "32/32 [==============================] - 0s 2ms/step - loss: 24.3241\n",
      "Epoch 220/250\n",
      "32/32 [==============================] - 0s 2ms/step - loss: 24.5499\n",
      "Epoch 221/250\n",
      "32/32 [==============================] - 0s 2ms/step - loss: 24.6282\n",
      "Epoch 222/250\n",
      "32/32 [==============================] - 0s 2ms/step - loss: 24.6896\n",
      "Epoch 223/250\n",
      "32/32 [==============================] - 0s 2ms/step - loss: 24.5280\n",
      "Epoch 224/250\n",
      "32/32 [==============================] - 0s 2ms/step - loss: 24.5915\n",
      "Epoch 225/250\n",
      "32/32 [==============================] - 0s 2ms/step - loss: 24.4826\n",
      "Epoch 226/250\n",
      "32/32 [==============================] - 0s 2ms/step - loss: 24.5466\n",
      "Epoch 227/250\n",
      "32/32 [==============================] - 0s 2ms/step - loss: 24.2708\n",
      "Epoch 228/250\n",
      "32/32 [==============================] - 0s 2ms/step - loss: 24.5529\n",
      "Epoch 229/250\n",
      "32/32 [==============================] - 0s 2ms/step - loss: 24.4614\n",
      "Epoch 230/250\n",
      "32/32 [==============================] - 0s 2ms/step - loss: 24.3706\n",
      "Epoch 231/250\n",
      "32/32 [==============================] - 0s 3ms/step - loss: 24.4968\n",
      "Epoch 232/250\n",
      "32/32 [==============================] - 0s 2ms/step - loss: 24.2596\n",
      "Epoch 233/250\n",
      "32/32 [==============================] - 0s 2ms/step - loss: 24.4599\n",
      "Epoch 234/250\n",
      "32/32 [==============================] - 0s 2ms/step - loss: 24.4576\n",
      "Epoch 235/250\n",
      "32/32 [==============================] - 0s 2ms/step - loss: 24.3223\n",
      "Epoch 236/250\n",
      "32/32 [==============================] - 0s 2ms/step - loss: 24.5509\n",
      "Epoch 237/250\n",
      "32/32 [==============================] - 0s 2ms/step - loss: 24.3724\n",
      "Epoch 238/250\n",
      "32/32 [==============================] - 0s 2ms/step - loss: 24.6553\n",
      "Epoch 239/250\n",
      "32/32 [==============================] - 0s 2ms/step - loss: 24.5948\n",
      "Epoch 240/250\n",
      "32/32 [==============================] - 0s 3ms/step - loss: 24.6050\n",
      "Epoch 241/250\n",
      "32/32 [==============================] - 0s 2ms/step - loss: 24.6122\n",
      "Epoch 242/250\n",
      "32/32 [==============================] - 0s 2ms/step - loss: 24.5169\n",
      "Epoch 243/250\n",
      "32/32 [==============================] - 0s 2ms/step - loss: 24.5053\n",
      "Epoch 244/250\n",
      "32/32 [==============================] - 0s 2ms/step - loss: 24.5233\n",
      "Epoch 245/250\n",
      "32/32 [==============================] - 0s 2ms/step - loss: 24.6545\n",
      "Epoch 246/250\n",
      "32/32 [==============================] - 0s 2ms/step - loss: 24.4253\n",
      "Epoch 247/250\n",
      "32/32 [==============================] - 0s 2ms/step - loss: 24.4383\n",
      "Epoch 248/250\n",
      "32/32 [==============================] - 0s 2ms/step - loss: 24.4937\n",
      "Epoch 249/250\n",
      "32/32 [==============================] - 0s 2ms/step - loss: 24.5298\n",
      "Epoch 250/250\n",
      "32/32 [==============================] - 0s 2ms/step - loss: 24.3674\n"
     ]
    },
    {
     "data": {
      "text/plain": [
       "<keras.callbacks.History at 0x1ca457a1af0>"
      ]
     },
     "execution_count": 54,
     "metadata": {},
     "output_type": "execute_result"
    }
   ],
   "source": [
    "final_model = Sequential()\n",
    "\n",
    "final_model.add(Dense(units = 4, activation = \"relu\"))     # input_dim = 2 or input_dim = X_train.shape[1]\n",
    "final_model.add(Dense(units = 4, activation = \"relu\"))\n",
    "final_model.add(Dense(units = 4, activation = \"relu\"))\n",
    "final_model.add(Dense(1))\n",
    "\n",
    "final_model.compile(optimizer = \"rmsprop\", loss = \"mse\")\n",
    "\n",
    "final_model.fit(x = X_scaled, y = y, batch_size = 32, epochs = 250)"
   ]
  },
  {
   "cell_type": "code",
   "execution_count": 55,
   "metadata": {},
   "outputs": [
    {
     "name": "stdout",
     "output_type": "stream",
     "text": [
      "Model: \"sequential_2\"\n",
      "_________________________________________________________________\n",
      " Layer (type)                Output Shape              Param #   \n",
      "=================================================================\n",
      " dense_8 (Dense)             (None, 4)                 12        \n",
      "                                                                 \n",
      " dense_9 (Dense)             (None, 4)                 20        \n",
      "                                                                 \n",
      " dense_10 (Dense)            (None, 4)                 20        \n",
      "                                                                 \n",
      " dense_11 (Dense)            (None, 1)                 5         \n",
      "                                                                 \n",
      "=================================================================\n",
      "Total params: 57\n",
      "Trainable params: 57\n",
      "Non-trainable params: 0\n",
      "_________________________________________________________________\n"
     ]
    }
   ],
   "source": [
    "final_model.summary()"
   ]
  },
  {
   "cell_type": "markdown",
   "metadata": {},
   "source": [
    "### Saving a Model"
   ]
  },
  {
   "cell_type": "markdown",
   "metadata": {},
   "source": [
    "You can save a TensorFlow/Keras model using [`model.save()`](https://www.tensorflow.org/tutorials/keras/save_and_load#save_the_entire_model).\n",
    "\n",
    "Keras saves models by inspecting their architectures. This technique saves everything:\n",
    "\n",
    "- The weight values\n",
    "- The model's architecture\n",
    "- The model's training configuration (what you pass to the .compile() method)\n",
    "- The optimizer and its state, if any (this enables you to restart training where you left off)\n",
    "\n",
    "There are two ways to save a model in TensorFlow:\n",
    "1. The [SavedModel format](https://www.tensorflow.org/tutorials/keras/save_and_load#savedmodel_format) (default).\n",
    "2. The [HDF5 format](https://www.tensorflow.org/tutorials/keras/save_and_load#hdf5_format).\n",
    "\n"
   ]
  },
  {
   "cell_type": "code",
   "execution_count": 56,
   "metadata": {},
   "outputs": [],
   "source": [
    "final_model.save('model_fake_reg.h5')  # creates a HDF5 file 'my_model.h5'"
   ]
  },
  {
   "cell_type": "code",
   "execution_count": 57,
   "metadata": {},
   "outputs": [],
   "source": [
    "#final_model.save(\"model_fake_reg\") "
   ]
  },
  {
   "cell_type": "markdown",
   "metadata": {},
   "source": [
    "### Loading Model"
   ]
  },
  {
   "cell_type": "code",
   "execution_count": 58,
   "metadata": {},
   "outputs": [],
   "source": [
    "from tensorflow.keras.models import load_model"
   ]
  },
  {
   "cell_type": "code",
   "execution_count": 59,
   "metadata": {},
   "outputs": [],
   "source": [
    "model_fake_reg = load_model('model_fake_reg.h5')"
   ]
  },
  {
   "cell_type": "code",
   "execution_count": 60,
   "metadata": {},
   "outputs": [],
   "source": [
    "scaler_fake_reg = pickle.load(open(\"scaler_fake_reg\", \"rb\"))"
   ]
  },
  {
   "cell_type": "markdown",
   "metadata": {},
   "source": [
    "## Prediction-1"
   ]
  },
  {
   "cell_type": "code",
   "execution_count": 61,
   "metadata": {},
   "outputs": [],
   "source": [
    "sample = [[998, 1000]]"
   ]
  },
  {
   "cell_type": "code",
   "execution_count": 62,
   "metadata": {},
   "outputs": [],
   "source": [
    "sample_scaled = scaler_fake_reg.transform(sample)"
   ]
  },
  {
   "cell_type": "code",
   "execution_count": 63,
   "metadata": {},
   "outputs": [
    {
     "name": "stdout",
     "output_type": "stream",
     "text": [
      "1/1 [==============================] - 0s 97ms/step\n"
     ]
    },
    {
     "data": {
      "text/plain": [
       "array([[418.75403]], dtype=float32)"
      ]
     },
     "execution_count": 63,
     "metadata": {},
     "output_type": "execute_result"
    }
   ],
   "source": [
    "model_fake_reg.predict(sample_scaled)"
   ]
  },
  {
   "cell_type": "markdown",
   "metadata": {},
   "source": [
    "## Prediction-2"
   ]
  },
  {
   "cell_type": "code",
   "execution_count": 64,
   "metadata": {},
   "outputs": [],
   "source": [
    "my_dict = {\"Feature1\": [997, 998, 999, 1000, 1001],\n",
    "           \"Feature2\": [1000, 999, 998, 997, 996]}"
   ]
  },
  {
   "cell_type": "code",
   "execution_count": 65,
   "metadata": {},
   "outputs": [
    {
     "data": {
      "text/html": [
       "<div>\n",
       "<style scoped>\n",
       "    .dataframe tbody tr th:only-of-type {\n",
       "        vertical-align: middle;\n",
       "    }\n",
       "\n",
       "    .dataframe tbody tr th {\n",
       "        vertical-align: top;\n",
       "    }\n",
       "\n",
       "    .dataframe thead th {\n",
       "        text-align: right;\n",
       "    }\n",
       "</style>\n",
       "<table border=\"1\" class=\"dataframe\">\n",
       "  <thead>\n",
       "    <tr style=\"text-align: right;\">\n",
       "      <th></th>\n",
       "      <th>Feature1</th>\n",
       "      <th>Feature2</th>\n",
       "    </tr>\n",
       "  </thead>\n",
       "  <tbody>\n",
       "    <tr>\n",
       "      <th>0</th>\n",
       "      <td>997</td>\n",
       "      <td>1000</td>\n",
       "    </tr>\n",
       "    <tr>\n",
       "      <th>1</th>\n",
       "      <td>998</td>\n",
       "      <td>999</td>\n",
       "    </tr>\n",
       "    <tr>\n",
       "      <th>2</th>\n",
       "      <td>999</td>\n",
       "      <td>998</td>\n",
       "    </tr>\n",
       "    <tr>\n",
       "      <th>3</th>\n",
       "      <td>1000</td>\n",
       "      <td>997</td>\n",
       "    </tr>\n",
       "    <tr>\n",
       "      <th>4</th>\n",
       "      <td>1001</td>\n",
       "      <td>996</td>\n",
       "    </tr>\n",
       "  </tbody>\n",
       "</table>\n",
       "</div>"
=======
      "cell_type": "markdown",
      "metadata": {
        "id": "view-in-github",
        "colab_type": "text"
      },
      "source": [
        "<a href=\"https://colab.research.google.com/github/yildiz3/Deep-Learning/blob/master/InClass-Notes/DL-2/DL-S2%20(Installing%20Tensorflow%20_%20Keras%20Syntext%20Basics-fake%20reg).ipynb\" target=\"_parent\"><img src=\"https://colab.research.google.com/assets/colab-badge.svg\" alt=\"Open In Colab\"/></a>"
      ]
    },
    {
      "cell_type": "markdown",
      "metadata": {
        "id": "P5LaXVzOmRRA"
      },
      "source": [
        "___\n",
        "\n",
        "<p style=\"text-align: center;\"><img src=\"https://docs.google.com/uc?id=1lY0Uj5R04yMY3-ZppPWxqCr5pvBLYPnV\" class=\"img-fluid\" alt=\"CLRSWY\"></p>\n",
        "\n",
        "___"
      ]
    },
    {
      "cell_type": "markdown",
      "metadata": {
        "id": "8ECwG-7xmRRJ"
      },
      "source": [
        "<h1 style=\"text-align: center;\">Deep Learning<br><br>Session - 2<br><br>Installing Tensorflow & Keras Syntax Basics<br><br>Fake Reg<br><h1>"
      ]
    },
    {
      "cell_type": "markdown",
      "metadata": {
        "id": "y6hLKkhZmRRK"
      },
      "source": [
        "# Installing Tensorflow"
      ]
    },
    {
      "cell_type": "code",
      "execution_count": null,
      "metadata": {
        "id": "0oZkaP8zmRRL",
        "outputId": "8d6de2b0-30cd-469f-ecd9-8e6e5a4991db"
      },
      "outputs": [
        {
          "name": "stdout",
          "output_type": "stream",
          "text": [
            "Python 2.7.16\n"
          ]
        }
      ],
      "source": [
        "!python --version"
      ]
    },
    {
      "cell_type": "code",
      "execution_count": null,
      "metadata": {
        "id": "dsojjqbkmRRP",
        "outputId": "aee0eb52-67e1-4415-b9c3-7975fdbe8fb7"
      },
      "outputs": [
        {
          "name": "stdout",
          "output_type": "stream",
          "text": [
            "Requirement already satisfied: tensorflow in /Library/Frameworks/Python.framework/Versions/3.9/lib/python3.9/site-packages (2.8.0)\n",
            "Requirement already satisfied: gast>=0.2.1 in /Library/Frameworks/Python.framework/Versions/3.9/lib/python3.9/site-packages (from tensorflow) (0.5.3)\n",
            "Requirement already satisfied: setuptools in /Library/Frameworks/Python.framework/Versions/3.9/lib/python3.9/site-packages (from tensorflow) (56.0.0)\n",
            "Requirement already satisfied: keras-preprocessing>=1.1.1 in /Library/Frameworks/Python.framework/Versions/3.9/lib/python3.9/site-packages (from tensorflow) (1.1.2)\n",
            "Requirement already satisfied: grpcio<2.0,>=1.24.3 in /Library/Frameworks/Python.framework/Versions/3.9/lib/python3.9/site-packages (from tensorflow) (1.44.0)\n",
            "Requirement already satisfied: tf-estimator-nightly==2.8.0.dev2021122109 in /Library/Frameworks/Python.framework/Versions/3.9/lib/python3.9/site-packages (from tensorflow) (2.8.0.dev2021122109)\n",
            "Requirement already satisfied: opt-einsum>=2.3.2 in /Library/Frameworks/Python.framework/Versions/3.9/lib/python3.9/site-packages (from tensorflow) (3.3.0)\n",
            "Requirement already satisfied: h5py>=2.9.0 in /Library/Frameworks/Python.framework/Versions/3.9/lib/python3.9/site-packages (from tensorflow) (3.6.0)\n",
            "Requirement already satisfied: google-pasta>=0.1.1 in /Library/Frameworks/Python.framework/Versions/3.9/lib/python3.9/site-packages (from tensorflow) (0.2.0)\n",
            "Requirement already satisfied: termcolor>=1.1.0 in /Library/Frameworks/Python.framework/Versions/3.9/lib/python3.9/site-packages (from tensorflow) (1.1.0)\n",
            "Requirement already satisfied: wrapt>=1.11.0 in /Library/Frameworks/Python.framework/Versions/3.9/lib/python3.9/site-packages (from tensorflow) (1.14.0)\n",
            "Requirement already satisfied: six>=1.12.0 in /Library/Frameworks/Python.framework/Versions/3.9/lib/python3.9/site-packages (from tensorflow) (1.16.0)\n",
            "Requirement already satisfied: keras<2.9,>=2.8.0rc0 in /Library/Frameworks/Python.framework/Versions/3.9/lib/python3.9/site-packages (from tensorflow) (2.8.0)\n",
            "Requirement already satisfied: tensorflow-io-gcs-filesystem>=0.23.1 in /Library/Frameworks/Python.framework/Versions/3.9/lib/python3.9/site-packages (from tensorflow) (0.24.0)\n",
            "Requirement already satisfied: tensorboard<2.9,>=2.8 in /Library/Frameworks/Python.framework/Versions/3.9/lib/python3.9/site-packages (from tensorflow) (2.8.0)\n",
            "Requirement already satisfied: protobuf>=3.9.2 in /Library/Frameworks/Python.framework/Versions/3.9/lib/python3.9/site-packages (from tensorflow) (3.19.4)\n",
            "Requirement already satisfied: libclang>=9.0.1 in /Library/Frameworks/Python.framework/Versions/3.9/lib/python3.9/site-packages (from tensorflow) (13.0.0)\n",
            "Requirement already satisfied: numpy>=1.20 in /Library/Frameworks/Python.framework/Versions/3.9/lib/python3.9/site-packages (from tensorflow) (1.22.2)\n",
            "Requirement already satisfied: astunparse>=1.6.0 in /Library/Frameworks/Python.framework/Versions/3.9/lib/python3.9/site-packages (from tensorflow) (1.6.3)\n",
            "Requirement already satisfied: flatbuffers>=1.12 in /Library/Frameworks/Python.framework/Versions/3.9/lib/python3.9/site-packages (from tensorflow) (2.0)\n",
            "Requirement already satisfied: typing-extensions>=3.6.6 in /Library/Frameworks/Python.framework/Versions/3.9/lib/python3.9/site-packages (from tensorflow) (4.1.1)\n",
            "Requirement already satisfied: absl-py>=0.4.0 in /Library/Frameworks/Python.framework/Versions/3.9/lib/python3.9/site-packages (from tensorflow) (1.0.0)\n",
            "Requirement already satisfied: wheel<1.0,>=0.23.0 in /Library/Frameworks/Python.framework/Versions/3.9/lib/python3.9/site-packages (from astunparse>=1.6.0->tensorflow) (0.37.1)\n",
            "Requirement already satisfied: google-auth-oauthlib<0.5,>=0.4.1 in /Library/Frameworks/Python.framework/Versions/3.9/lib/python3.9/site-packages (from tensorboard<2.9,>=2.8->tensorflow) (0.4.6)\n",
            "Requirement already satisfied: werkzeug>=0.11.15 in /Library/Frameworks/Python.framework/Versions/3.9/lib/python3.9/site-packages (from tensorboard<2.9,>=2.8->tensorflow) (2.0.3)\n",
            "Requirement already satisfied: google-auth<3,>=1.6.3 in /Library/Frameworks/Python.framework/Versions/3.9/lib/python3.9/site-packages (from tensorboard<2.9,>=2.8->tensorflow) (2.6.2)\n",
            "Requirement already satisfied: requests<3,>=2.21.0 in /Library/Frameworks/Python.framework/Versions/3.9/lib/python3.9/site-packages (from tensorboard<2.9,>=2.8->tensorflow) (2.27.1)\n",
            "Requirement already satisfied: tensorboard-plugin-wit>=1.6.0 in /Library/Frameworks/Python.framework/Versions/3.9/lib/python3.9/site-packages (from tensorboard<2.9,>=2.8->tensorflow) (1.8.1)\n",
            "Requirement already satisfied: markdown>=2.6.8 in /Library/Frameworks/Python.framework/Versions/3.9/lib/python3.9/site-packages (from tensorboard<2.9,>=2.8->tensorflow) (3.3.6)\n",
            "Requirement already satisfied: tensorboard-data-server<0.7.0,>=0.6.0 in /Library/Frameworks/Python.framework/Versions/3.9/lib/python3.9/site-packages (from tensorboard<2.9,>=2.8->tensorflow) (0.6.1)\n",
            "Requirement already satisfied: pyasn1-modules>=0.2.1 in /Library/Frameworks/Python.framework/Versions/3.9/lib/python3.9/site-packages (from google-auth<3,>=1.6.3->tensorboard<2.9,>=2.8->tensorflow) (0.2.8)\n",
            "Requirement already satisfied: cachetools<6.0,>=2.0.0 in /Library/Frameworks/Python.framework/Versions/3.9/lib/python3.9/site-packages (from google-auth<3,>=1.6.3->tensorboard<2.9,>=2.8->tensorflow) (5.0.0)\n",
            "Requirement already satisfied: rsa<5,>=3.1.4 in /Library/Frameworks/Python.framework/Versions/3.9/lib/python3.9/site-packages (from google-auth<3,>=1.6.3->tensorboard<2.9,>=2.8->tensorflow) (4.8)\n",
            "Requirement already satisfied: requests-oauthlib>=0.7.0 in /Library/Frameworks/Python.framework/Versions/3.9/lib/python3.9/site-packages (from google-auth-oauthlib<0.5,>=0.4.1->tensorboard<2.9,>=2.8->tensorflow) (1.3.1)\n",
            "Requirement already satisfied: importlib-metadata>=4.4 in /Library/Frameworks/Python.framework/Versions/3.9/lib/python3.9/site-packages (from markdown>=2.6.8->tensorboard<2.9,>=2.8->tensorflow) (4.11.3)\n",
            "Requirement already satisfied: urllib3<1.27,>=1.21.1 in /Library/Frameworks/Python.framework/Versions/3.9/lib/python3.9/site-packages (from requests<3,>=2.21.0->tensorboard<2.9,>=2.8->tensorflow) (1.26.8)\n",
            "Requirement already satisfied: idna<4,>=2.5 in /Library/Frameworks/Python.framework/Versions/3.9/lib/python3.9/site-packages (from requests<3,>=2.21.0->tensorboard<2.9,>=2.8->tensorflow) (3.3)\n",
            "Requirement already satisfied: charset-normalizer~=2.0.0 in /Library/Frameworks/Python.framework/Versions/3.9/lib/python3.9/site-packages (from requests<3,>=2.21.0->tensorboard<2.9,>=2.8->tensorflow) (2.0.12)\n",
            "Requirement already satisfied: certifi>=2017.4.17 in /Library/Frameworks/Python.framework/Versions/3.9/lib/python3.9/site-packages (from requests<3,>=2.21.0->tensorboard<2.9,>=2.8->tensorflow) (2021.10.8)\n",
            "Requirement already satisfied: zipp>=0.5 in /Library/Frameworks/Python.framework/Versions/3.9/lib/python3.9/site-packages (from importlib-metadata>=4.4->markdown>=2.6.8->tensorboard<2.9,>=2.8->tensorflow) (3.7.0)\n",
            "Requirement already satisfied: pyasn1<0.5.0,>=0.4.6 in /Library/Frameworks/Python.framework/Versions/3.9/lib/python3.9/site-packages (from pyasn1-modules>=0.2.1->google-auth<3,>=1.6.3->tensorboard<2.9,>=2.8->tensorflow) (0.4.8)\n",
            "Requirement already satisfied: oauthlib>=3.0.0 in /Library/Frameworks/Python.framework/Versions/3.9/lib/python3.9/site-packages (from requests-oauthlib>=0.7.0->google-auth-oauthlib<0.5,>=0.4.1->tensorboard<2.9,>=2.8->tensorflow) (3.2.0)\n",
            "Note: you may need to restart the kernel to use updated packages.\n"
          ]
        }
      ],
      "source": [
        "# pip install tensorflow"
      ]
    },
    {
      "cell_type": "code",
      "execution_count": null,
      "metadata": {
        "id": "MIs5mKPymRRQ",
        "outputId": "80dceec6-217f-4a15-d08b-14955a5f9cff"
      },
      "outputs": [
        {
          "data": {
            "text/plain": [
              "'2.8.0'"
            ]
          },
          "execution_count": 2,
          "metadata": {},
          "output_type": "execute_result"
        }
>>>>>>> 46712f98e215151f733cb27757c2ca5f0052a3f9
      ],
      "source": [
        "import tensorflow as tf\n",
        "tf.__version__"
      ]
<<<<<<< HEAD
     },
     "execution_count": 65,
     "metadata": {},
     "output_type": "execute_result"
    }
   ],
   "source": [
    "sample = pd.DataFrame(my_dict)\n",
    "sample"
   ]
  },
  {
   "cell_type": "code",
   "execution_count": 66,
   "metadata": {},
   "outputs": [
=======
    },
>>>>>>> 46712f98e215151f733cb27757c2ca5f0052a3f9
    {
      "cell_type": "markdown",
      "metadata": {
        "id": "TSgHfhn-mRRR"
      },
      "source": [
        "# Keras Syntax Basics"
      ]
<<<<<<< HEAD
     },
     "execution_count": 66,
     "metadata": {},
     "output_type": "execute_result"
    }
   ],
   "source": [
    "sample_scaled = scaler_fake_reg.transform(sample)\n",
    "sample_scaled"
   ]
  },
  {
   "cell_type": "code",
   "execution_count": 67,
   "metadata": {},
   "outputs": [
    {
     "name": "stdout",
     "output_type": "stream",
     "text": [
      "1/1 [==============================] - 0s 25ms/step\n"
     ]
    },
    {
     "data": {
      "text/plain": [
       "array([[378.71152],\n",
       "       [330.4119 ],\n",
       "       [282.11224],\n",
       "       [233.81262],\n",
       "       [185.513  ]], dtype=float32)"
      ]
     },
     "execution_count": 67,
     "metadata": {},
     "output_type": "execute_result"
=======
    },
    {
      "cell_type": "code",
      "execution_count": 1,
      "metadata": {
        "id": "HyF0Sdi3mRRR"
      },
      "outputs": [],
      "source": [
        "import numpy as np\n",
        "import pandas as pd\n",
        "import matplotlib.pyplot as plt\n",
        "import seaborn as sns\n",
        "\n",
        "import warnings\n",
        "warnings.filterwarnings(\"ignore\")\n",
        "warnings.warn(\"this will not show\")\n",
        "\n",
        "plt.rcParams[\"figure.figsize\"] = (10,6)\n",
        "\n",
        "sns.set_style(\"whitegrid\")\n",
        "pd.set_option('display.float_format', lambda x: '%.3f' % x)\n",
        "\n",
        "# Set it None to display all rows in the dataframe\n",
        "# pd.set_option('display.max_rows', None)\n",
        "\n",
        "# Set it to None to display all columns in the dataframe\n",
        "pd.set_option('display.max_columns', None)"
      ]
    },
    {
      "cell_type": "code",
      "execution_count": null,
      "metadata": {
        "id": "Q4AB9HpomRRS"
      },
      "outputs": [],
      "source": [
        "#from google.colab import drive\n",
        "#drive.mount('/content/drive')"
      ]
    },
    {
      "cell_type": "code",
      "execution_count": null,
      "metadata": {
        "id": "bd5RRgZ5mRRT"
      },
      "outputs": [],
      "source": [
        "#df = pd.read_csv(\"drive/MyDrive/Colab_Files/data/fake_reg.csv\")"
      ]
    },
    {
      "cell_type": "code",
      "execution_count": null,
      "metadata": {
        "id": "AiH8_aFFmRRU"
      },
      "outputs": [],
      "source": [
        "df = pd.read_csv(\"fake_reg.csv\")"
      ]
    },
    {
      "cell_type": "markdown",
      "metadata": {
        "id": "HTIKBUvHmRRV"
      },
      "source": [
        "## Exploratory Data Analysis and Visualization"
      ]
    },
    {
      "cell_type": "code",
      "execution_count": null,
      "metadata": {
        "id": "RuPRTCl7mRRV",
        "outputId": "611a44bf-f237-4ef2-b286-75b610fb38ff"
      },
      "outputs": [
        {
          "data": {
            "text/html": [
              "<div>\n",
              "<style scoped>\n",
              "    .dataframe tbody tr th:only-of-type {\n",
              "        vertical-align: middle;\n",
              "    }\n",
              "\n",
              "    .dataframe tbody tr th {\n",
              "        vertical-align: top;\n",
              "    }\n",
              "\n",
              "    .dataframe thead th {\n",
              "        text-align: right;\n",
              "    }\n",
              "</style>\n",
              "<table border=\"1\" class=\"dataframe\">\n",
              "  <thead>\n",
              "    <tr style=\"text-align: right;\">\n",
              "      <th></th>\n",
              "      <th>price</th>\n",
              "      <th>feature1</th>\n",
              "      <th>feature2</th>\n",
              "    </tr>\n",
              "  </thead>\n",
              "  <tbody>\n",
              "    <tr>\n",
              "      <th>0</th>\n",
              "      <td>461.528</td>\n",
              "      <td>999.788</td>\n",
              "      <td>999.766</td>\n",
              "    </tr>\n",
              "    <tr>\n",
              "      <th>1</th>\n",
              "      <td>548.130</td>\n",
              "      <td>998.862</td>\n",
              "      <td>1001.042</td>\n",
              "    </tr>\n",
              "    <tr>\n",
              "      <th>2</th>\n",
              "      <td>410.297</td>\n",
              "      <td>1000.070</td>\n",
              "      <td>998.844</td>\n",
              "    </tr>\n",
              "    <tr>\n",
              "      <th>3</th>\n",
              "      <td>540.382</td>\n",
              "      <td>999.952</td>\n",
              "      <td>1000.441</td>\n",
              "    </tr>\n",
              "    <tr>\n",
              "      <th>4</th>\n",
              "      <td>546.025</td>\n",
              "      <td>1000.446</td>\n",
              "      <td>1000.339</td>\n",
              "    </tr>\n",
              "  </tbody>\n",
              "</table>\n",
              "</div>"
            ],
            "text/plain": [
              "    price  feature1  feature2\n",
              "0 461.528   999.788   999.766\n",
              "1 548.130   998.862  1001.042\n",
              "2 410.297  1000.070   998.844\n",
              "3 540.382   999.952  1000.441\n",
              "4 546.025  1000.446  1000.339"
            ]
          },
          "execution_count": 5,
          "metadata": {},
          "output_type": "execute_result"
        }
      ],
      "source": [
        "df.head()"
      ]
    },
    {
      "cell_type": "code",
      "execution_count": null,
      "metadata": {
        "id": "TPb5UfU0mRRW",
        "outputId": "6158c607-00c7-481e-a9c1-5e28f872721e"
      },
      "outputs": [
        {
          "name": "stdout",
          "output_type": "stream",
          "text": [
            "<class 'pandas.core.frame.DataFrame'>\n",
            "RangeIndex: 1000 entries, 0 to 999\n",
            "Data columns (total 3 columns):\n",
            " #   Column    Non-Null Count  Dtype  \n",
            "---  ------    --------------  -----  \n",
            " 0   price     1000 non-null   float64\n",
            " 1   feature1  1000 non-null   float64\n",
            " 2   feature2  1000 non-null   float64\n",
            "dtypes: float64(3)\n",
            "memory usage: 23.6 KB\n"
          ]
        }
      ],
      "source": [
        "df.info()"
      ]
    },
    {
      "cell_type": "code",
      "execution_count": null,
      "metadata": {
        "id": "iYayqU1qmRRX",
        "outputId": "622b6184-b760-4e70-fde8-d60ae80983eb"
      },
      "outputs": [
        {
          "data": {
            "text/html": [
              "<div>\n",
              "<style scoped>\n",
              "    .dataframe tbody tr th:only-of-type {\n",
              "        vertical-align: middle;\n",
              "    }\n",
              "\n",
              "    .dataframe tbody tr th {\n",
              "        vertical-align: top;\n",
              "    }\n",
              "\n",
              "    .dataframe thead th {\n",
              "        text-align: right;\n",
              "    }\n",
              "</style>\n",
              "<table border=\"1\" class=\"dataframe\">\n",
              "  <thead>\n",
              "    <tr style=\"text-align: right;\">\n",
              "      <th></th>\n",
              "      <th>count</th>\n",
              "      <th>mean</th>\n",
              "      <th>std</th>\n",
              "      <th>min</th>\n",
              "      <th>25%</th>\n",
              "      <th>50%</th>\n",
              "      <th>75%</th>\n",
              "      <th>max</th>\n",
              "    </tr>\n",
              "  </thead>\n",
              "  <tbody>\n",
              "    <tr>\n",
              "      <th>price</th>\n",
              "      <td>1000.000</td>\n",
              "      <td>498.673</td>\n",
              "      <td>93.785</td>\n",
              "      <td>223.347</td>\n",
              "      <td>433.026</td>\n",
              "      <td>502.382</td>\n",
              "      <td>564.922</td>\n",
              "      <td>774.408</td>\n",
              "    </tr>\n",
              "    <tr>\n",
              "      <th>feature1</th>\n",
              "      <td>1000.000</td>\n",
              "      <td>1000.014</td>\n",
              "      <td>0.974</td>\n",
              "      <td>997.058</td>\n",
              "      <td>999.332</td>\n",
              "      <td>1000.010</td>\n",
              "      <td>1000.638</td>\n",
              "      <td>1003.208</td>\n",
              "    </tr>\n",
              "    <tr>\n",
              "      <th>feature2</th>\n",
              "      <td>1000.000</td>\n",
              "      <td>999.980</td>\n",
              "      <td>0.948</td>\n",
              "      <td>996.996</td>\n",
              "      <td>999.316</td>\n",
              "      <td>1000.002</td>\n",
              "      <td>1000.645</td>\n",
              "      <td>1002.666</td>\n",
              "    </tr>\n",
              "  </tbody>\n",
              "</table>\n",
              "</div>"
            ],
            "text/plain": [
              "            count     mean    std     min     25%      50%      75%      max\n",
              "price    1000.000  498.673 93.785 223.347 433.026  502.382  564.922  774.408\n",
              "feature1 1000.000 1000.014  0.974 997.058 999.332 1000.010 1000.638 1003.208\n",
              "feature2 1000.000  999.980  0.948 996.996 999.316 1000.002 1000.645 1002.666"
            ]
          },
          "execution_count": 7,
          "metadata": {},
          "output_type": "execute_result"
        }
      ],
      "source": [
        "df.describe().T"
      ]
    },
    {
      "cell_type": "code",
      "execution_count": null,
      "metadata": {
        "id": "clSEV0_gmRRX",
        "outputId": "df3f0179-b7ca-4be8-d299-b81577f992e9"
      },
      "outputs": [
        {
          "data": {
            "image/png": "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",
            "text/plain": [
              "<Figure size 540x540 with 12 Axes>"
            ]
          },
          "metadata": {},
          "output_type": "display_data"
        }
      ],
      "source": [
        "sns.pairplot(df);"
      ]
    },
    {
      "cell_type": "code",
      "execution_count": null,
      "metadata": {
        "id": "eQhmQJxkmRRY",
        "outputId": "652dfce9-d897-453f-ac51-ff1ca7c90c85"
      },
      "outputs": [
        {
          "data": {
            "text/html": [
              "<div>\n",
              "<style scoped>\n",
              "    .dataframe tbody tr th:only-of-type {\n",
              "        vertical-align: middle;\n",
              "    }\n",
              "\n",
              "    .dataframe tbody tr th {\n",
              "        vertical-align: top;\n",
              "    }\n",
              "\n",
              "    .dataframe thead th {\n",
              "        text-align: right;\n",
              "    }\n",
              "</style>\n",
              "<table border=\"1\" class=\"dataframe\">\n",
              "  <thead>\n",
              "    <tr style=\"text-align: right;\">\n",
              "      <th></th>\n",
              "      <th>price</th>\n",
              "      <th>feature1</th>\n",
              "      <th>feature2</th>\n",
              "    </tr>\n",
              "  </thead>\n",
              "  <tbody>\n",
              "    <tr>\n",
              "      <th>price</th>\n",
              "      <td>1.000</td>\n",
              "      <td>0.444</td>\n",
              "      <td>0.908</td>\n",
              "    </tr>\n",
              "    <tr>\n",
              "      <th>feature1</th>\n",
              "      <td>0.444</td>\n",
              "      <td>1.000</td>\n",
              "      <td>0.031</td>\n",
              "    </tr>\n",
              "    <tr>\n",
              "      <th>feature2</th>\n",
              "      <td>0.908</td>\n",
              "      <td>0.031</td>\n",
              "      <td>1.000</td>\n",
              "    </tr>\n",
              "  </tbody>\n",
              "</table>\n",
              "</div>"
            ],
            "text/plain": [
              "          price  feature1  feature2\n",
              "price     1.000     0.444     0.908\n",
              "feature1  0.444     1.000     0.031\n",
              "feature2  0.908     0.031     1.000"
            ]
          },
          "execution_count": 9,
          "metadata": {},
          "output_type": "execute_result"
        }
      ],
      "source": [
        "df.corr()"
      ]
    },
    {
      "cell_type": "markdown",
      "metadata": {
        "id": "KEOGNErHmRRZ"
      },
      "source": [
        "## Preprocessing of Data\n",
        "- Train | Test Split, Scalling"
      ]
    },
    {
      "cell_type": "code",
      "execution_count": null,
      "metadata": {
        "id": "aD8OtDz3mRRa"
      },
      "outputs": [],
      "source": [
        "from sklearn.model_selection import train_test_split"
      ]
    },
    {
      "cell_type": "code",
      "execution_count": null,
      "metadata": {
        "id": "2sW2sOVSmRRa"
      },
      "outputs": [],
      "source": [
        "# X = df[['feature1', 'feature2']].values  # convert to array\n",
        "# y = df['price'].values"
      ]
    },
    {
      "cell_type": "code",
      "execution_count": null,
      "metadata": {
        "id": "DuuGl_APmRRa"
      },
      "outputs": [],
      "source": [
        "X = df[['feature1', 'feature2']] \n",
        "y = df['price']"
      ]
    },
    {
      "cell_type": "code",
      "execution_count": null,
      "metadata": {
        "id": "w2C54pMhmRRb",
        "outputId": "2742e65d-9453-4740-faf0-220257d4955f"
      },
      "outputs": [
        {
          "data": {
            "text/html": [
              "<div>\n",
              "<style scoped>\n",
              "    .dataframe tbody tr th:only-of-type {\n",
              "        vertical-align: middle;\n",
              "    }\n",
              "\n",
              "    .dataframe tbody tr th {\n",
              "        vertical-align: top;\n",
              "    }\n",
              "\n",
              "    .dataframe thead th {\n",
              "        text-align: right;\n",
              "    }\n",
              "</style>\n",
              "<table border=\"1\" class=\"dataframe\">\n",
              "  <thead>\n",
              "    <tr style=\"text-align: right;\">\n",
              "      <th></th>\n",
              "      <th>feature1</th>\n",
              "      <th>feature2</th>\n",
              "    </tr>\n",
              "  </thead>\n",
              "  <tbody>\n",
              "    <tr>\n",
              "      <th>0</th>\n",
              "      <td>999.788</td>\n",
              "      <td>999.766</td>\n",
              "    </tr>\n",
              "    <tr>\n",
              "      <th>1</th>\n",
              "      <td>998.862</td>\n",
              "      <td>1001.042</td>\n",
              "    </tr>\n",
              "    <tr>\n",
              "      <th>2</th>\n",
              "      <td>1000.070</td>\n",
              "      <td>998.844</td>\n",
              "    </tr>\n",
              "    <tr>\n",
              "      <th>3</th>\n",
              "      <td>999.952</td>\n",
              "      <td>1000.441</td>\n",
              "    </tr>\n",
              "    <tr>\n",
              "      <th>4</th>\n",
              "      <td>1000.446</td>\n",
              "      <td>1000.339</td>\n",
              "    </tr>\n",
              "    <tr>\n",
              "      <th>...</th>\n",
              "      <td>...</td>\n",
              "      <td>...</td>\n",
              "    </tr>\n",
              "    <tr>\n",
              "      <th>995</th>\n",
              "      <td>1000.019</td>\n",
              "      <td>999.673</td>\n",
              "    </tr>\n",
              "    <tr>\n",
              "      <th>996</th>\n",
              "      <td>998.855</td>\n",
              "      <td>1000.020</td>\n",
              "    </tr>\n",
              "    <tr>\n",
              "      <th>997</th>\n",
              "      <td>1001.452</td>\n",
              "      <td>998.848</td>\n",
              "    </tr>\n",
              "    <tr>\n",
              "      <th>998</th>\n",
              "      <td>1000.771</td>\n",
              "      <td>998.563</td>\n",
              "    </tr>\n",
              "    <tr>\n",
              "      <th>999</th>\n",
              "      <td>999.232</td>\n",
              "      <td>1001.451</td>\n",
              "    </tr>\n",
              "  </tbody>\n",
              "</table>\n",
              "<p>1000 rows × 2 columns</p>\n",
              "</div>"
            ],
            "text/plain": [
              "     feature1  feature2\n",
              "0     999.788   999.766\n",
              "1     998.862  1001.042\n",
              "2    1000.070   998.844\n",
              "3     999.952  1000.441\n",
              "4    1000.446  1000.339\n",
              "..        ...       ...\n",
              "995  1000.019   999.673\n",
              "996   998.855  1000.020\n",
              "997  1001.452   998.848\n",
              "998  1000.771   998.563\n",
              "999   999.232  1001.451\n",
              "\n",
              "[1000 rows x 2 columns]"
            ]
          },
          "execution_count": 15,
          "metadata": {},
          "output_type": "execute_result"
        }
      ],
      "source": [
        "X"
      ]
    },
    {
      "cell_type": "code",
      "execution_count": null,
      "metadata": {
        "id": "bJLrpheDmRRb",
        "outputId": "efc68731-c0cc-4b0d-9e71-0fafbd021065"
      },
      "outputs": [
        {
          "data": {
            "text/plain": [
              "0     461.528\n",
              "1     548.130\n",
              "2     410.297\n",
              "3     540.382\n",
              "4     546.025\n",
              "        ...  \n",
              "995   476.526\n",
              "996   457.313\n",
              "997   456.721\n",
              "998   403.316\n",
              "999   599.367\n",
              "Name: price, Length: 1000, dtype: float64"
            ]
          },
          "execution_count": 16,
          "metadata": {},
          "output_type": "execute_result"
        }
      ],
      "source": [
        "y"
      ]
    },
    {
      "cell_type": "code",
      "execution_count": null,
      "metadata": {
        "id": "qlbPFUDVmRRc"
      },
      "outputs": [],
      "source": [
        "X_train, X_test, y_train, y_test = train_test_split(X, y, test_size = 0.3, random_state = 42)"
      ]
    },
    {
      "cell_type": "code",
      "execution_count": null,
      "metadata": {
        "id": "YhkbFV_WmRRc",
        "outputId": "134d990e-7d63-443b-a858-5fec87dbfc1d"
      },
      "outputs": [
        {
          "data": {
            "text/plain": [
              "(700, 2)"
            ]
          },
          "execution_count": 18,
          "metadata": {},
          "output_type": "execute_result"
        }
      ],
      "source": [
        "X_train.shape"
      ]
    },
    {
      "cell_type": "code",
      "execution_count": null,
      "metadata": {
        "id": "OkS3nch1mRRd",
        "outputId": "430ebda1-6079-4bec-9edb-3c18410fa7eb"
      },
      "outputs": [
        {
          "data": {
            "text/plain": [
              "(300, 2)"
            ]
          },
          "execution_count": 19,
          "metadata": {},
          "output_type": "execute_result"
        }
      ],
      "source": [
        "X_test.shape"
      ]
    },
    {
      "cell_type": "code",
      "execution_count": null,
      "metadata": {
        "id": "p201gm_xmRRe"
      },
      "outputs": [],
      "source": [
        "from sklearn.preprocessing import MinMaxScaler"
      ]
    },
    {
      "cell_type": "code",
      "execution_count": null,
      "metadata": {
        "id": "QFbFpx9MmRRf",
        "outputId": "50b66fa6-f10f-4b88-c223-4a8995793389"
      },
      "outputs": [
        {
          "name": "stdout",
          "output_type": "stream",
          "text": [
            "Help on class MinMaxScaler in module sklearn.preprocessing._data:\n",
            "\n",
            "class MinMaxScaler(sklearn.base.TransformerMixin, sklearn.base.BaseEstimator)\n",
            " |  MinMaxScaler(feature_range=(0, 1), *, copy=True, clip=False)\n",
            " |  \n",
            " |  Transform features by scaling each feature to a given range.\n",
            " |  \n",
            " |  This estimator scales and translates each feature individually such\n",
            " |  that it is in the given range on the training set, e.g. between\n",
            " |  zero and one.\n",
            " |  \n",
            " |  The transformation is given by::\n",
            " |  \n",
            " |      X_std = (X - X.min(axis=0)) / (X.max(axis=0) - X.min(axis=0))\n",
            " |      X_scaled = X_std * (max - min) + min\n",
            " |  \n",
            " |  where min, max = feature_range.\n",
            " |  \n",
            " |  This transformation is often used as an alternative to zero mean,\n",
            " |  unit variance scaling.\n",
            " |  \n",
            " |  Read more in the :ref:`User Guide <preprocessing_scaler>`.\n",
            " |  \n",
            " |  Parameters\n",
            " |  ----------\n",
            " |  feature_range : tuple (min, max), default=(0, 1)\n",
            " |      Desired range of transformed data.\n",
            " |  \n",
            " |  copy : bool, default=True\n",
            " |      Set to False to perform inplace row normalization and avoid a\n",
            " |      copy (if the input is already a numpy array).\n",
            " |  \n",
            " |  clip : bool, default=False\n",
            " |      Set to True to clip transformed values of held-out data to\n",
            " |      provided `feature range`.\n",
            " |  \n",
            " |      .. versionadded:: 0.24\n",
            " |  \n",
            " |  Attributes\n",
            " |  ----------\n",
            " |  min_ : ndarray of shape (n_features,)\n",
            " |      Per feature adjustment for minimum. Equivalent to\n",
            " |      ``min - X.min(axis=0) * self.scale_``\n",
            " |  \n",
            " |  scale_ : ndarray of shape (n_features,)\n",
            " |      Per feature relative scaling of the data. Equivalent to\n",
            " |      ``(max - min) / (X.max(axis=0) - X.min(axis=0))``\n",
            " |  \n",
            " |      .. versionadded:: 0.17\n",
            " |         *scale_* attribute.\n",
            " |  \n",
            " |  data_min_ : ndarray of shape (n_features,)\n",
            " |      Per feature minimum seen in the data\n",
            " |  \n",
            " |      .. versionadded:: 0.17\n",
            " |         *data_min_*\n",
            " |  \n",
            " |  data_max_ : ndarray of shape (n_features,)\n",
            " |      Per feature maximum seen in the data\n",
            " |  \n",
            " |      .. versionadded:: 0.17\n",
            " |         *data_max_*\n",
            " |  \n",
            " |  data_range_ : ndarray of shape (n_features,)\n",
            " |      Per feature range ``(data_max_ - data_min_)`` seen in the data\n",
            " |  \n",
            " |      .. versionadded:: 0.17\n",
            " |         *data_range_*\n",
            " |  \n",
            " |  n_samples_seen_ : int\n",
            " |      The number of samples processed by the estimator.\n",
            " |      It will be reset on new calls to fit, but increments across\n",
            " |      ``partial_fit`` calls.\n",
            " |  \n",
            " |  Examples\n",
            " |  --------\n",
            " |  >>> from sklearn.preprocessing import MinMaxScaler\n",
            " |  >>> data = [[-1, 2], [-0.5, 6], [0, 10], [1, 18]]\n",
            " |  >>> scaler = MinMaxScaler()\n",
            " |  >>> print(scaler.fit(data))\n",
            " |  MinMaxScaler()\n",
            " |  >>> print(scaler.data_max_)\n",
            " |  [ 1. 18.]\n",
            " |  >>> print(scaler.transform(data))\n",
            " |  [[0.   0.  ]\n",
            " |   [0.25 0.25]\n",
            " |   [0.5  0.5 ]\n",
            " |   [1.   1.  ]]\n",
            " |  >>> print(scaler.transform([[2, 2]]))\n",
            " |  [[1.5 0. ]]\n",
            " |  \n",
            " |  See Also\n",
            " |  --------\n",
            " |  minmax_scale : Equivalent function without the estimator API.\n",
            " |  \n",
            " |  Notes\n",
            " |  -----\n",
            " |  NaNs are treated as missing values: disregarded in fit, and maintained in\n",
            " |  transform.\n",
            " |  \n",
            " |  For a comparison of the different scalers, transformers, and normalizers,\n",
            " |  see :ref:`examples/preprocessing/plot_all_scaling.py\n",
            " |  <sphx_glr_auto_examples_preprocessing_plot_all_scaling.py>`.\n",
            " |  \n",
            " |  Method resolution order:\n",
            " |      MinMaxScaler\n",
            " |      sklearn.base.TransformerMixin\n",
            " |      sklearn.base.BaseEstimator\n",
            " |      builtins.object\n",
            " |  \n",
            " |  Methods defined here:\n",
            " |  \n",
            " |  __init__(self, feature_range=(0, 1), *, copy=True, clip=False)\n",
            " |      Initialize self.  See help(type(self)) for accurate signature.\n",
            " |  \n",
            " |  fit(self, X, y=None)\n",
            " |      Compute the minimum and maximum to be used for later scaling.\n",
            " |      \n",
            " |      Parameters\n",
            " |      ----------\n",
            " |      X : array-like of shape (n_samples, n_features)\n",
            " |          The data used to compute the per-feature minimum and maximum\n",
            " |          used for later scaling along the features axis.\n",
            " |      \n",
            " |      y : None\n",
            " |          Ignored.\n",
            " |      \n",
            " |      Returns\n",
            " |      -------\n",
            " |      self : object\n",
            " |          Fitted scaler.\n",
            " |  \n",
            " |  inverse_transform(self, X)\n",
            " |      Undo the scaling of X according to feature_range.\n",
            " |      \n",
            " |      Parameters\n",
            " |      ----------\n",
            " |      X : array-like of shape (n_samples, n_features)\n",
            " |          Input data that will be transformed. It cannot be sparse.\n",
            " |      \n",
            " |      Returns\n",
            " |      -------\n",
            " |      Xt : ndarray of shape (n_samples, n_features)\n",
            " |          Transformed data.\n",
            " |  \n",
            " |  partial_fit(self, X, y=None)\n",
            " |      Online computation of min and max on X for later scaling.\n",
            " |      \n",
            " |      All of X is processed as a single batch. This is intended for cases\n",
            " |      when :meth:`fit` is not feasible due to very large number of\n",
            " |      `n_samples` or because X is read from a continuous stream.\n",
            " |      \n",
            " |      Parameters\n",
            " |      ----------\n",
            " |      X : array-like of shape (n_samples, n_features)\n",
            " |          The data used to compute the mean and standard deviation\n",
            " |          used for later scaling along the features axis.\n",
            " |      \n",
            " |      y : None\n",
            " |          Ignored.\n",
            " |      \n",
            " |      Returns\n",
            " |      -------\n",
            " |      self : object\n",
            " |          Fitted scaler.\n",
            " |  \n",
            " |  transform(self, X)\n",
            " |      Scale features of X according to feature_range.\n",
            " |      \n",
            " |      Parameters\n",
            " |      ----------\n",
            " |      X : array-like of shape (n_samples, n_features)\n",
            " |          Input data that will be transformed.\n",
            " |      \n",
            " |      Returns\n",
            " |      -------\n",
            " |      Xt : ndarray of shape (n_samples, n_features)\n",
            " |          Transformed data.\n",
            " |  \n",
            " |  ----------------------------------------------------------------------\n",
            " |  Methods inherited from sklearn.base.TransformerMixin:\n",
            " |  \n",
            " |  fit_transform(self, X, y=None, **fit_params)\n",
            " |      Fit to data, then transform it.\n",
            " |      \n",
            " |      Fits transformer to `X` and `y` with optional parameters `fit_params`\n",
            " |      and returns a transformed version of `X`.\n",
            " |      \n",
            " |      Parameters\n",
            " |      ----------\n",
            " |      X : array-like of shape (n_samples, n_features)\n",
            " |          Input samples.\n",
            " |      \n",
            " |      y :  array-like of shape (n_samples,) or (n_samples, n_outputs),                 default=None\n",
            " |          Target values (None for unsupervised transformations).\n",
            " |      \n",
            " |      **fit_params : dict\n",
            " |          Additional fit parameters.\n",
            " |      \n",
            " |      Returns\n",
            " |      -------\n",
            " |      X_new : ndarray array of shape (n_samples, n_features_new)\n",
            " |          Transformed array.\n",
            " |  \n",
            " |  ----------------------------------------------------------------------\n",
            " |  Data descriptors inherited from sklearn.base.TransformerMixin:\n",
            " |  \n",
            " |  __dict__\n",
            " |      dictionary for instance variables (if defined)\n",
            " |  \n",
            " |  __weakref__\n",
            " |      list of weak references to the object (if defined)\n",
            " |  \n",
            " |  ----------------------------------------------------------------------\n",
            " |  Methods inherited from sklearn.base.BaseEstimator:\n",
            " |  \n",
            " |  __getstate__(self)\n",
            " |  \n",
            " |  __repr__(self, N_CHAR_MAX=700)\n",
            " |      Return repr(self).\n",
            " |  \n",
            " |  __setstate__(self, state)\n",
            " |  \n",
            " |  get_params(self, deep=True)\n",
            " |      Get parameters for this estimator.\n",
            " |      \n",
            " |      Parameters\n",
            " |      ----------\n",
            " |      deep : bool, default=True\n",
            " |          If True, will return the parameters for this estimator and\n",
            " |          contained subobjects that are estimators.\n",
            " |      \n",
            " |      Returns\n",
            " |      -------\n",
            " |      params : dict\n",
            " |          Parameter names mapped to their values.\n",
            " |  \n",
            " |  set_params(self, **params)\n",
            " |      Set the parameters of this estimator.\n",
            " |      \n",
            " |      The method works on simple estimators as well as on nested objects\n",
            " |      (such as :class:`~sklearn.pipeline.Pipeline`). The latter have\n",
            " |      parameters of the form ``<component>__<parameter>`` so that it's\n",
            " |      possible to update each component of a nested object.\n",
            " |      \n",
            " |      Parameters\n",
            " |      ----------\n",
            " |      **params : dict\n",
            " |          Estimator parameters.\n",
            " |      \n",
            " |      Returns\n",
            " |      -------\n",
            " |      self : estimator instance\n",
            " |          Estimator instance.\n",
            "\n"
          ]
        }
      ],
      "source": [
        "help(MinMaxScaler)"
      ]
    },
    {
      "cell_type": "code",
      "execution_count": null,
      "metadata": {
        "id": "m-cnpcs2mRRg"
      },
      "outputs": [],
      "source": [
        "scaler = MinMaxScaler()"
      ]
    },
    {
      "cell_type": "code",
      "execution_count": null,
      "metadata": {
        "id": "joF-n6PemRRg"
      },
      "outputs": [],
      "source": [
        "scaler.fit(X_train)\n",
        "X_train = scaler.transform(X_train)\n",
        "X_test = scaler.transform(X_test)"
      ]
    },
    {
      "cell_type": "markdown",
      "metadata": {
        "id": "WSsZdxd-mRRg"
      },
      "source": [
        "## Modelling"
      ]
    },
    {
      "cell_type": "code",
      "execution_count": null,
      "metadata": {
        "id": "agUieHejmRRg"
      },
      "outputs": [],
      "source": [
        "import tensorflow as tf"
      ]
    },
    {
      "cell_type": "code",
      "execution_count": null,
      "metadata": {
        "id": "0I3avU7-mRRh"
      },
      "outputs": [],
      "source": [
        "from tensorflow.keras.models import Sequential\n",
        "from tensorflow.keras.layers import Input,Dense, Activation"
      ]
    },
    {
      "cell_type": "code",
      "execution_count": null,
      "metadata": {
        "id": "YlhjxKyKmRRh"
      },
      "outputs": [],
      "source": [
        "# help(Sequential)"
      ]
    },
    {
      "cell_type": "code",
      "execution_count": null,
      "metadata": {
        "id": "wQRG0fz_mRRh"
      },
      "outputs": [],
      "source": [
        "# help(Dense)"
      ]
    },
    {
      "cell_type": "code",
      "execution_count": null,
      "metadata": {
        "id": "P_P-C72jmRRh",
        "outputId": "ea4063bb-3d9e-42f4-aaf4-fb87f05e76d9"
      },
      "outputs": [
        {
          "data": {
            "text/plain": [
              "(700, 2)"
            ]
          },
          "execution_count": 92,
          "metadata": {},
          "output_type": "execute_result"
        }
      ],
      "source": [
        "X_train.shape"
      ]
    },
    {
      "cell_type": "code",
      "execution_count": null,
      "metadata": {
        "id": "Q-DJKxYVmRRi"
      },
      "outputs": [],
      "source": [
        "# First way to create model\n",
        "\n",
        "model = Sequential([Input(shape = X_train.shape[1]),\n",
        "                    Dense(units = 4, activation = \"relu\"),\n",
        "                    Dense(units = 4, activation = \"relu\"),\n",
        "                    Dense(units = 4, activation = \"relu\"),\n",
        "                    Dense(units = 1)])"
      ]
    },
    {
      "cell_type": "code",
      "execution_count": null,
      "metadata": {
        "id": "lNjyICwOmRRi"
      },
      "outputs": [],
      "source": [
        "# Second way to create model (recommended)\n",
        "\n",
        "model = Sequential()\n",
        "#model.add(Input(shape = X_train.shape[1]))\n",
        "model.add(Dense(units = 4, activation = \"relu\", input_dim = X_train.shape[1]))\n",
        "model.add(Dense(units = 4, activation = \"relu\"))\n",
        "model.add(Dense(units = 4, activation = \"relu\"))\n",
        "model.add(Dense(units = 1))"
      ]
    },
    {
      "cell_type": "code",
      "execution_count": null,
      "metadata": {
        "id": "T6tIynlXmRRi",
        "outputId": "756a919d-bb92-4392-ef4e-cdb4ec6cd6b8"
      },
      "outputs": [
        {
          "name": "stdout",
          "output_type": "stream",
          "text": [
            "Model: \"sequential_11\"\n",
            "_________________________________________________________________\n",
            " Layer (type)                Output Shape              Param #   \n",
            "=================================================================\n",
            " dense_44 (Dense)            (None, 4)                 12        \n",
            "                                                                 \n",
            " dense_45 (Dense)            (None, 4)                 20        \n",
            "                                                                 \n",
            " dense_46 (Dense)            (None, 4)                 20        \n",
            "                                                                 \n",
            " dense_47 (Dense)            (None, 1)                 5         \n",
            "                                                                 \n",
            "=================================================================\n",
            "Total params: 57\n",
            "Trainable params: 57\n",
            "Non-trainable params: 0\n",
            "_________________________________________________________________\n"
          ]
        }
      ],
      "source": [
        "model.summary()"
      ]
    },
    {
      "cell_type": "code",
      "execution_count": null,
      "metadata": {
        "id": "8JZh3RKwmRRj",
        "outputId": "376f5c61-57fe-477b-a9e0-15fc34d6582d"
      },
      "outputs": [
        {
          "data": {
            "text/plain": [
              "[<tf.Variable 'dense_44/kernel:0' shape=(2, 4) dtype=float32, numpy=\n",
              " array([[-0.5071235 , -0.3118968 , -0.44115996, -0.6890063 ],\n",
              "        [-0.5007775 ,  0.00517488, -0.24770927, -0.70833015]],\n",
              "       dtype=float32)>,\n",
              " <tf.Variable 'dense_44/bias:0' shape=(4,) dtype=float32, numpy=array([0., 0., 0., 0.], dtype=float32)>,\n",
              " <tf.Variable 'dense_45/kernel:0' shape=(4, 4) dtype=float32, numpy=\n",
              " array([[-0.15120399, -0.5773503 ,  0.3313853 ,  0.75418836],\n",
              "        [-0.5410792 ,  0.42599684, -0.59127843,  0.26356405],\n",
              "        [-0.7453863 , -0.37301412,  0.731962  ,  0.3931479 ],\n",
              "        [-0.32346368, -0.6814521 , -0.24216437, -0.22432625]],\n",
              "       dtype=float32)>,\n",
              " <tf.Variable 'dense_45/bias:0' shape=(4,) dtype=float32, numpy=array([0., 0., 0., 0.], dtype=float32)>,\n",
              " <tf.Variable 'dense_46/kernel:0' shape=(4, 4) dtype=float32, numpy=\n",
              " array([[-0.04219657, -0.5871749 , -0.5827598 ,  0.1465537 ],\n",
              "        [-0.24198079,  0.4619785 , -0.46386978, -0.59165645],\n",
              "        [-0.8394521 , -0.81711334, -0.01720321, -0.45035136],\n",
              "        [ 0.22228521, -0.5500911 ,  0.64158684,  0.2686991 ]],\n",
              "       dtype=float32)>,\n",
              " <tf.Variable 'dense_46/bias:0' shape=(4,) dtype=float32, numpy=array([0., 0., 0., 0.], dtype=float32)>,\n",
              " <tf.Variable 'dense_47/kernel:0' shape=(4, 1) dtype=float32, numpy=\n",
              " array([[ 0.59513414],\n",
              "        [-0.7798612 ],\n",
              "        [ 0.72487676],\n",
              "        [ 0.10944307]], dtype=float32)>,\n",
              " <tf.Variable 'dense_47/bias:0' shape=(1,) dtype=float32, numpy=array([0.], dtype=float32)>]"
            ]
          },
          "execution_count": 114,
          "metadata": {},
          "output_type": "execute_result"
        }
      ],
      "source": [
        "model.weights"
      ]
    },
    {
      "cell_type": "markdown",
      "metadata": {
        "id": "ZVmiNy6ZmRRj"
      },
      "source": [
        "### Choosing an optimizer and loss\n",
        "\n",
        "Keep in mind what kind of problem you are trying to solve:\n",
        "\n",
        "    # For a multi-class classification problem\n",
        "    model.compile(optimizer='rmsprop',\n",
        "                  loss='categorical_crossentropy',\n",
        "                  metrics=['accuracy'])\n",
        "\n",
        "    # For a binary classification problem\n",
        "    model.compile(optimizer='rmsprop',\n",
        "                  loss='binary_crossentropy',\n",
        "                  metrics=['accuracy'])\n",
        "\n",
        "    # For a mean squared error regression problem\n",
        "    model.compile(optimizer='rmsprop',\n",
        "                  loss='mse')"
      ]
    },
    {
      "cell_type": "code",
      "execution_count": null,
      "metadata": {
        "id": "jl8Pq3TOmRRk"
      },
      "outputs": [],
      "source": [
        "model.compile(optimizer = \"rmsprop\", loss = \"mse\")"
      ]
    },
    {
      "cell_type": "code",
      "execution_count": null,
      "metadata": {
        "id": "qVOwDtjtmRRl",
        "outputId": "068cf6a7-4f82-4bbb-c60d-299f463650b2"
      },
      "outputs": [
        {
          "name": "stdout",
          "output_type": "stream",
          "text": [
            "Epoch 1/250\n",
            "22/22 [==============================] - 4s 21ms/step - loss: 256656.1562\n",
            "Epoch 2/250\n",
            "22/22 [==============================] - 0s 11ms/step - loss: 256588.2344\n",
            "Epoch 3/250\n",
            "22/22 [==============================] - 0s 12ms/step - loss: 256519.2188\n",
            "Epoch 4/250\n",
            "22/22 [==============================] - 0s 14ms/step - loss: 256444.3125\n",
            "Epoch 5/250\n",
            "22/22 [==============================] - 0s 9ms/step - loss: 256361.7812\n",
            "Epoch 6/250\n",
            "22/22 [==============================] - 0s 21ms/step - loss: 256269.4844\n",
            "Epoch 7/250\n",
            "22/22 [==============================] - 0s 22ms/step - loss: 256165.7188\n",
            "Epoch 8/250\n",
            "22/22 [==============================] - 0s 10ms/step - loss: 256047.9844\n",
            "Epoch 9/250\n",
            "22/22 [==============================] - 0s 14ms/step - loss: 255914.6719\n",
            "Epoch 10/250\n",
            "22/22 [==============================] - 0s 12ms/step - loss: 255764.3125\n",
            "Epoch 11/250\n",
            "22/22 [==============================] - 0s 13ms/step - loss: 255596.1562\n",
            "Epoch 12/250\n",
            "22/22 [==============================] - 0s 13ms/step - loss: 255406.7188\n",
            "Epoch 13/250\n",
            "22/22 [==============================] - 0s 10ms/step - loss: 255194.0312\n",
            "Epoch 14/250\n",
            "22/22 [==============================] - 0s 10ms/step - loss: 254955.4062\n",
            "Epoch 15/250\n",
            "22/22 [==============================] - 0s 12ms/step - loss: 254688.2031\n",
            "Epoch 16/250\n",
            "22/22 [==============================] - 0s 8ms/step - loss: 254389.8438\n",
            "Epoch 17/250\n",
            "22/22 [==============================] - 0s 10ms/step - loss: 254059.8125\n",
            "Epoch 18/250\n",
            "22/22 [==============================] - 0s 12ms/step - loss: 253697.0469\n",
            "Epoch 19/250\n",
            "22/22 [==============================] - 0s 15ms/step - loss: 253300.8906\n",
            "Epoch 20/250\n",
            "22/22 [==============================] - 0s 11ms/step - loss: 252870.9219\n",
            "Epoch 21/250\n",
            "22/22 [==============================] - 0s 12ms/step - loss: 252403.8125\n",
            "Epoch 22/250\n",
            "22/22 [==============================] - 0s 11ms/step - loss: 251900.1094\n",
            "Epoch 23/250\n",
            "22/22 [==============================] - 0s 10ms/step - loss: 251356.5312\n",
            "Epoch 24/250\n",
            "22/22 [==============================] - 0s 19ms/step - loss: 250774.1875\n",
            "Epoch 25/250\n",
            "22/22 [==============================] - 0s 15ms/step - loss: 250151.3125\n",
            "Epoch 26/250\n",
            "22/22 [==============================] - 0s 9ms/step - loss: 249478.4688\n",
            "Epoch 27/250\n",
            "22/22 [==============================] - 0s 12ms/step - loss: 248757.5469\n",
            "Epoch 28/250\n",
            "22/22 [==============================] - 0s 14ms/step - loss: 247992.4844\n",
            "Epoch 29/250\n",
            "22/22 [==============================] - 0s 10ms/step - loss: 247178.4688\n",
            "Epoch 30/250\n",
            "22/22 [==============================] - 0s 22ms/step - loss: 246308.3438\n",
            "Epoch 31/250\n",
            "22/22 [==============================] - 0s 9ms/step - loss: 245381.3906\n",
            "Epoch 32/250\n",
            "22/22 [==============================] - 1s 25ms/step - loss: 244399.8906\n",
            "Epoch 33/250\n",
            "22/22 [==============================] - 0s 6ms/step - loss: 243360.2812\n",
            "Epoch 34/250\n",
            "22/22 [==============================] - 0s 11ms/step - loss: 242266.0625\n",
            "Epoch 35/250\n",
            "22/22 [==============================] - 0s 18ms/step - loss: 241102.8750\n",
            "Epoch 36/250\n",
            "22/22 [==============================] - 0s 16ms/step - loss: 239880.9219\n",
            "Epoch 37/250\n",
            "22/22 [==============================] - 0s 13ms/step - loss: 238587.6406\n",
            "Epoch 38/250\n",
            "22/22 [==============================] - 0s 17ms/step - loss: 237226.2812\n",
            "Epoch 39/250\n",
            "22/22 [==============================] - 0s 6ms/step - loss: 235789.2812\n",
            "Epoch 40/250\n",
            "22/22 [==============================] - 0s 18ms/step - loss: 234284.6094\n",
            "Epoch 41/250\n",
            "22/22 [==============================] - 0s 11ms/step - loss: 232705.9844\n",
            "Epoch 42/250\n",
            "22/22 [==============================] - 0s 7ms/step - loss: 231052.3125\n",
            "Epoch 43/250\n",
            "22/22 [==============================] - 0s 8ms/step - loss: 229322.2656\n",
            "Epoch 44/250\n",
            "22/22 [==============================] - 0s 11ms/step - loss: 227511.4062\n",
            "Epoch 45/250\n",
            "22/22 [==============================] - 0s 10ms/step - loss: 225614.5156\n",
            "Epoch 46/250\n",
            "22/22 [==============================] - 0s 16ms/step - loss: 223639.7656\n",
            "Epoch 47/250\n",
            "22/22 [==============================] - 0s 17ms/step - loss: 221578.2812\n",
            "Epoch 48/250\n",
            "22/22 [==============================] - 0s 10ms/step - loss: 219430.3750\n",
            "Epoch 49/250\n",
            "22/22 [==============================] - 0s 12ms/step - loss: 217187.4688\n",
            "Epoch 50/250\n",
            "22/22 [==============================] - 0s 12ms/step - loss: 214865.5312\n",
            "Epoch 51/250\n",
            "22/22 [==============================] - 0s 11ms/step - loss: 212453.0312\n",
            "Epoch 52/250\n",
            "22/22 [==============================] - 0s 10ms/step - loss: 209943.2031\n",
            "Epoch 53/250\n",
            "22/22 [==============================] - 0s 17ms/step - loss: 207354.9531\n",
            "Epoch 54/250\n",
            "22/22 [==============================] - 0s 10ms/step - loss: 204664.3125\n",
            "Epoch 55/250\n",
            "22/22 [==============================] - 0s 10ms/step - loss: 201880.3594\n",
            "Epoch 56/250\n",
            "22/22 [==============================] - 0s 17ms/step - loss: 198994.1562\n",
            "Epoch 57/250\n",
            "22/22 [==============================] - 0s 10ms/step - loss: 196022.6719\n",
            "Epoch 58/250\n",
            "22/22 [==============================] - 0s 16ms/step - loss: 192968.5000\n",
            "Epoch 59/250\n",
            "22/22 [==============================] - 0s 16ms/step - loss: 189796.9375\n",
            "Epoch 60/250\n",
            "22/22 [==============================] - 0s 12ms/step - loss: 186536.4219\n",
            "Epoch 61/250\n",
            "22/22 [==============================] - 0s 8ms/step - loss: 183174.8750\n",
            "Epoch 62/250\n",
            "22/22 [==============================] - 0s 15ms/step - loss: 179724.5312\n",
            "Epoch 63/250\n",
            "22/22 [==============================] - 0s 11ms/step - loss: 176182.4531\n",
            "Epoch 64/250\n",
            "22/22 [==============================] - 0s 13ms/step - loss: 172522.5312\n",
            "Epoch 65/250\n",
            "22/22 [==============================] - 0s 11ms/step - loss: 168788.1094\n",
            "Epoch 66/250\n",
            "22/22 [==============================] - 0s 10ms/step - loss: 164971.7656\n",
            "Epoch 67/250\n",
            "22/22 [==============================] - 0s 7ms/step - loss: 161081.6250\n",
            "Epoch 68/250\n",
            "22/22 [==============================] - 0s 10ms/step - loss: 157069.8594\n",
            "Epoch 69/250\n",
            "22/22 [==============================] - 0s 14ms/step - loss: 152977.8906\n",
            "Epoch 70/250\n",
            "22/22 [==============================] - 1s 24ms/step - loss: 148807.0469\n",
            "Epoch 71/250\n",
            "22/22 [==============================] - 0s 21ms/step - loss: 144563.1875\n",
            "Epoch 72/250\n",
            "22/22 [==============================] - 0s 16ms/step - loss: 140232.7188\n",
            "Epoch 73/250\n",
            "22/22 [==============================] - 0s 21ms/step - loss: 135816.5781\n",
            "Epoch 74/250\n",
            "22/22 [==============================] - 0s 16ms/step - loss: 131341.3906\n",
            "Epoch 75/250\n",
            "22/22 [==============================] - 0s 17ms/step - loss: 126820.5156\n",
            "Epoch 76/250\n",
            "22/22 [==============================] - 0s 19ms/step - loss: 122229.0312\n",
            "Epoch 77/250\n",
            "22/22 [==============================] - 0s 10ms/step - loss: 117575.9531\n",
            "Epoch 78/250\n",
            "22/22 [==============================] - 0s 14ms/step - loss: 112913.0391\n",
            "Epoch 79/250\n",
            "22/22 [==============================] - 1s 29ms/step - loss: 108155.6328\n",
            "Epoch 80/250\n",
            "22/22 [==============================] - 0s 13ms/step - loss: 103373.2422\n",
            "Epoch 81/250\n",
            "22/22 [==============================] - 0s 12ms/step - loss: 98588.6641\n",
            "Epoch 82/250\n",
            "22/22 [==============================] - 0s 13ms/step - loss: 93746.8125\n",
            "Epoch 83/250\n",
            "22/22 [==============================] - 0s 10ms/step - loss: 88912.8828\n",
            "Epoch 84/250\n",
            "22/22 [==============================] - 0s 10ms/step - loss: 84055.2266\n",
            "Epoch 85/250\n",
            "22/22 [==============================] - 0s 13ms/step - loss: 79244.1016\n",
            "Epoch 86/250\n",
            "22/22 [==============================] - 0s 9ms/step - loss: 74429.7188\n",
            "Epoch 87/250\n",
            "22/22 [==============================] - 0s 5ms/step - loss: 69646.3516\n",
            "Epoch 88/250\n",
            "22/22 [==============================] - 0s 5ms/step - loss: 64898.5547\n",
            "Epoch 89/250\n",
            "22/22 [==============================] - 0s 5ms/step - loss: 60227.1836\n",
            "Epoch 90/250\n",
            "22/22 [==============================] - 0s 6ms/step - loss: 55593.8555\n",
            "Epoch 91/250\n",
            "22/22 [==============================] - 0s 6ms/step - loss: 51044.9258\n",
            "Epoch 92/250\n",
            "22/22 [==============================] - 0s 6ms/step - loss: 46597.2930\n",
            "Epoch 93/250\n",
            "22/22 [==============================] - 0s 6ms/step - loss: 42238.1289\n",
            "Epoch 94/250\n",
            "22/22 [==============================] - 0s 4ms/step - loss: 37988.3242\n",
            "Epoch 95/250\n",
            "22/22 [==============================] - 0s 5ms/step - loss: 33921.8906\n",
            "Epoch 96/250\n",
            "22/22 [==============================] - 0s 5ms/step - loss: 29980.6602\n",
            "Epoch 97/250\n",
            "22/22 [==============================] - 0s 6ms/step - loss: 26254.3594\n",
            "Epoch 98/250\n",
            "22/22 [==============================] - 0s 6ms/step - loss: 22707.3438\n",
            "Epoch 99/250\n",
            "22/22 [==============================] - 0s 5ms/step - loss: 19353.6465\n",
            "Epoch 100/250\n",
            "22/22 [==============================] - 0s 19ms/step - loss: 16274.1025\n",
            "Epoch 101/250\n",
            "22/22 [==============================] - 0s 12ms/step - loss: 13430.2598\n",
            "Epoch 102/250\n",
            "22/22 [==============================] - 0s 10ms/step - loss: 10860.3828\n",
            "Epoch 103/250\n",
            "22/22 [==============================] - 0s 14ms/step - loss: 8587.3818\n",
            "Epoch 104/250\n",
            "22/22 [==============================] - 0s 9ms/step - loss: 6650.3071\n",
            "Epoch 105/250\n",
            "22/22 [==============================] - 0s 12ms/step - loss: 5059.5635\n",
            "Epoch 106/250\n",
            "22/22 [==============================] - 0s 16ms/step - loss: 3797.3706\n",
            "Epoch 107/250\n",
            "22/22 [==============================] - 0s 12ms/step - loss: 2894.1685\n",
            "Epoch 108/250\n",
            "22/22 [==============================] - 0s 15ms/step - loss: 2362.6785\n",
            "Epoch 109/250\n",
            "22/22 [==============================] - 0s 13ms/step - loss: 2120.0544\n",
            "Epoch 110/250\n",
            "22/22 [==============================] - 0s 21ms/step - loss: 2041.8232\n",
            "Epoch 111/250\n",
            "22/22 [==============================] - 0s 6ms/step - loss: 2010.8250\n",
            "Epoch 112/250\n",
            "22/22 [==============================] - 0s 12ms/step - loss: 1984.0042\n",
            "Epoch 113/250\n",
            "22/22 [==============================] - 0s 13ms/step - loss: 1956.0309\n",
            "Epoch 114/250\n",
            "22/22 [==============================] - 0s 6ms/step - loss: 1930.4816\n",
            "Epoch 115/250\n",
            "22/22 [==============================] - 1s 17ms/step - loss: 1903.2295\n",
            "Epoch 116/250\n",
            "22/22 [==============================] - 0s 11ms/step - loss: 1880.3118\n",
            "Epoch 117/250\n",
            "22/22 [==============================] - 0s 12ms/step - loss: 1854.7021\n",
            "Epoch 118/250\n",
            "22/22 [==============================] - 0s 10ms/step - loss: 1825.2854\n",
            "Epoch 119/250\n",
            "22/22 [==============================] - 0s 18ms/step - loss: 1800.6498\n",
            "Epoch 120/250\n",
            "22/22 [==============================] - 0s 11ms/step - loss: 1773.5671\n",
            "Epoch 121/250\n",
            "22/22 [==============================] - 1s 21ms/step - loss: 1744.1689\n",
            "Epoch 122/250\n",
            "22/22 [==============================] - 0s 11ms/step - loss: 1715.4666\n",
            "Epoch 123/250\n",
            "22/22 [==============================] - 0s 11ms/step - loss: 1689.7109\n",
            "Epoch 124/250\n",
            "22/22 [==============================] - 0s 13ms/step - loss: 1663.4241\n",
            "Epoch 125/250\n",
            "22/22 [==============================] - 0s 12ms/step - loss: 1638.1478\n",
            "Epoch 126/250\n",
            "22/22 [==============================] - 0s 13ms/step - loss: 1611.3245\n",
            "Epoch 127/250\n",
            "22/22 [==============================] - 0s 7ms/step - loss: 1591.1106\n",
            "Epoch 128/250\n",
            "22/22 [==============================] - 0s 13ms/step - loss: 1564.8264\n",
            "Epoch 129/250\n",
            "22/22 [==============================] - 0s 8ms/step - loss: 1542.4363\n",
            "Epoch 130/250\n",
            "22/22 [==============================] - 0s 14ms/step - loss: 1516.4012\n",
            "Epoch 131/250\n",
            "22/22 [==============================] - 0s 8ms/step - loss: 1491.8259\n",
            "Epoch 132/250\n",
            "22/22 [==============================] - 0s 14ms/step - loss: 1466.9615\n",
            "Epoch 133/250\n",
            "22/22 [==============================] - 0s 7ms/step - loss: 1444.8363\n",
            "Epoch 134/250\n",
            "22/22 [==============================] - 0s 16ms/step - loss: 1419.9760\n",
            "Epoch 135/250\n",
            "22/22 [==============================] - 0s 15ms/step - loss: 1394.7661\n",
            "Epoch 136/250\n",
            "22/22 [==============================] - 0s 12ms/step - loss: 1372.9546\n",
            "Epoch 137/250\n",
            "22/22 [==============================] - 0s 12ms/step - loss: 1348.1161\n",
            "Epoch 138/250\n",
            "22/22 [==============================] - 0s 10ms/step - loss: 1321.8167\n",
            "Epoch 139/250\n",
            "22/22 [==============================] - 0s 11ms/step - loss: 1300.5084\n",
            "Epoch 140/250\n",
            "22/22 [==============================] - 0s 13ms/step - loss: 1273.0404\n",
            "Epoch 141/250\n",
            "22/22 [==============================] - 0s 12ms/step - loss: 1249.1365\n",
            "Epoch 142/250\n",
            "22/22 [==============================] - 0s 13ms/step - loss: 1225.0216\n",
            "Epoch 143/250\n",
            "22/22 [==============================] - 0s 7ms/step - loss: 1200.8616\n",
            "Epoch 144/250\n",
            "22/22 [==============================] - 0s 13ms/step - loss: 1177.2449\n",
            "Epoch 145/250\n",
            "22/22 [==============================] - 0s 8ms/step - loss: 1154.4807\n",
            "Epoch 146/250\n",
            "22/22 [==============================] - 0s 18ms/step - loss: 1131.9337\n",
            "Epoch 147/250\n",
            "22/22 [==============================] - 0s 12ms/step - loss: 1110.6232\n",
            "Epoch 148/250\n",
            "22/22 [==============================] - 0s 15ms/step - loss: 1089.0531\n",
            "Epoch 149/250\n",
            "22/22 [==============================] - 0s 8ms/step - loss: 1067.2786\n",
            "Epoch 150/250\n",
            "22/22 [==============================] - 0s 12ms/step - loss: 1042.9231\n",
            "Epoch 151/250\n",
            "22/22 [==============================] - 0s 7ms/step - loss: 1019.2714\n",
            "Epoch 152/250\n",
            "22/22 [==============================] - 0s 21ms/step - loss: 1000.7192\n",
            "Epoch 153/250\n",
            "22/22 [==============================] - 0s 6ms/step - loss: 978.5287\n",
            "Epoch 154/250\n",
            "22/22 [==============================] - 0s 11ms/step - loss: 956.0313\n",
            "Epoch 155/250\n",
            "22/22 [==============================] - 0s 5ms/step - loss: 935.8719\n",
            "Epoch 156/250\n",
            "22/22 [==============================] - 0s 12ms/step - loss: 913.4620\n",
            "Epoch 157/250\n",
            "22/22 [==============================] - 0s 10ms/step - loss: 891.9153\n",
            "Epoch 158/250\n",
            "22/22 [==============================] - 0s 10ms/step - loss: 870.8874\n",
            "Epoch 159/250\n",
            "22/22 [==============================] - 0s 7ms/step - loss: 849.8328\n",
            "Epoch 160/250\n",
            "22/22 [==============================] - 0s 11ms/step - loss: 831.9172\n",
            "Epoch 161/250\n",
            "22/22 [==============================] - 0s 12ms/step - loss: 811.4890\n",
            "Epoch 162/250\n",
            "22/22 [==============================] - 0s 8ms/step - loss: 791.1659\n",
            "Epoch 163/250\n",
            "22/22 [==============================] - 0s 12ms/step - loss: 772.3540\n",
            "Epoch 164/250\n",
            "22/22 [==============================] - 0s 10ms/step - loss: 753.9145\n",
            "Epoch 165/250\n",
            "22/22 [==============================] - 0s 13ms/step - loss: 737.8281\n",
            "Epoch 166/250\n",
            "22/22 [==============================] - 0s 10ms/step - loss: 719.9592\n",
            "Epoch 167/250\n",
            "22/22 [==============================] - 0s 11ms/step - loss: 704.3920\n",
            "Epoch 168/250\n",
            "22/22 [==============================] - 0s 13ms/step - loss: 683.3670\n",
            "Epoch 169/250\n",
            "22/22 [==============================] - 1s 31ms/step - loss: 665.5159\n",
            "Epoch 170/250\n",
            "22/22 [==============================] - 0s 15ms/step - loss: 645.7473\n",
            "Epoch 171/250\n",
            "22/22 [==============================] - 0s 9ms/step - loss: 627.3685\n",
            "Epoch 172/250\n",
            "22/22 [==============================] - 0s 11ms/step - loss: 608.9415\n",
            "Epoch 173/250\n",
            "22/22 [==============================] - 0s 23ms/step - loss: 591.0733\n",
            "Epoch 174/250\n",
            "22/22 [==============================] - 0s 17ms/step - loss: 569.3012\n",
            "Epoch 175/250\n",
            "22/22 [==============================] - 0s 5ms/step - loss: 556.1072\n",
            "Epoch 176/250\n",
            "22/22 [==============================] - 0s 11ms/step - loss: 537.8169\n",
            "Epoch 177/250\n",
            "22/22 [==============================] - 0s 12ms/step - loss: 521.1914\n",
            "Epoch 178/250\n",
            "22/22 [==============================] - 0s 11ms/step - loss: 504.7379\n",
            "Epoch 179/250\n",
            "22/22 [==============================] - 0s 11ms/step - loss: 488.3656\n",
            "Epoch 180/250\n",
            "22/22 [==============================] - 0s 21ms/step - loss: 472.1377\n",
            "Epoch 181/250\n",
            "22/22 [==============================] - 0s 10ms/step - loss: 457.1174\n",
            "Epoch 182/250\n",
            "22/22 [==============================] - 0s 18ms/step - loss: 440.1905\n",
            "Epoch 183/250\n",
            "22/22 [==============================] - 0s 6ms/step - loss: 423.9911\n",
            "Epoch 184/250\n",
            "22/22 [==============================] - 0s 14ms/step - loss: 413.5509\n",
            "Epoch 185/250\n",
            "22/22 [==============================] - 0s 14ms/step - loss: 399.8734\n",
            "Epoch 186/250\n",
            "22/22 [==============================] - 0s 11ms/step - loss: 387.9812\n",
            "Epoch 187/250\n",
            "22/22 [==============================] - 0s 19ms/step - loss: 373.7478\n",
            "Epoch 188/250\n",
            "22/22 [==============================] - 0s 12ms/step - loss: 358.4001\n",
            "Epoch 189/250\n",
            "22/22 [==============================] - 0s 13ms/step - loss: 343.6596\n",
            "Epoch 190/250\n",
            "22/22 [==============================] - 0s 11ms/step - loss: 329.5804\n",
            "Epoch 191/250\n",
            "22/22 [==============================] - 0s 12ms/step - loss: 316.4787\n",
            "Epoch 192/250\n",
            "22/22 [==============================] - 0s 11ms/step - loss: 304.7265\n",
            "Epoch 193/250\n",
            "22/22 [==============================] - 0s 14ms/step - loss: 292.8104\n",
            "Epoch 194/250\n",
            "22/22 [==============================] - 0s 9ms/step - loss: 280.0823\n",
            "Epoch 195/250\n",
            "22/22 [==============================] - 0s 21ms/step - loss: 269.0863\n",
            "Epoch 196/250\n",
            "22/22 [==============================] - 0s 11ms/step - loss: 256.9582\n",
            "Epoch 197/250\n",
            "22/22 [==============================] - 0s 9ms/step - loss: 245.7835\n",
            "Epoch 198/250\n",
            "22/22 [==============================] - 0s 8ms/step - loss: 236.8170\n",
            "Epoch 199/250\n",
            "22/22 [==============================] - 0s 20ms/step - loss: 226.0071\n",
            "Epoch 200/250\n",
            "22/22 [==============================] - 0s 7ms/step - loss: 214.1838\n",
            "Epoch 201/250\n",
            "22/22 [==============================] - 0s 11ms/step - loss: 204.1229\n",
            "Epoch 202/250\n",
            "22/22 [==============================] - 0s 13ms/step - loss: 194.4118\n",
            "Epoch 203/250\n",
            "22/22 [==============================] - 0s 12ms/step - loss: 184.7111\n",
            "Epoch 204/250\n",
            "22/22 [==============================] - 0s 10ms/step - loss: 175.5089\n",
            "Epoch 205/250\n",
            "22/22 [==============================] - 0s 9ms/step - loss: 166.9234\n",
            "Epoch 206/250\n",
            "22/22 [==============================] - 0s 19ms/step - loss: 158.7823\n",
            "Epoch 207/250\n",
            "22/22 [==============================] - 1s 34ms/step - loss: 150.5166\n",
            "Epoch 208/250\n",
            "22/22 [==============================] - 1s 24ms/step - loss: 143.2997\n",
            "Epoch 209/250\n",
            "22/22 [==============================] - 1s 26ms/step - loss: 135.5379\n",
            "Epoch 210/250\n",
            "22/22 [==============================] - 0s 21ms/step - loss: 129.2847\n",
            "Epoch 211/250\n",
            "22/22 [==============================] - 0s 16ms/step - loss: 122.8491\n",
            "Epoch 212/250\n",
            "22/22 [==============================] - 0s 20ms/step - loss: 116.4388\n",
            "Epoch 213/250\n",
            "22/22 [==============================] - 0s 20ms/step - loss: 110.9808\n",
            "Epoch 214/250\n",
            "22/22 [==============================] - 0s 9ms/step - loss: 105.2395\n",
            "Epoch 215/250\n",
            "22/22 [==============================] - 0s 10ms/step - loss: 99.1214\n",
            "Epoch 216/250\n",
            "22/22 [==============================] - 0s 14ms/step - loss: 93.2258\n",
            "Epoch 217/250\n",
            "22/22 [==============================] - 0s 15ms/step - loss: 87.9955\n",
            "Epoch 218/250\n",
            "22/22 [==============================] - 0s 11ms/step - loss: 83.0717\n",
            "Epoch 219/250\n",
            "22/22 [==============================] - 0s 13ms/step - loss: 78.4230\n",
            "Epoch 220/250\n",
            "22/22 [==============================] - 1s 22ms/step - loss: 73.5929\n",
            "Epoch 221/250\n",
            "22/22 [==============================] - 0s 14ms/step - loss: 68.8769\n",
            "Epoch 222/250\n",
            "22/22 [==============================] - 0s 18ms/step - loss: 65.1516\n",
            "Epoch 223/250\n",
            "22/22 [==============================] - 0s 4ms/step - loss: 61.6402\n",
            "Epoch 224/250\n",
            "22/22 [==============================] - 0s 5ms/step - loss: 58.5225\n",
            "Epoch 225/250\n",
            "22/22 [==============================] - 0s 8ms/step - loss: 55.2870\n",
            "Epoch 226/250\n",
            "22/22 [==============================] - 0s 9ms/step - loss: 51.9729\n",
            "Epoch 227/250\n",
            "22/22 [==============================] - 0s 10ms/step - loss: 49.2105\n",
            "Epoch 228/250\n",
            "22/22 [==============================] - 0s 9ms/step - loss: 46.2756\n",
            "Epoch 229/250\n",
            "22/22 [==============================] - 0s 6ms/step - loss: 44.2409\n",
            "Epoch 230/250\n",
            "22/22 [==============================] - 0s 5ms/step - loss: 42.4897\n",
            "Epoch 231/250\n",
            "22/22 [==============================] - 0s 8ms/step - loss: 40.3800\n",
            "Epoch 232/250\n",
            "22/22 [==============================] - 0s 7ms/step - loss: 38.2696\n",
            "Epoch 233/250\n",
            "22/22 [==============================] - 0s 6ms/step - loss: 36.6812\n",
            "Epoch 234/250\n",
            "22/22 [==============================] - 0s 9ms/step - loss: 35.0241\n",
            "Epoch 235/250\n",
            "22/22 [==============================] - 0s 12ms/step - loss: 33.7865\n",
            "Epoch 236/250\n",
            "22/22 [==============================] - 0s 8ms/step - loss: 32.2588\n",
            "Epoch 237/250\n",
            "22/22 [==============================] - 0s 8ms/step - loss: 31.3897\n",
            "Epoch 238/250\n",
            "22/22 [==============================] - 0s 11ms/step - loss: 30.4022\n",
            "Epoch 239/250\n",
            "22/22 [==============================] - 0s 8ms/step - loss: 29.4926\n",
            "Epoch 240/250\n",
            "22/22 [==============================] - 0s 4ms/step - loss: 28.7029\n",
            "Epoch 241/250\n",
            "22/22 [==============================] - 0s 13ms/step - loss: 27.9503\n",
            "Epoch 242/250\n",
            "22/22 [==============================] - 0s 6ms/step - loss: 27.4421\n",
            "Epoch 243/250\n",
            "22/22 [==============================] - 0s 8ms/step - loss: 27.0310\n",
            "Epoch 244/250\n",
            "22/22 [==============================] - 0s 4ms/step - loss: 26.6920\n",
            "Epoch 245/250\n",
            "22/22 [==============================] - 0s 19ms/step - loss: 26.2075\n",
            "Epoch 246/250\n",
            "22/22 [==============================] - 0s 7ms/step - loss: 26.2526\n",
            "Epoch 247/250\n",
            "22/22 [==============================] - 0s 10ms/step - loss: 25.9210\n",
            "Epoch 248/250\n",
            "22/22 [==============================] - 0s 6ms/step - loss: 25.3730\n",
            "Epoch 249/250\n",
            "22/22 [==============================] - 0s 7ms/step - loss: 25.2256\n",
            "Epoch 250/250\n",
            "22/22 [==============================] - 0s 5ms/step - loss: 25.3180\n"
          ]
        },
        {
          "data": {
            "text/plain": [
              "<keras.callbacks.History at 0x7f91cc236190>"
            ]
          },
          "execution_count": 105,
          "metadata": {},
          "output_type": "execute_result"
        }
      ],
      "source": [
        "model.fit(x = X_train, y = y_train, batch_size = 32, epochs = 250)"
      ]
    },
    {
      "cell_type": "code",
      "execution_count": null,
      "metadata": {
        "id": "cim-x6dYmRRm",
        "outputId": "d161962a-ea29-4b60-bc02-3dfd460ff2f6"
      },
      "outputs": [
        {
          "data": {
            "text/plain": [
              "[<tf.Variable 'dense_36/kernel:0' shape=(2, 4) dtype=float32, numpy=\n",
              " array([[1.1186711, 2.0824256, 2.461733 , 2.362168 ],\n",
              "        [4.3737683, 3.1852758, 4.230423 , 4.369433 ]], dtype=float32)>,\n",
              " <tf.Variable 'dense_36/bias:0' shape=(4,) dtype=float32, numpy=array([0.9330022, 0.851095 , 0.9491424, 0.9496387], dtype=float32)>,\n",
              " <tf.Variable 'dense_37/kernel:0' shape=(4, 4) dtype=float32, numpy=\n",
              " array([[ 3.6236944 , -0.0746673 ,  0.01705557, -0.83971244],\n",
              "        [ 3.098173  ,  0.47278735, -0.84145486,  0.25533617],\n",
              "        [ 3.1080043 , -0.54376584, -0.3696659 ,  0.55213064],\n",
              "        [ 3.1695082 ,  0.24277826, -0.24283707, -0.6430251 ]],\n",
              "       dtype=float32)>,\n",
              " <tf.Variable 'dense_37/bias:0' shape=(4,) dtype=float32, numpy=array([ 0.9323439 , -0.29093254,  0.        , -0.08528582], dtype=float32)>,\n",
              " <tf.Variable 'dense_38/kernel:0' shape=(4, 4) dtype=float32, numpy=\n",
              " array([[-0.7380502 , -0.05399518, -0.36160856,  3.174567  ],\n",
              "        [ 0.8098059 ,  0.01460643, -0.24182719, -0.10424203],\n",
              "        [-0.2974493 , -0.7378016 ,  0.5115989 , -0.43321753],\n",
              "        [ 0.35699004,  0.25519687, -0.3735041 , -0.4396558 ]],\n",
              "       dtype=float32)>,\n",
              " <tf.Variable 'dense_38/bias:0' shape=(4,) dtype=float32, numpy=array([0.        , 0.00316228, 0.        , 0.91810185], dtype=float32)>,\n",
              " <tf.Variable 'dense_39/kernel:0' shape=(4, 1) dtype=float32, numpy=\n",
              " array([[-0.951782  ],\n",
              "        [ 0.850335  ],\n",
              "        [-0.08109593],\n",
              "        [ 2.9315345 ]], dtype=float32)>,\n",
              " <tf.Variable 'dense_39/bias:0' shape=(1,) dtype=float32, numpy=array([0.9000607], dtype=float32)>]"
            ]
          },
          "execution_count": 106,
          "metadata": {},
          "output_type": "execute_result"
        }
      ],
      "source": [
        "model.weights"
      ]
    },
    {
      "cell_type": "code",
      "execution_count": null,
      "metadata": {
        "id": "gQkkTsVpmRRm",
        "outputId": "f4087cfc-06da-4c3f-88dc-46f697be9a0f"
      },
      "outputs": [
        {
          "data": {
            "text/plain": [
              "{'loss': [256656.15625,\n",
              "  256588.234375,\n",
              "  256519.21875,\n",
              "  256444.3125,\n",
              "  256361.78125,\n",
              "  256269.484375,\n",
              "  256165.71875,\n",
              "  256047.984375,\n",
              "  255914.671875,\n",
              "  255764.3125,\n",
              "  255596.15625,\n",
              "  255406.71875,\n",
              "  255194.03125,\n",
              "  254955.40625,\n",
              "  254688.203125,\n",
              "  254389.84375,\n",
              "  254059.8125,\n",
              "  253697.046875,\n",
              "  253300.890625,\n",
              "  252870.921875,\n",
              "  252403.8125,\n",
              "  251900.109375,\n",
              "  251356.53125,\n",
              "  250774.1875,\n",
              "  250151.3125,\n",
              "  249478.46875,\n",
              "  248757.546875,\n",
              "  247992.484375,\n",
              "  247178.46875,\n",
              "  246308.34375,\n",
              "  245381.390625,\n",
              "  244399.890625,\n",
              "  243360.28125,\n",
              "  242266.0625,\n",
              "  241102.875,\n",
              "  239880.921875,\n",
              "  238587.640625,\n",
              "  237226.28125,\n",
              "  235789.28125,\n",
              "  234284.609375,\n",
              "  232705.984375,\n",
              "  231052.3125,\n",
              "  229322.265625,\n",
              "  227511.40625,\n",
              "  225614.515625,\n",
              "  223639.765625,\n",
              "  221578.28125,\n",
              "  219430.375,\n",
              "  217187.46875,\n",
              "  214865.53125,\n",
              "  212453.03125,\n",
              "  209943.203125,\n",
              "  207354.953125,\n",
              "  204664.3125,\n",
              "  201880.359375,\n",
              "  198994.15625,\n",
              "  196022.671875,\n",
              "  192968.5,\n",
              "  189796.9375,\n",
              "  186536.421875,\n",
              "  183174.875,\n",
              "  179724.53125,\n",
              "  176182.453125,\n",
              "  172522.53125,\n",
              "  168788.109375,\n",
              "  164971.765625,\n",
              "  161081.625,\n",
              "  157069.859375,\n",
              "  152977.890625,\n",
              "  148807.046875,\n",
              "  144563.1875,\n",
              "  140232.71875,\n",
              "  135816.578125,\n",
              "  131341.390625,\n",
              "  126820.515625,\n",
              "  122229.03125,\n",
              "  117575.953125,\n",
              "  112913.0390625,\n",
              "  108155.6328125,\n",
              "  103373.2421875,\n",
              "  98588.6640625,\n",
              "  93746.8125,\n",
              "  88912.8828125,\n",
              "  84055.2265625,\n",
              "  79244.1015625,\n",
              "  74429.71875,\n",
              "  69646.3515625,\n",
              "  64898.5546875,\n",
              "  60227.18359375,\n",
              "  55593.85546875,\n",
              "  51044.92578125,\n",
              "  46597.29296875,\n",
              "  42238.12890625,\n",
              "  37988.32421875,\n",
              "  33921.890625,\n",
              "  29980.66015625,\n",
              "  26254.359375,\n",
              "  22707.34375,\n",
              "  19353.646484375,\n",
              "  16274.1025390625,\n",
              "  13430.259765625,\n",
              "  10860.3828125,\n",
              "  8587.3818359375,\n",
              "  6650.30712890625,\n",
              "  5059.5634765625,\n",
              "  3797.37060546875,\n",
              "  2894.16845703125,\n",
              "  2362.678466796875,\n",
              "  2120.054443359375,\n",
              "  2041.8232421875,\n",
              "  2010.824951171875,\n",
              "  1984.004150390625,\n",
              "  1956.0308837890625,\n",
              "  1930.4815673828125,\n",
              "  1903.2294921875,\n",
              "  1880.311767578125,\n",
              "  1854.7021484375,\n",
              "  1825.285400390625,\n",
              "  1800.6497802734375,\n",
              "  1773.567138671875,\n",
              "  1744.1689453125,\n",
              "  1715.466552734375,\n",
              "  1689.7109375,\n",
              "  1663.424072265625,\n",
              "  1638.1478271484375,\n",
              "  1611.324462890625,\n",
              "  1591.110595703125,\n",
              "  1564.826416015625,\n",
              "  1542.436279296875,\n",
              "  1516.4012451171875,\n",
              "  1491.825927734375,\n",
              "  1466.9615478515625,\n",
              "  1444.8363037109375,\n",
              "  1419.9759521484375,\n",
              "  1394.76611328125,\n",
              "  1372.95458984375,\n",
              "  1348.1160888671875,\n",
              "  1321.816650390625,\n",
              "  1300.5084228515625,\n",
              "  1273.0404052734375,\n",
              "  1249.136474609375,\n",
              "  1225.0216064453125,\n",
              "  1200.861572265625,\n",
              "  1177.244873046875,\n",
              "  1154.480712890625,\n",
              "  1131.9337158203125,\n",
              "  1110.6231689453125,\n",
              "  1089.0531005859375,\n",
              "  1067.278564453125,\n",
              "  1042.923095703125,\n",
              "  1019.2714233398438,\n",
              "  1000.7191772460938,\n",
              "  978.5286865234375,\n",
              "  956.0313110351562,\n",
              "  935.8719482421875,\n",
              "  913.4619750976562,\n",
              "  891.9153442382812,\n",
              "  870.8873901367188,\n",
              "  849.832763671875,\n",
              "  831.917236328125,\n",
              "  811.489013671875,\n",
              "  791.1658935546875,\n",
              "  772.35400390625,\n",
              "  753.9144897460938,\n",
              "  737.828125,\n",
              "  719.9591674804688,\n",
              "  704.3920288085938,\n",
              "  683.3670043945312,\n",
              "  665.515869140625,\n",
              "  645.747314453125,\n",
              "  627.3685302734375,\n",
              "  608.9415283203125,\n",
              "  591.0733032226562,\n",
              "  569.3012084960938,\n",
              "  556.107177734375,\n",
              "  537.81689453125,\n",
              "  521.19140625,\n",
              "  504.7379150390625,\n",
              "  488.3656311035156,\n",
              "  472.1376647949219,\n",
              "  457.11737060546875,\n",
              "  440.1905212402344,\n",
              "  423.9910583496094,\n",
              "  413.5509033203125,\n",
              "  399.87335205078125,\n",
              "  387.9811706542969,\n",
              "  373.7478332519531,\n",
              "  358.4001159667969,\n",
              "  343.6595764160156,\n",
              "  329.5804138183594,\n",
              "  316.4787292480469,\n",
              "  304.7264709472656,\n",
              "  292.8103942871094,\n",
              "  280.08233642578125,\n",
              "  269.0863037109375,\n",
              "  256.9581604003906,\n",
              "  245.78350830078125,\n",
              "  236.8169708251953,\n",
              "  226.00714111328125,\n",
              "  214.183837890625,\n",
              "  204.12289428710938,\n",
              "  194.41183471679688,\n",
              "  184.71109008789062,\n",
              "  175.5089111328125,\n",
              "  166.92343139648438,\n",
              "  158.78233337402344,\n",
              "  150.51657104492188,\n",
              "  143.29969787597656,\n",
              "  135.5379180908203,\n",
              "  129.2847137451172,\n",
              "  122.84907531738281,\n",
              "  116.43877410888672,\n",
              "  110.98080444335938,\n",
              "  105.23946380615234,\n",
              "  99.1213607788086,\n",
              "  93.22584533691406,\n",
              "  87.99552154541016,\n",
              "  83.07170104980469,\n",
              "  78.42301940917969,\n",
              "  73.5928955078125,\n",
              "  68.87691497802734,\n",
              "  65.15161895751953,\n",
              "  61.64022445678711,\n",
              "  58.522499084472656,\n",
              "  55.28703689575195,\n",
              "  51.97287368774414,\n",
              "  49.210506439208984,\n",
              "  46.27558135986328,\n",
              "  44.24089431762695,\n",
              "  42.489742279052734,\n",
              "  40.37995147705078,\n",
              "  38.26961898803711,\n",
              "  36.681209564208984,\n",
              "  35.02412796020508,\n",
              "  33.78647994995117,\n",
              "  32.25880432128906,\n",
              "  31.389665603637695,\n",
              "  30.402236938476562,\n",
              "  29.492578506469727,\n",
              "  28.70294952392578,\n",
              "  27.950328826904297,\n",
              "  27.442148208618164,\n",
              "  27.030986785888672,\n",
              "  26.691984176635742,\n",
              "  26.207481384277344,\n",
              "  26.25259780883789,\n",
              "  25.92104148864746,\n",
              "  25.372974395751953,\n",
              "  25.22559928894043,\n",
              "  25.31801986694336]}"
            ]
          },
          "execution_count": 107,
          "metadata": {},
          "output_type": "execute_result"
        }
      ],
      "source": [
        "model.history.history"
      ]
    },
    {
      "cell_type": "code",
      "execution_count": null,
      "metadata": {
        "id": "9EL17a0NmRRm",
        "outputId": "0f950b80-f302-4318-ccd4-8c7c97de92fc"
      },
      "outputs": [
        {
          "data": {
            "text/html": [
              "<div>\n",
              "<style scoped>\n",
              "    .dataframe tbody tr th:only-of-type {\n",
              "        vertical-align: middle;\n",
              "    }\n",
              "\n",
              "    .dataframe tbody tr th {\n",
              "        vertical-align: top;\n",
              "    }\n",
              "\n",
              "    .dataframe thead th {\n",
              "        text-align: right;\n",
              "    }\n",
              "</style>\n",
              "<table border=\"1\" class=\"dataframe\">\n",
              "  <thead>\n",
              "    <tr style=\"text-align: right;\">\n",
              "      <th></th>\n",
              "      <th>loss</th>\n",
              "    </tr>\n",
              "  </thead>\n",
              "  <tbody>\n",
              "    <tr>\n",
              "      <th>0</th>\n",
              "      <td>102129.508</td>\n",
              "    </tr>\n",
              "    <tr>\n",
              "      <th>1</th>\n",
              "      <td>98090.969</td>\n",
              "    </tr>\n",
              "    <tr>\n",
              "      <th>2</th>\n",
              "      <td>94059.539</td>\n",
              "    </tr>\n",
              "    <tr>\n",
              "      <th>3</th>\n",
              "      <td>90000.758</td>\n",
              "    </tr>\n",
              "    <tr>\n",
              "      <th>4</th>\n",
              "      <td>85947.711</td>\n",
              "    </tr>\n",
              "    <tr>\n",
              "      <th>...</th>\n",
              "      <td>...</td>\n",
              "    </tr>\n",
              "    <tr>\n",
              "      <th>245</th>\n",
              "      <td>24.204</td>\n",
              "    </tr>\n",
              "    <tr>\n",
              "      <th>246</th>\n",
              "      <td>23.925</td>\n",
              "    </tr>\n",
              "    <tr>\n",
              "      <th>247</th>\n",
              "      <td>24.347</td>\n",
              "    </tr>\n",
              "    <tr>\n",
              "      <th>248</th>\n",
              "      <td>24.299</td>\n",
              "    </tr>\n",
              "    <tr>\n",
              "      <th>249</th>\n",
              "      <td>23.834</td>\n",
              "    </tr>\n",
              "  </tbody>\n",
              "</table>\n",
              "<p>250 rows × 1 columns</p>\n",
              "</div>"
            ],
            "text/plain": [
              "          loss\n",
              "0   102129.508\n",
              "1    98090.969\n",
              "2    94059.539\n",
              "3    90000.758\n",
              "4    85947.711\n",
              "..         ...\n",
              "245     24.204\n",
              "246     23.925\n",
              "247     24.347\n",
              "248     24.299\n",
              "249     23.834\n",
              "\n",
              "[250 rows x 1 columns]"
            ]
          },
          "execution_count": 51,
          "metadata": {},
          "output_type": "execute_result"
        }
      ],
      "source": [
        "pd.DataFrame(model.history.history)"
      ]
    },
    {
      "cell_type": "code",
      "execution_count": null,
      "metadata": {
        "id": "mZw6tnzlmRRn",
        "outputId": "38dd0cfe-ed10-42a8-cac2-e4b98451be83"
      },
      "outputs": [
        {
          "data": {
            "text/plain": [
              "<AxesSubplot:>"
            ]
          },
          "execution_count": 52,
          "metadata": {},
          "output_type": "execute_result"
        },
        {
          "data": {
            "image/png": "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",
            "text/plain": [
              "<Figure size 720x432 with 1 Axes>"
            ]
          },
          "metadata": {},
          "output_type": "display_data"
        }
      ],
      "source": [
        "loss_df = pd.DataFrame(model.history.history)\n",
        "loss_df.plot()"
      ]
    },
    {
      "cell_type": "code",
      "execution_count": null,
      "metadata": {
        "id": "UzUgrJtGmRRn",
        "outputId": "3ff1ebd3-9663-4fae-cf3d-1f35ee209ce2"
      },
      "outputs": [
        {
          "data": {
            "text/plain": [
              "(0.0, 3000.0)"
            ]
          },
          "execution_count": 53,
          "metadata": {},
          "output_type": "execute_result"
        },
        {
          "data": {
            "image/png": "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",
            "text/plain": [
              "<Figure size 720x432 with 1 Axes>"
            ]
          },
          "metadata": {},
          "output_type": "display_data"
        }
      ],
      "source": [
        "fig, ax= plt.subplots()\n",
        "ax.plot(loss_df)\n",
        "ax.set_xlabel(\"epoch\")\n",
        "ax.set_ylabel(\"loss\")\n",
        "ax.set_title(\"loss - epoch graph\")\n",
        "ax.set_xlim([0, 250]) # focusing on the given x values\n",
        "ax.set_ylim([0, 3000]) # focusing on the given y values"
      ]
    },
    {
      "cell_type": "markdown",
      "metadata": {
        "id": "6EBpONXNmRRn"
      },
      "source": [
        "## Model Performance"
      ]
    },
    {
      "cell_type": "code",
      "execution_count": null,
      "metadata": {
        "id": "IkaMuJRpmRRo"
      },
      "outputs": [],
      "source": [
        "from sklearn.metrics import mean_squared_error, mean_absolute_error, r2_score"
      ]
    },
    {
      "cell_type": "code",
      "execution_count": null,
      "metadata": {
        "id": "pza7vCEamRRo",
        "outputId": "b5cc06e6-049a-46e5-9e1d-c422ff6966e9"
      },
      "outputs": [
        {
          "data": {
            "text/plain": [
              "23.776561737060547"
            ]
          },
          "execution_count": 55,
          "metadata": {},
          "output_type": "execute_result"
        }
      ],
      "source": [
        "model.evaluate(X_train, y_train, verbose=0)"
      ]
    },
    {
      "cell_type": "code",
      "execution_count": null,
      "metadata": {
        "id": "Hb9HoXcomRRo",
        "outputId": "a07563f8-deba-4ac6-bcd1-219555fc3061"
      },
      "outputs": [
        {
          "data": {
            "text/plain": [
              "25.00493812561035"
            ]
          },
          "execution_count": 56,
          "metadata": {},
          "output_type": "execute_result"
        }
      ],
      "source": [
        "model.evaluate(X_test, y_test, verbose=0)"
      ]
    },
    {
      "cell_type": "code",
      "execution_count": null,
      "metadata": {
        "id": "kv5xIw_QmRRo",
        "outputId": "15a9fcac-a0f9-4c19-cec7-6c6ae8bc15f5"
      },
      "outputs": [
        {
          "data": {
            "text/plain": [
              "(300, 1)"
            ]
          },
          "execution_count": 57,
          "metadata": {},
          "output_type": "execute_result"
        }
      ],
      "source": [
        "y_pred = model.predict(X_test)\n",
        "y_pred.shape"
      ]
    },
    {
      "cell_type": "code",
      "execution_count": null,
      "metadata": {
        "id": "MqyEYo08mRRp",
        "outputId": "a6a80f33-1a1d-485c-e561-15d53b094b76"
      },
      "outputs": [
        {
          "data": {
            "text/plain": [
              "(300,)"
            ]
          },
          "execution_count": 58,
          "metadata": {},
          "output_type": "execute_result"
        }
      ],
      "source": [
        "y_test.shape"
      ]
    },
    {
      "cell_type": "code",
      "execution_count": null,
      "metadata": {
        "id": "ZEznOz7cmRRp",
        "outputId": "a572e739-9fb6-4ce5-f428-0d4595d92b77"
      },
      "outputs": [
        {
          "data": {
            "text/plain": [
              "(300,)"
            ]
          },
          "execution_count": 59,
          "metadata": {},
          "output_type": "execute_result"
        }
      ],
      "source": [
        "y_pred.reshape(-1,).shape"
      ]
    },
    {
      "cell_type": "code",
      "execution_count": null,
      "metadata": {
        "id": "J4LGl9z4mRRp",
        "outputId": "2116d725-e9b6-4eab-ae63-a0b926181eed"
      },
      "outputs": [
        {
          "data": {
            "text/html": [
              "<div>\n",
              "<style scoped>\n",
              "    .dataframe tbody tr th:only-of-type {\n",
              "        vertical-align: middle;\n",
              "    }\n",
              "\n",
              "    .dataframe tbody tr th {\n",
              "        vertical-align: top;\n",
              "    }\n",
              "\n",
              "    .dataframe thead th {\n",
              "        text-align: right;\n",
              "    }\n",
              "</style>\n",
              "<table border=\"1\" class=\"dataframe\">\n",
              "  <thead>\n",
              "    <tr style=\"text-align: right;\">\n",
              "      <th></th>\n",
              "      <th>Actual</th>\n",
              "      <th>Pred</th>\n",
              "    </tr>\n",
              "  </thead>\n",
              "  <tbody>\n",
              "    <tr>\n",
              "      <th>893</th>\n",
              "      <td>560.678</td>\n",
              "      <td>549.984</td>\n",
              "    </tr>\n",
              "    <tr>\n",
              "      <th>266</th>\n",
              "      <td>439.090</td>\n",
              "      <td>432.941</td>\n",
              "    </tr>\n",
              "    <tr>\n",
              "      <th>259</th>\n",
              "      <td>484.020</td>\n",
              "      <td>489.952</td>\n",
              "    </tr>\n",
              "    <tr>\n",
              "      <th>867</th>\n",
              "      <td>502.902</td>\n",
              "      <td>511.214</td>\n",
              "    </tr>\n",
              "    <tr>\n",
              "      <th>110</th>\n",
              "      <td>390.209</td>\n",
              "      <td>392.679</td>\n",
              "    </tr>\n",
              "    <tr>\n",
              "      <th>33</th>\n",
              "      <td>448.430</td>\n",
              "      <td>460.295</td>\n",
              "    </tr>\n",
              "    <tr>\n",
              "      <th>668</th>\n",
              "      <td>343.735</td>\n",
              "      <td>344.654</td>\n",
              "    </tr>\n",
              "    <tr>\n",
              "      <th>5</th>\n",
              "      <td>542.984</td>\n",
              "      <td>543.177</td>\n",
              "    </tr>\n",
              "    <tr>\n",
              "      <th>631</th>\n",
              "      <td>548.614</td>\n",
              "      <td>543.365</td>\n",
              "    </tr>\n",
              "    <tr>\n",
              "      <th>155</th>\n",
              "      <td>410.538</td>\n",
              "      <td>411.033</td>\n",
              "    </tr>\n",
              "  </tbody>\n",
              "</table>\n",
              "</div>"
            ],
            "text/plain": [
              "     Actual    Pred\n",
              "893 560.678 549.984\n",
              "266 439.090 432.941\n",
              "259 484.020 489.952\n",
              "867 502.902 511.214\n",
              "110 390.209 392.679\n",
              "33  448.430 460.295\n",
              "668 343.735 344.654\n",
              "5   542.984 543.177\n",
              "631 548.614 543.365\n",
              "155 410.538 411.033"
            ]
          },
          "execution_count": 60,
          "metadata": {},
          "output_type": "execute_result"
        }
      ],
      "source": [
        "my_dict = {\"Actual\" : y_test, \"Pred\" : y_pred.reshape(-1,)}\n",
        "compare = pd.DataFrame(my_dict)\n",
        "compare.sample(10)"
      ]
    },
    {
      "cell_type": "code",
      "execution_count": null,
      "metadata": {
        "id": "AYwZzGWpmRRq",
        "outputId": "e0c40d02-dda0-48fb-a779-b69889f287d6"
      },
      "outputs": [
        {
          "data": {
            "text/plain": [
              "<AxesSubplot:xlabel='Actual', ylabel='Pred'>"
            ]
          },
          "execution_count": 61,
          "metadata": {},
          "output_type": "execute_result"
        },
        {
          "data": {
            "image/png": "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",
            "text/plain": [
              "<Figure size 720x432 with 1 Axes>"
            ]
          },
          "metadata": {},
          "output_type": "display_data"
        }
      ],
      "source": [
        "sns.scatterplot(x = 'Actual', y = 'Pred', data = compare)"
      ]
    },
    {
      "cell_type": "code",
      "execution_count": null,
      "metadata": {
        "id": "Ro94qDXKmRRq"
      },
      "outputs": [],
      "source": [
        "def eval_metric(actual, pred):\n",
        "    mae = mean_absolute_error(actual, pred)\n",
        "    mse = mean_squared_error(actual, pred)\n",
        "    rmse = np.sqrt(mean_squared_error(actual, pred))\n",
        "    score = r2_score(actual, pred)\n",
        "    return print(\"r2_score:\", score, \"\\nmae:\", mae, \"\\nmse:\", mse, \"\\nrmse:\", rmse)"
      ]
    },
    {
      "cell_type": "code",
      "execution_count": null,
      "metadata": {
        "id": "vdzvOmTXmRRq",
        "outputId": "03476b8c-5a85-4f3d-ae20-deaeb7bf92ce"
      },
      "outputs": [
        {
          "name": "stdout",
          "output_type": "stream",
          "text": [
            "r2_score: 0.9971559538646715 \n",
            "mae: 4.0073058233780054 \n",
            "mse: 25.004943679702553 \n",
            "rmse: 5.0004943435327025\n"
          ]
        }
      ],
      "source": [
        "eval_metric(y_test, y_pred)"
      ]
    },
    {
      "cell_type": "markdown",
      "metadata": {
        "id": "CwwQCfsrmRRr"
      },
      "source": [
        "## Final Model and Model Deployment"
      ]
    },
    {
      "cell_type": "markdown",
      "metadata": {
        "id": "0u3BsY27mRRr"
      },
      "source": [
        "### Final Model Training"
      ]
    },
    {
      "cell_type": "code",
      "execution_count": null,
      "metadata": {
        "id": "4C-ExuLlmRRr"
      },
      "outputs": [],
      "source": [
        "scaler = MinMaxScaler().fit(X)"
      ]
    },
    {
      "cell_type": "code",
      "execution_count": null,
      "metadata": {
        "id": "sYtDGfrOmRRr"
      },
      "outputs": [],
      "source": [
        "import pickle\n",
        "pickle.dump(scaler, open(\"scaler_fake_reg\", 'wb'))"
      ]
    },
    {
      "cell_type": "code",
      "execution_count": null,
      "metadata": {
        "id": "IzoF3gWSmRRr"
      },
      "outputs": [],
      "source": [
        "X_scaled = scaler.transform(X)"
      ]
    },
    {
      "cell_type": "code",
      "execution_count": null,
      "metadata": {
        "id": "2yV_uwk_mRRr",
        "outputId": "11df730b-3658-4d64-ae91-e3e52a3aec84"
      },
      "outputs": [
        {
          "name": "stdout",
          "output_type": "stream",
          "text": [
            "Epoch 1/250\n",
            "32/32 [==============================] - 5s 18ms/step - loss: 257429.9062\n",
            "Epoch 2/250\n",
            "32/32 [==============================] - 0s 13ms/step - loss: 257371.3906\n",
            "Epoch 3/250\n",
            "32/32 [==============================] - 0s 14ms/step - loss: 257306.8125\n",
            "Epoch 4/250\n",
            "32/32 [==============================] - 0s 15ms/step - loss: 257236.5625\n",
            "Epoch 5/250\n",
            "32/32 [==============================] - 0s 14ms/step - loss: 257158.4375\n",
            "Epoch 6/250\n",
            "32/32 [==============================] - 0s 12ms/step - loss: 257069.6875\n",
            "Epoch 7/250\n",
            "32/32 [==============================] - 1s 18ms/step - loss: 256964.8281\n",
            "Epoch 8/250\n",
            "32/32 [==============================] - 0s 14ms/step - loss: 256841.2500\n",
            "Epoch 9/250\n",
            "32/32 [==============================] - 1s 18ms/step - loss: 256696.3906\n",
            "Epoch 10/250\n",
            "32/32 [==============================] - 1s 21ms/step - loss: 256526.7188\n",
            "Epoch 11/250\n",
            "32/32 [==============================] - 0s 14ms/step - loss: 256327.6250\n",
            "Epoch 12/250\n",
            "32/32 [==============================] - 0s 12ms/step - loss: 256096.4219\n",
            "Epoch 13/250\n",
            "32/32 [==============================] - 1s 24ms/step - loss: 255829.2969\n",
            "Epoch 14/250\n",
            "32/32 [==============================] - 0s 14ms/step - loss: 255525.7812\n",
            "Epoch 15/250\n",
            "32/32 [==============================] - 0s 13ms/step - loss: 255182.9531\n",
            "Epoch 16/250\n",
            "32/32 [==============================] - 0s 11ms/step - loss: 254800.0312\n",
            "Epoch 17/250\n",
            "32/32 [==============================] - 0s 15ms/step - loss: 254377.1562\n",
            "Epoch 18/250\n",
            "32/32 [==============================] - 0s 8ms/step - loss: 253912.6406\n",
            "Epoch 19/250\n",
            "32/32 [==============================] - 0s 12ms/step - loss: 253394.0156\n",
            "Epoch 20/250\n",
            "32/32 [==============================] - 0s 12ms/step - loss: 252806.1875\n",
            "Epoch 21/250\n",
            "32/32 [==============================] - 0s 13ms/step - loss: 252148.5000\n",
            "Epoch 22/250\n",
            "32/32 [==============================] - 0s 10ms/step - loss: 251411.4531\n",
            "Epoch 23/250\n",
            "32/32 [==============================] - 1s 16ms/step - loss: 250597.4375\n",
            "Epoch 24/250\n",
            "32/32 [==============================] - 0s 9ms/step - loss: 249697.9844\n",
            "Epoch 25/250\n",
            "32/32 [==============================] - 1s 20ms/step - loss: 248701.9844\n",
            "Epoch 26/250\n",
            "32/32 [==============================] - 0s 11ms/step - loss: 247608.2656\n",
            "Epoch 27/250\n",
            "32/32 [==============================] - 0s 15ms/step - loss: 246407.6094\n",
            "Epoch 28/250\n",
            "32/32 [==============================] - 0s 12ms/step - loss: 245102.4688\n",
            "Epoch 29/250\n",
            "32/32 [==============================] - 0s 13ms/step - loss: 243675.2969\n",
            "Epoch 30/250\n",
            "32/32 [==============================] - 1s 17ms/step - loss: 242129.0781\n",
            "Epoch 31/250\n",
            "32/32 [==============================] - 0s 12ms/step - loss: 240463.1094\n",
            "Epoch 32/250\n",
            "32/32 [==============================] - 0s 15ms/step - loss: 238650.0625\n",
            "Epoch 33/250\n",
            "32/32 [==============================] - 0s 12ms/step - loss: 236699.1094\n",
            "Epoch 34/250\n",
            "32/32 [==============================] - 0s 15ms/step - loss: 234601.7188\n",
            "Epoch 35/250\n",
            "32/32 [==============================] - 1s 19ms/step - loss: 232361.8125\n",
            "Epoch 36/250\n",
            "32/32 [==============================] - 0s 15ms/step - loss: 229964.5469\n",
            "Epoch 37/250\n",
            "32/32 [==============================] - 0s 7ms/step - loss: 227393.4219\n",
            "Epoch 38/250\n",
            "32/32 [==============================] - 0s 8ms/step - loss: 224649.9062\n",
            "Epoch 39/250\n",
            "32/32 [==============================] - 1s 20ms/step - loss: 221741.4219\n",
            "Epoch 40/250\n",
            "32/32 [==============================] - 1s 21ms/step - loss: 218648.2031\n",
            "Epoch 41/250\n",
            "32/32 [==============================] - 1s 21ms/step - loss: 215373.8125\n",
            "Epoch 42/250\n",
            "32/32 [==============================] - 0s 11ms/step - loss: 211920.2969\n",
            "Epoch 43/250\n",
            "32/32 [==============================] - 0s 9ms/step - loss: 208284.5312\n",
            "Epoch 44/250\n",
            "32/32 [==============================] - 0s 6ms/step - loss: 204432.4062\n",
            "Epoch 45/250\n",
            "32/32 [==============================] - 1s 16ms/step - loss: 200394.2031\n",
            "Epoch 46/250\n",
            "32/32 [==============================] - 0s 11ms/step - loss: 196169.5469\n",
            "Epoch 47/250\n",
            "32/32 [==============================] - 1s 17ms/step - loss: 191730.1562\n",
            "Epoch 48/250\n",
            "32/32 [==============================] - 0s 10ms/step - loss: 187096.9219\n",
            "Epoch 49/250\n",
            "32/32 [==============================] - 0s 10ms/step - loss: 182252.7812\n",
            "Epoch 50/250\n",
            "32/32 [==============================] - 0s 13ms/step - loss: 177215.8750\n",
            "Epoch 51/250\n",
            "32/32 [==============================] - 0s 10ms/step - loss: 171993.6250\n",
            "Epoch 52/250\n",
            "32/32 [==============================] - 0s 10ms/step - loss: 166563.6250\n",
            "Epoch 53/250\n",
            "32/32 [==============================] - 0s 10ms/step - loss: 160982.7812\n",
            "Epoch 54/250\n",
            "32/32 [==============================] - 0s 13ms/step - loss: 155152.1406\n",
            "Epoch 55/250\n",
            "32/32 [==============================] - 1s 17ms/step - loss: 149170.8438\n",
            "Epoch 56/250\n",
            "32/32 [==============================] - 1s 21ms/step - loss: 143053.6094\n",
            "Epoch 57/250\n",
            "32/32 [==============================] - 0s 11ms/step - loss: 136756.8125\n",
            "Epoch 58/250\n",
            "32/32 [==============================] - 0s 12ms/step - loss: 130302.0312\n",
            "Epoch 59/250\n",
            "32/32 [==============================] - 0s 11ms/step - loss: 123719.3906\n",
            "Epoch 60/250\n",
            "32/32 [==============================] - 0s 15ms/step - loss: 116989.2969\n",
            "Epoch 61/250\n",
            "32/32 [==============================] - 0s 13ms/step - loss: 110208.5703\n",
            "Epoch 62/250\n",
            "32/32 [==============================] - 1s 17ms/step - loss: 103324.3516\n",
            "Epoch 63/250\n",
            "32/32 [==============================] - 0s 11ms/step - loss: 96390.1562\n",
            "Epoch 64/250\n",
            "32/32 [==============================] - 0s 13ms/step - loss: 89417.1016\n",
            "Epoch 65/250\n",
            "32/32 [==============================] - 1s 17ms/step - loss: 82411.0234\n",
            "Epoch 66/250\n",
            "32/32 [==============================] - 1s 20ms/step - loss: 75429.3828\n",
            "Epoch 67/250\n",
            "32/32 [==============================] - 0s 15ms/step - loss: 68508.2500\n",
            "Epoch 68/250\n",
            "32/32 [==============================] - 1s 17ms/step - loss: 61690.5781\n",
            "Epoch 69/250\n",
            "32/32 [==============================] - 1s 20ms/step - loss: 54990.9375\n",
            "Epoch 70/250\n",
            "32/32 [==============================] - 0s 15ms/step - loss: 48438.2344\n",
            "Epoch 71/250\n",
            "32/32 [==============================] - 1s 20ms/step - loss: 42153.1992\n",
            "Epoch 72/250\n",
            "32/32 [==============================] - 0s 10ms/step - loss: 36081.4375\n",
            "Epoch 73/250\n",
            "32/32 [==============================] - 0s 13ms/step - loss: 30336.4922\n",
            "Epoch 74/250\n",
            "32/32 [==============================] - 1s 16ms/step - loss: 24926.3086\n",
            "Epoch 75/250\n",
            "32/32 [==============================] - 1s 17ms/step - loss: 19981.1172\n",
            "Epoch 76/250\n",
            "32/32 [==============================] - 0s 9ms/step - loss: 15486.0732\n",
            "Epoch 77/250\n",
            "32/32 [==============================] - 0s 9ms/step - loss: 11559.1738\n",
            "Epoch 78/250\n",
            "32/32 [==============================] - 0s 14ms/step - loss: 8286.7344\n",
            "Epoch 79/250\n",
            "32/32 [==============================] - 0s 11ms/step - loss: 5621.6880\n",
            "Epoch 80/250\n",
            "32/32 [==============================] - 0s 13ms/step - loss: 3693.8435\n",
            "Epoch 81/250\n",
            "32/32 [==============================] - 1s 21ms/step - loss: 2506.0376\n",
            "Epoch 82/250\n",
            "32/32 [==============================] - 1s 15ms/step - loss: 2017.9615\n",
            "Epoch 83/250\n",
            "32/32 [==============================] - 1s 18ms/step - loss: 1924.6259\n",
            "Epoch 84/250\n",
            "32/32 [==============================] - 1s 18ms/step - loss: 1885.3247\n",
            "Epoch 85/250\n",
            "32/32 [==============================] - 1s 16ms/step - loss: 1851.1492\n",
            "Epoch 86/250\n",
            "32/32 [==============================] - 0s 13ms/step - loss: 1817.9904\n",
            "Epoch 87/250\n",
            "32/32 [==============================] - 1s 16ms/step - loss: 1783.4493\n",
            "Epoch 88/250\n",
            "32/32 [==============================] - 1s 19ms/step - loss: 1752.3197\n",
            "Epoch 89/250\n",
            "32/32 [==============================] - 1s 21ms/step - loss: 1718.3513\n",
            "Epoch 90/250\n",
            "32/32 [==============================] - 0s 15ms/step - loss: 1684.6377\n",
            "Epoch 91/250\n",
            "32/32 [==============================] - 0s 14ms/step - loss: 1650.1420\n",
            "Epoch 92/250\n",
            "32/32 [==============================] - 0s 16ms/step - loss: 1620.2979\n",
            "Epoch 93/250\n",
            "32/32 [==============================] - 1s 17ms/step - loss: 1584.1962\n",
            "Epoch 94/250\n",
            "32/32 [==============================] - 1s 25ms/step - loss: 1552.0569\n",
            "Epoch 95/250\n",
            "32/32 [==============================] - 0s 14ms/step - loss: 1519.9143\n",
            "Epoch 96/250\n",
            "32/32 [==============================] - 0s 14ms/step - loss: 1489.9243\n",
            "Epoch 97/250\n",
            "32/32 [==============================] - 1s 18ms/step - loss: 1462.2163\n",
            "Epoch 98/250\n",
            "32/32 [==============================] - 1s 17ms/step - loss: 1429.3248\n",
            "Epoch 99/250\n",
            "32/32 [==============================] - 1s 20ms/step - loss: 1397.8372\n",
            "Epoch 100/250\n",
            "32/32 [==============================] - 1s 18ms/step - loss: 1366.7074\n",
            "Epoch 101/250\n",
            "32/32 [==============================] - 0s 16ms/step - loss: 1334.9031\n",
            "Epoch 102/250\n",
            "32/32 [==============================] - 1s 16ms/step - loss: 1302.6694\n",
            "Epoch 103/250\n",
            "32/32 [==============================] - 1s 16ms/step - loss: 1273.1694\n",
            "Epoch 104/250\n",
            "32/32 [==============================] - 1s 14ms/step - loss: 1241.0194\n",
            "Epoch 105/250\n",
            "32/32 [==============================] - 1s 19ms/step - loss: 1214.4449\n",
            "Epoch 106/250\n",
            "32/32 [==============================] - 0s 13ms/step - loss: 1183.5160\n",
            "Epoch 107/250\n",
            "32/32 [==============================] - 1s 18ms/step - loss: 1153.4718\n",
            "Epoch 108/250\n",
            "32/32 [==============================] - 1s 22ms/step - loss: 1125.2880\n",
            "Epoch 109/250\n",
            "32/32 [==============================] - 1s 16ms/step - loss: 1099.2302\n",
            "Epoch 110/250\n",
            "32/32 [==============================] - 1s 20ms/step - loss: 1072.8131\n",
            "Epoch 111/250\n",
            "32/32 [==============================] - 1s 23ms/step - loss: 1043.7681\n",
            "Epoch 112/250\n",
            "32/32 [==============================] - 0s 14ms/step - loss: 1010.8165\n",
            "Epoch 113/250\n",
            "32/32 [==============================] - 1s 19ms/step - loss: 986.5585\n",
            "Epoch 114/250\n",
            "32/32 [==============================] - 1s 17ms/step - loss: 957.2226\n",
            "Epoch 115/250\n",
            "32/32 [==============================] - 0s 12ms/step - loss: 926.9564\n",
            "Epoch 116/250\n",
            "32/32 [==============================] - 0s 14ms/step - loss: 906.4840\n",
            "Epoch 117/250\n",
            "32/32 [==============================] - 1s 15ms/step - loss: 878.6504\n",
            "Epoch 118/250\n",
            "32/32 [==============================] - 1s 22ms/step - loss: 856.7839\n",
            "Epoch 119/250\n",
            "32/32 [==============================] - 0s 15ms/step - loss: 831.7685\n",
            "Epoch 120/250\n",
            "32/32 [==============================] - 0s 11ms/step - loss: 808.1980\n",
            "Epoch 121/250\n",
            "32/32 [==============================] - 1s 17ms/step - loss: 783.2605\n",
            "Epoch 122/250\n",
            "32/32 [==============================] - 0s 13ms/step - loss: 759.7943\n",
            "Epoch 123/250\n",
            "32/32 [==============================] - 0s 13ms/step - loss: 737.1171\n",
            "Epoch 124/250\n",
            "32/32 [==============================] - 0s 9ms/step - loss: 712.9884\n",
            "Epoch 125/250\n",
            "32/32 [==============================] - 0s 8ms/step - loss: 688.8103\n",
            "Epoch 126/250\n",
            "32/32 [==============================] - 1s 27ms/step - loss: 665.4034\n",
            "Epoch 127/250\n",
            "32/32 [==============================] - 0s 15ms/step - loss: 641.8301\n",
            "Epoch 128/250\n",
            "32/32 [==============================] - 0s 10ms/step - loss: 619.5539\n",
            "Epoch 129/250\n",
            "32/32 [==============================] - 1s 21ms/step - loss: 596.2856\n",
            "Epoch 130/250\n",
            "32/32 [==============================] - 0s 14ms/step - loss: 571.6722\n",
            "Epoch 131/250\n",
            "32/32 [==============================] - 0s 10ms/step - loss: 550.0101\n",
            "Epoch 132/250\n",
            "32/32 [==============================] - 1s 19ms/step - loss: 528.4034\n",
            "Epoch 133/250\n",
            "32/32 [==============================] - 0s 9ms/step - loss: 506.5323\n",
            "Epoch 134/250\n",
            "32/32 [==============================] - 1s 19ms/step - loss: 485.6539\n",
            "Epoch 135/250\n",
            "32/32 [==============================] - 0s 14ms/step - loss: 466.7904\n",
            "Epoch 136/250\n",
            "32/32 [==============================] - 1s 24ms/step - loss: 448.6092\n",
            "Epoch 137/250\n",
            "32/32 [==============================] - 0s 9ms/step - loss: 427.8295\n",
            "Epoch 138/250\n",
            "32/32 [==============================] - 1s 23ms/step - loss: 409.0108\n",
            "Epoch 139/250\n",
            "32/32 [==============================] - 1s 19ms/step - loss: 387.0570\n",
            "Epoch 140/250\n",
            "32/32 [==============================] - 1s 19ms/step - loss: 365.2763\n",
            "Epoch 141/250\n",
            "32/32 [==============================] - 0s 14ms/step - loss: 345.1449\n",
            "Epoch 142/250\n",
            "32/32 [==============================] - 1s 16ms/step - loss: 326.4834\n",
            "Epoch 143/250\n",
            "32/32 [==============================] - 1s 20ms/step - loss: 310.1130\n",
            "Epoch 144/250\n",
            "32/32 [==============================] - 0s 14ms/step - loss: 293.8728\n",
            "Epoch 145/250\n",
            "32/32 [==============================] - 1s 16ms/step - loss: 278.6843\n",
            "Epoch 146/250\n",
            "32/32 [==============================] - 1s 18ms/step - loss: 264.2510\n",
            "Epoch 147/250\n",
            "32/32 [==============================] - 1s 19ms/step - loss: 250.2152\n",
            "Epoch 148/250\n",
            "32/32 [==============================] - 0s 15ms/step - loss: 236.8595\n",
            "Epoch 149/250\n",
            "32/32 [==============================] - 1s 17ms/step - loss: 222.3883\n",
            "Epoch 150/250\n",
            "32/32 [==============================] - 0s 15ms/step - loss: 209.8777\n",
            "Epoch 151/250\n",
            "32/32 [==============================] - 0s 13ms/step - loss: 196.3562\n",
            "Epoch 152/250\n",
            "32/32 [==============================] - 0s 13ms/step - loss: 183.6708\n",
            "Epoch 153/250\n",
            "32/32 [==============================] - 1s 17ms/step - loss: 171.1872\n",
            "Epoch 154/250\n",
            "32/32 [==============================] - 0s 9ms/step - loss: 160.3880\n",
            "Epoch 155/250\n",
            "32/32 [==============================] - 0s 14ms/step - loss: 151.0054\n",
            "Epoch 156/250\n",
            "32/32 [==============================] - 0s 15ms/step - loss: 142.4560\n",
            "Epoch 157/250\n",
            "32/32 [==============================] - 0s 13ms/step - loss: 133.3644\n",
            "Epoch 158/250\n",
            "32/32 [==============================] - 0s 13ms/step - loss: 123.7529\n",
            "Epoch 159/250\n",
            "32/32 [==============================] - 0s 14ms/step - loss: 114.7922\n",
            "Epoch 160/250\n",
            "32/32 [==============================] - 1s 29ms/step - loss: 106.3468\n",
            "Epoch 161/250\n",
            "32/32 [==============================] - 1s 19ms/step - loss: 98.9044\n",
            "Epoch 162/250\n",
            "32/32 [==============================] - 1s 16ms/step - loss: 92.0723\n",
            "Epoch 163/250\n",
            "32/32 [==============================] - 0s 14ms/step - loss: 85.6038\n",
            "Epoch 164/250\n",
            "32/32 [==============================] - 1s 21ms/step - loss: 79.3342\n",
            "Epoch 165/250\n",
            "32/32 [==============================] - 1s 20ms/step - loss: 72.9475\n",
            "Epoch 166/250\n",
            "32/32 [==============================] - 1s 24ms/step - loss: 67.4424\n",
            "Epoch 167/250\n",
            "32/32 [==============================] - 0s 14ms/step - loss: 61.8887\n",
            "Epoch 168/250\n",
            "32/32 [==============================] - 0s 10ms/step - loss: 56.2643\n",
            "Epoch 169/250\n",
            "32/32 [==============================] - 1s 22ms/step - loss: 51.1779\n",
            "Epoch 170/250\n",
            "32/32 [==============================] - 1s 19ms/step - loss: 47.6101\n",
            "Epoch 171/250\n",
            "32/32 [==============================] - 1s 16ms/step - loss: 43.8039\n",
            "Epoch 172/250\n",
            "32/32 [==============================] - 1s 18ms/step - loss: 41.6572\n",
            "Epoch 173/250\n",
            "32/32 [==============================] - 1s 20ms/step - loss: 38.7765\n",
            "Epoch 174/250\n",
            "32/32 [==============================] - 1s 20ms/step - loss: 36.8886\n",
            "Epoch 175/250\n",
            "32/32 [==============================] - 1s 19ms/step - loss: 35.0179\n",
            "Epoch 176/250\n",
            "32/32 [==============================] - 0s 12ms/step - loss: 33.2140\n",
            "Epoch 177/250\n",
            "32/32 [==============================] - 1s 20ms/step - loss: 31.9207\n",
            "Epoch 178/250\n",
            "32/32 [==============================] - 1s 16ms/step - loss: 30.4750\n",
            "Epoch 179/250\n",
            "32/32 [==============================] - 1s 17ms/step - loss: 29.8171\n",
            "Epoch 180/250\n",
            "32/32 [==============================] - 1s 25ms/step - loss: 29.0291\n",
            "Epoch 181/250\n",
            "32/32 [==============================] - 1s 26ms/step - loss: 28.2696\n",
            "Epoch 182/250\n",
            "32/32 [==============================] - 0s 14ms/step - loss: 27.4603\n",
            "Epoch 183/250\n",
            "32/32 [==============================] - 1s 18ms/step - loss: 26.7403\n",
            "Epoch 184/250\n",
            "32/32 [==============================] - 0s 13ms/step - loss: 26.8635\n",
            "Epoch 185/250\n",
            "32/32 [==============================] - 1s 16ms/step - loss: 26.3369\n",
            "Epoch 186/250\n",
            "32/32 [==============================] - 1s 16ms/step - loss: 25.8102\n",
            "Epoch 187/250\n",
            "32/32 [==============================] - 0s 9ms/step - loss: 25.7114\n",
            "Epoch 188/250\n",
            "32/32 [==============================] - 0s 12ms/step - loss: 25.6386\n",
            "Epoch 189/250\n",
            "32/32 [==============================] - 0s 7ms/step - loss: 25.3576\n",
            "Epoch 190/250\n",
            "32/32 [==============================] - 0s 6ms/step - loss: 25.0921\n",
            "Epoch 191/250\n",
            "32/32 [==============================] - 0s 8ms/step - loss: 25.0447\n",
            "Epoch 192/250\n",
            "32/32 [==============================] - 0s 8ms/step - loss: 24.6812\n",
            "Epoch 193/250\n",
            "32/32 [==============================] - 0s 6ms/step - loss: 24.6735\n",
            "Epoch 194/250\n",
            "32/32 [==============================] - 0s 6ms/step - loss: 24.8965\n",
            "Epoch 195/250\n",
            "32/32 [==============================] - 0s 6ms/step - loss: 24.8457\n",
            "Epoch 196/250\n",
            "32/32 [==============================] - 0s 8ms/step - loss: 24.4085\n",
            "Epoch 197/250\n",
            "32/32 [==============================] - 0s 6ms/step - loss: 24.6684\n",
            "Epoch 198/250\n",
            "32/32 [==============================] - 1s 17ms/step - loss: 24.7245\n",
            "Epoch 199/250\n",
            "32/32 [==============================] - 1s 21ms/step - loss: 24.6421\n",
            "Epoch 200/250\n",
            "32/32 [==============================] - 1s 18ms/step - loss: 24.7360\n",
            "Epoch 201/250\n",
            "32/32 [==============================] - 1s 19ms/step - loss: 24.4890\n",
            "Epoch 202/250\n",
            "32/32 [==============================] - 0s 14ms/step - loss: 24.5343\n",
            "Epoch 203/250\n",
            "32/32 [==============================] - 1s 14ms/step - loss: 24.8184\n",
            "Epoch 204/250\n",
            "32/32 [==============================] - 0s 12ms/step - loss: 24.4137\n",
            "Epoch 205/250\n",
            "32/32 [==============================] - 1s 20ms/step - loss: 24.4076\n",
            "Epoch 206/250\n",
            "32/32 [==============================] - 0s 12ms/step - loss: 24.8403\n",
            "Epoch 207/250\n",
            "32/32 [==============================] - 0s 9ms/step - loss: 24.4817\n",
            "Epoch 208/250\n",
            "32/32 [==============================] - 0s 15ms/step - loss: 24.7837\n",
            "Epoch 209/250\n",
            "32/32 [==============================] - 0s 15ms/step - loss: 24.7373\n",
            "Epoch 210/250\n",
            "32/32 [==============================] - 0s 9ms/step - loss: 24.5718\n",
            "Epoch 211/250\n",
            "32/32 [==============================] - 1s 18ms/step - loss: 24.4425\n",
            "Epoch 212/250\n",
            "32/32 [==============================] - 0s 9ms/step - loss: 24.6884\n",
            "Epoch 213/250\n",
            "32/32 [==============================] - 1s 16ms/step - loss: 24.3934\n",
            "Epoch 214/250\n",
            "32/32 [==============================] - 1s 30ms/step - loss: 24.1011\n",
            "Epoch 215/250\n",
            "32/32 [==============================] - 0s 14ms/step - loss: 24.5286\n",
            "Epoch 216/250\n",
            "32/32 [==============================] - 1s 16ms/step - loss: 24.6879\n",
            "Epoch 217/250\n",
            "32/32 [==============================] - 0s 14ms/step - loss: 24.7823\n",
            "Epoch 218/250\n",
            "32/32 [==============================] - 1s 20ms/step - loss: 24.4759\n",
            "Epoch 219/250\n",
            "32/32 [==============================] - 1s 15ms/step - loss: 24.4771\n",
            "Epoch 220/250\n",
            "32/32 [==============================] - 0s 11ms/step - loss: 24.8252\n",
            "Epoch 221/250\n",
            "32/32 [==============================] - 0s 10ms/step - loss: 24.6487\n",
            "Epoch 222/250\n",
            "32/32 [==============================] - 0s 7ms/step - loss: 24.6423\n",
            "Epoch 223/250\n",
            "32/32 [==============================] - 0s 9ms/step - loss: 24.6582\n",
            "Epoch 224/250\n",
            "32/32 [==============================] - 0s 11ms/step - loss: 24.4142\n",
            "Epoch 225/250\n",
            "32/32 [==============================] - 0s 14ms/step - loss: 24.2303\n",
            "Epoch 226/250\n",
            "32/32 [==============================] - 0s 10ms/step - loss: 24.5131\n",
            "Epoch 227/250\n",
            "32/32 [==============================] - 0s 8ms/step - loss: 24.6068\n",
            "Epoch 228/250\n",
            "32/32 [==============================] - 0s 14ms/step - loss: 24.6299\n",
            "Epoch 229/250\n",
            "32/32 [==============================] - 0s 15ms/step - loss: 24.4482\n",
            "Epoch 230/250\n",
            "32/32 [==============================] - 0s 9ms/step - loss: 24.4355\n",
            "Epoch 231/250\n",
            "32/32 [==============================] - 0s 12ms/step - loss: 24.6266\n",
            "Epoch 232/250\n",
            "32/32 [==============================] - 0s 13ms/step - loss: 24.2700\n",
            "Epoch 233/250\n",
            "32/32 [==============================] - 1s 18ms/step - loss: 24.3909\n",
            "Epoch 234/250\n",
            "32/32 [==============================] - 0s 11ms/step - loss: 24.6809\n",
            "Epoch 235/250\n",
            "32/32 [==============================] - 0s 10ms/step - loss: 24.5771\n",
            "Epoch 236/250\n",
            "32/32 [==============================] - 0s 11ms/step - loss: 24.3946\n",
            "Epoch 237/250\n",
            "32/32 [==============================] - 1s 17ms/step - loss: 24.6125\n",
            "Epoch 238/250\n",
            "32/32 [==============================] - 0s 15ms/step - loss: 24.5107\n",
            "Epoch 239/250\n",
            "32/32 [==============================] - 0s 13ms/step - loss: 24.5294\n",
            "Epoch 240/250\n",
            "32/32 [==============================] - 0s 14ms/step - loss: 24.4406\n",
            "Epoch 241/250\n",
            "32/32 [==============================] - 0s 15ms/step - loss: 24.3507\n",
            "Epoch 242/250\n",
            "32/32 [==============================] - 1s 25ms/step - loss: 24.8237\n",
            "Epoch 243/250\n",
            "32/32 [==============================] - 0s 11ms/step - loss: 24.2686\n",
            "Epoch 244/250\n",
            "32/32 [==============================] - 0s 9ms/step - loss: 24.6887\n",
            "Epoch 245/250\n",
            "32/32 [==============================] - 0s 12ms/step - loss: 24.5644\n",
            "Epoch 246/250\n",
            "32/32 [==============================] - 0s 6ms/step - loss: 24.6097\n",
            "Epoch 247/250\n",
            "32/32 [==============================] - 0s 9ms/step - loss: 24.5239\n",
            "Epoch 248/250\n",
            "32/32 [==============================] - 0s 9ms/step - loss: 24.5558\n",
            "Epoch 249/250\n",
            "32/32 [==============================] - 0s 9ms/step - loss: 24.5415\n",
            "Epoch 250/250\n",
            "32/32 [==============================] - 0s 7ms/step - loss: 24.4905\n"
          ]
        },
        {
          "data": {
            "text/plain": [
              "<keras.callbacks.History at 0x7f91ce522fd0>"
            ]
          },
          "execution_count": 115,
          "metadata": {},
          "output_type": "execute_result"
        }
      ],
      "source": [
        "final_model = Sequential()\n",
        "\n",
        "final_model.add(Dense(units = 4, activation = \"relu\"))     # input_dim = 2 or input_dim = X_train.shape[1]\n",
        "final_model.add(Dense(units = 4, activation = \"relu\"))\n",
        "final_model.add(Dense(units = 4, activation = \"relu\"))\n",
        "final_model.add(Dense(1))\n",
        "\n",
        "final_model.compile(optimizer = \"rmsprop\", loss = \"mse\")\n",
        "\n",
        "final_model.fit(x = X_scaled, y = y, batch_size = 32, epochs = 250)"
      ]
    },
    {
      "cell_type": "code",
      "execution_count": null,
      "metadata": {
        "id": "Nmi1Z1eomRRs",
        "outputId": "f32e54c3-947e-4681-850e-65d7b5245aec"
      },
      "outputs": [
        {
          "name": "stdout",
          "output_type": "stream",
          "text": [
            "Model: \"sequential_12\"\n",
            "_________________________________________________________________\n",
            " Layer (type)                Output Shape              Param #   \n",
            "=================================================================\n",
            " dense_48 (Dense)            (None, 4)                 12        \n",
            "                                                                 \n",
            " dense_49 (Dense)            (None, 4)                 20        \n",
            "                                                                 \n",
            " dense_50 (Dense)            (None, 4)                 20        \n",
            "                                                                 \n",
            " dense_51 (Dense)            (None, 1)                 5         \n",
            "                                                                 \n",
            "=================================================================\n",
            "Total params: 57\n",
            "Trainable params: 57\n",
            "Non-trainable params: 0\n",
            "_________________________________________________________________\n"
          ]
        }
      ],
      "source": [
        "final_model.summary()"
      ]
    },
    {
      "cell_type": "markdown",
      "metadata": {
        "id": "ABJOv3YGmRRt"
      },
      "source": [
        "### Saving a Model"
      ]
    },
    {
      "cell_type": "markdown",
      "metadata": {
        "id": "6vzvCkEAmRRu"
      },
      "source": [
        "You can save a TensorFlow/Keras model using [`model.save()`](https://www.tensorflow.org/tutorials/keras/save_and_load#save_the_entire_model).\n",
        "\n",
        "Keras saves models by inspecting their architectures. This technique saves everything:\n",
        "\n",
        "- The weight values\n",
        "- The model's architecture\n",
        "- The model's training configuration (what you pass to the .compile() method)\n",
        "- The optimizer and its state, if any (this enables you to restart training where you left off)\n",
        "\n",
        "There are two ways to save a model in TensorFlow:\n",
        "1. The [SavedModel format](https://www.tensorflow.org/tutorials/keras/save_and_load#savedmodel_format) (default).\n",
        "2. The [HDF5 format](https://www.tensorflow.org/tutorials/keras/save_and_load#hdf5_format).\n",
        "\n"
      ]
    },
    {
      "cell_type": "code",
      "execution_count": null,
      "metadata": {
        "id": "vvM9pVH9mRRv"
      },
      "outputs": [],
      "source": [
        "final_model.save('model_fake_reg.h5')  # creates a HDF5 file 'my_model.h5'"
      ]
    },
    {
      "cell_type": "code",
      "execution_count": null,
      "metadata": {
        "id": "7Ow9Oef_mRRv"
      },
      "outputs": [],
      "source": [
        "#final_model.save(\"model_fake_reg\") "
      ]
    },
    {
      "cell_type": "markdown",
      "metadata": {
        "id": "Wu3FWTgmmRRv"
      },
      "source": [
        "### Loading Model"
      ]
    },
    {
      "cell_type": "code",
      "execution_count": null,
      "metadata": {
        "id": "3qXGbANKmRRv"
      },
      "outputs": [],
      "source": [
        "from tensorflow.keras.models import load_model"
      ]
    },
    {
      "cell_type": "code",
      "execution_count": null,
      "metadata": {
        "id": "__4Cwo2RmRRw"
      },
      "outputs": [],
      "source": [
        "model_fake_reg = load_model('model_fake_reg.h5')"
      ]
    },
    {
      "cell_type": "code",
      "execution_count": null,
      "metadata": {
        "id": "2Zbq64dqmRRw"
      },
      "outputs": [],
      "source": [
        "scaler_fake_reg = pickle.load(open(\"scaler_fake_reg\", \"rb\"))"
      ]
    },
    {
      "cell_type": "markdown",
      "metadata": {
        "id": "MFX6jmsHmRRw"
      },
      "source": [
        "## Prediction-1"
      ]
    },
    {
      "cell_type": "code",
      "execution_count": null,
      "metadata": {
        "id": "hWU-q6otmRRw"
      },
      "outputs": [],
      "source": [
        "sample = [[998, 1000]]"
      ]
    },
    {
      "cell_type": "code",
      "execution_count": null,
      "metadata": {
        "id": "Seli2Mt4mRRw"
      },
      "outputs": [],
      "source": [
        "sample_scaled = scaler_fake_reg.transform(sample)"
      ]
    },
    {
      "cell_type": "code",
      "execution_count": null,
      "metadata": {
        "id": "Q3tzK1PpmRRw",
        "outputId": "19b4a027-7d54-468a-a24d-f939be299db6"
      },
      "outputs": [
        {
          "data": {
            "text/plain": [
              "array([[420.4734]], dtype=float32)"
            ]
          },
          "execution_count": 75,
          "metadata": {},
          "output_type": "execute_result"
        }
      ],
      "source": [
        "model_fake_reg.predict(sample_scaled)"
      ]
    },
    {
      "cell_type": "markdown",
      "metadata": {
        "id": "pXEolj90mRRx"
      },
      "source": [
        "## Prediction-2"
      ]
    },
    {
      "cell_type": "code",
      "execution_count": null,
      "metadata": {
        "id": "QrCssTASmRRx"
      },
      "outputs": [],
      "source": [
        "my_dict = {\"Feature1\": [997, 998, 999, 1000, 1001],\n",
        "           \"Feature2\": [1000, 999, 998, 997, 996]}"
      ]
    },
    {
      "cell_type": "code",
      "execution_count": null,
      "metadata": {
        "id": "KXSkSSsFmRRx",
        "outputId": "79303b9b-45fe-4fa8-d321-c41613b80fcc"
      },
      "outputs": [
        {
          "data": {
            "text/html": [
              "<div>\n",
              "<style scoped>\n",
              "    .dataframe tbody tr th:only-of-type {\n",
              "        vertical-align: middle;\n",
              "    }\n",
              "\n",
              "    .dataframe tbody tr th {\n",
              "        vertical-align: top;\n",
              "    }\n",
              "\n",
              "    .dataframe thead th {\n",
              "        text-align: right;\n",
              "    }\n",
              "</style>\n",
              "<table border=\"1\" class=\"dataframe\">\n",
              "  <thead>\n",
              "    <tr style=\"text-align: right;\">\n",
              "      <th></th>\n",
              "      <th>Feature1</th>\n",
              "      <th>Feature2</th>\n",
              "    </tr>\n",
              "  </thead>\n",
              "  <tbody>\n",
              "    <tr>\n",
              "      <th>0</th>\n",
              "      <td>997</td>\n",
              "      <td>1000</td>\n",
              "    </tr>\n",
              "    <tr>\n",
              "      <th>1</th>\n",
              "      <td>998</td>\n",
              "      <td>999</td>\n",
              "    </tr>\n",
              "    <tr>\n",
              "      <th>2</th>\n",
              "      <td>999</td>\n",
              "      <td>998</td>\n",
              "    </tr>\n",
              "    <tr>\n",
              "      <th>3</th>\n",
              "      <td>1000</td>\n",
              "      <td>997</td>\n",
              "    </tr>\n",
              "    <tr>\n",
              "      <th>4</th>\n",
              "      <td>1001</td>\n",
              "      <td>996</td>\n",
              "    </tr>\n",
              "  </tbody>\n",
              "</table>\n",
              "</div>"
            ],
            "text/plain": [
              "   Feature1  Feature2\n",
              "0       997      1000\n",
              "1       998       999\n",
              "2       999       998\n",
              "3      1000       997\n",
              "4      1001       996"
            ]
          },
          "execution_count": 77,
          "metadata": {},
          "output_type": "execute_result"
        }
      ],
      "source": [
        "sample = pd.DataFrame(my_dict)\n",
        "sample"
      ]
    },
    {
      "cell_type": "code",
      "execution_count": null,
      "metadata": {
        "id": "Zem3WzALmRRx",
        "outputId": "e834df2c-dc31-4e61-aa70-2a3cbdc18577"
      },
      "outputs": [
        {
          "data": {
            "text/plain": [
              "array([[-0.00948799,  0.52980619],\n",
              "       [ 0.15312457,  0.35345977],\n",
              "       [ 0.31573713,  0.17711336],\n",
              "       [ 0.47834969,  0.00076694],\n",
              "       [ 0.64096225, -0.17557948]])"
            ]
          },
          "execution_count": 78,
          "metadata": {},
          "output_type": "execute_result"
        }
      ],
      "source": [
        "sample_scaled = scaler_fake_reg.transform(sample)\n",
        "sample_scaled"
      ]
    },
    {
      "cell_type": "code",
      "execution_count": null,
      "metadata": {
        "id": "W_Xmsr7LmRRx",
        "outputId": "ef5b13fe-8765-4eee-8cc2-2f1e3c103543"
      },
      "outputs": [
        {
          "data": {
            "text/plain": [
              "array([[380.26678],\n",
              "       [331.80624],\n",
              "       [283.34576],\n",
              "       [234.88527],\n",
              "       [186.35524]], dtype=float32)"
            ]
          },
          "execution_count": 79,
          "metadata": {},
          "output_type": "execute_result"
        }
      ],
      "source": [
        "model_fake_reg.predict(sample_scaled)"
      ]
    },
    {
      "cell_type": "markdown",
      "metadata": {
        "id": "l8e4WqramRRy"
      },
      "source": [
        "___\n",
        "\n",
        "<p style=\"text-align: center;\"><img src=\"https://docs.google.com/uc?id=1lY0Uj5R04yMY3-ZppPWxqCr5pvBLYPnV\" class=\"img-fluid\" alt=\"CLRSWY\"></p>\n",
        "\n",
        "___"
      ]
>>>>>>> 46712f98e215151f733cb27757c2ca5f0052a3f9
    }
  ],
  "metadata": {
    "interpreter": {
      "hash": "aee8b7b246df8f9039afb4144a1f6fd8d2ca17a180786b69acc140d282b71a49"
    },
    "kernelspec": {
      "display_name": "Python 3.9.6 64-bit",
      "language": "python",
      "name": "python3"
    },
    "language_info": {
      "codemirror_mode": {
        "name": "ipython",
        "version": 3
      },
      "file_extension": ".py",
      "mimetype": "text/x-python",
      "name": "python",
      "nbconvert_exporter": "python",
      "pygments_lexer": "ipython3",
      "version": "3.9.6"
    },
    "toc": {
      "base_numbering": 1,
      "nav_menu": {},
      "number_sections": false,
      "sideBar": true,
      "skip_h1_title": false,
      "title_cell": "Table of Contents",
      "title_sidebar": "Contents",
      "toc_cell": false,
      "toc_position": {
        "height": "calc(100% - 180px)",
        "left": "10px",
        "top": "150px",
        "width": "300.099px"
      },
      "toc_section_display": true,
      "toc_window_display": true
    },
    "colab": {
      "provenance": [],
      "include_colab_link": true
    }
  },
<<<<<<< HEAD
  {
   "cell_type": "markdown",
   "metadata": {},
   "source": [
    "___\n",
    "\n",
    "<p style=\"text-align: center;\"><img src=\"https://docs.google.com/uc?id=1lY0Uj5R04yMY3-ZppPWxqCr5pvBLYPnV\" class=\"img-fluid\" alt=\"CLRSWY\"></p>\n",
    "\n",
    "___"
   ]
  }
 ],
 "metadata": {
  "interpreter": {
   "hash": "aee8b7b246df8f9039afb4144a1f6fd8d2ca17a180786b69acc140d282b71a49"
  },
  "kernelspec": {
   "display_name": "Python 3 (ipykernel)",
   "language": "python",
   "name": "python3"
  },
  "language_info": {
   "codemirror_mode": {
    "name": "ipython",
    "version": 3
   },
   "file_extension": ".py",
   "mimetype": "text/x-python",
   "name": "python",
   "nbconvert_exporter": "python",
   "pygments_lexer": "ipython3",
   "version": "3.9.13"
  },
  "toc": {
   "base_numbering": 1,
   "nav_menu": {},
   "number_sections": false,
   "sideBar": true,
   "skip_h1_title": false,
   "title_cell": "Table of Contents",
   "title_sidebar": "Contents",
   "toc_cell": false,
   "toc_position": {
    "height": "calc(100% - 180px)",
    "left": "10px",
    "top": "150px",
    "width": "300.099px"
   },
   "toc_section_display": true,
   "toc_window_display": true
  },
  "varInspector": {
   "cols": {
    "lenName": 16,
    "lenType": 16,
    "lenVar": 40
   },
   "kernels_config": {
    "python": {
     "delete_cmd_postfix": "",
     "delete_cmd_prefix": "del ",
     "library": "var_list.py",
     "varRefreshCmd": "print(var_dic_list())"
    },
    "r": {
     "delete_cmd_postfix": ") ",
     "delete_cmd_prefix": "rm(",
     "library": "var_list.r",
     "varRefreshCmd": "cat(var_dic_list()) "
    }
   },
   "types_to_exclude": [
    "module",
    "function",
    "builtin_function_or_method",
    "instance",
    "_Feature"
   ],
   "window_display": false
  }
 },
 "nbformat": 4,
 "nbformat_minor": 4
}
=======
  "nbformat": 4,
  "nbformat_minor": 0
}
>>>>>>> 46712f98e215151f733cb27757c2ca5f0052a3f9
