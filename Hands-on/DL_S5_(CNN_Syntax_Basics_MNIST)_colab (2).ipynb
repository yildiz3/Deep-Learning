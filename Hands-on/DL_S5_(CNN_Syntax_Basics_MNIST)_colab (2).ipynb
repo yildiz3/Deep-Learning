{
 "cells": [
  {
   "cell_type": "markdown",
   "metadata": {
    "id": "MjcJfN_2q7xm"
   },
   "source": [
    "___\n",
    "\n",
    "<p style=\"text-align: center;\"><img src=\"https://docs.google.com/uc?id=1lY0Uj5R04yMY3-ZppPWxqCr5pvBLYPnV\" class=\"img-fluid\" alt=\"CLRSWY\"></p>\n",
    "\n",
    "___"
   ]
  },
  {
   "cell_type": "markdown",
   "metadata": {
    "id": "3wG1xZCHq7xs"
   },
   "source": [
    "<h1 style=\"text-align: center;\">Deep Learning<br><br>Session - 5<br><br>CNN Syntax Basics<br><br>MNIST Data<br><h1>"
   ]
  },
  {
   "cell_type": "markdown",
   "metadata": {
    "id": "XhU2dK-SORVC"
   },
   "source": [
    "# Dataset Info"
   ]
  },
  {
   "cell_type": "markdown",
   "metadata": {
    "id": "Kfry5msUq7xt"
   },
   "source": [
    "The MNIST database (Modified National Institute of Standards and Technology database) is a large database of handwritten digits that is commonly used for training various image processing systems. The database is also widely used for training and testing in the field of machine learning. It was created by \"re-mixing\" the samples from NIST's original datasets. The creators felt that since NIST's training dataset was taken from American Census Bureau employees, while the testing dataset was taken from American high school students, it was not well-suited for machine learning experiments. Furthermore, the black and white images from NIST were normalized to fit into a 28x28 pixel bounding box and anti-aliased, which introduced grayscale levels.\n",
    "\n",
    "The MNIST database contains 60,000 training images and 10,000 testing images. Half of the training set and half of the test set were taken from NIST's training dataset, while the other half of the training set and the other half of the test set were taken from NIST's testing dataset. The original creators of the database keep a list of some of the methods tested on it. In their original paper, they use a support-vector machine to get an error rate of 0.8%."
   ]
  },
  {
   "cell_type": "markdown",
   "metadata": {
    "id": "qWeSkNFiq7xu"
   },
   "source": [
    "![3Dto2D](https://upload.wikimedia.org/wikipedia/commons/thumb/2/27/MnistExamples.png/320px-MnistExamples.png)"
   ]
  },
  {
   "cell_type": "code",
   "execution_count": 1,
   "metadata": {
    "id": "pyjqyftAzSfT"
   },
   "outputs": [],
   "source": [
    "import numpy as np\n",
    "import pandas as pd\n",
    "import matplotlib.pyplot as plt\n",
    "import seaborn as sns\n",
    "import warnings\n",
    "warnings.filterwarnings(\"ignore\")\n",
    "warnings.warn(\"this will not show\")\n",
    "plt.rcParams[\"figure.figsize\"] = (10,6)\n",
    "sns.set_style(\"whitegrid\")\n",
    "pd.set_option('display.float_format', lambda x: '%.3f' % x)\n",
    "# Set it None to display all rows in the dataframe\n",
    "# pd.set_option('display.max_rows', None)\n",
    "# Set it to None to display all columns in the dataframe\n",
    "pd.set_option('display.max_columns', None)"
   ]
  },
  {
   "cell_type": "code",
   "execution_count": 2,
   "metadata": {
    "colab": {
     "base_uri": "https://localhost:8080/"
    },
    "id": "0pKAxOVrq7xx",
    "outputId": "0cfc52eb-044f-45ba-9c58-25a3397238a0"
   },
   "outputs": [
    {
     "data": {
      "text/plain": [
       "[PhysicalDevice(name='/physical_device:GPU:0', device_type='GPU')]"
      ]
     },
     "execution_count": 2,
     "metadata": {},
     "output_type": "execute_result"
    }
   ],
   "source": [
    "import tensorflow as tf\n",
    "tf.config.list_physical_devices(\"GPU\") # Runtime(Çalışma zamanı) kısmında GPU kullanıyorsak bir çıktı gelecek, None seçiliyse çıktı gelmeyecek"
   ]
  },
  {
   "cell_type": "markdown",
   "metadata": {
    "id": "U62Gf7ERq7xz"
   },
   "source": [
    "# Recognizing and Understanding Data"
   ]
  },
  {
   "cell_type": "code",
   "execution_count": 3,
   "metadata": {
    "colab": {
     "base_uri": "https://localhost:8080/"
    },
    "id": "xmHOOUQUzYbu",
    "outputId": "9f3bd574-ba5e-4599-d86c-679e639a914a"
   },
   "outputs": [
    {
     "name": "stdout",
     "output_type": "stream",
     "text": [
      "Downloading data from https://storage.googleapis.com/tensorflow/tf-keras-datasets/mnist.npz\n",
      "11493376/11490434 [==============================] - 0s 0us/step\n",
      "11501568/11490434 [==============================] - 0s 0us/step\n"
     ]
    }
   ],
   "source": [
    "from tensorflow.keras.datasets.mnist import load_data    # To load the MNIST digit dataset\n",
    "# Datada el yazıları var. Training için büro elemanlarının, test için öğrencilerin el yazıları alınmış\n",
    "# .. Sonra böyle yapmak uygun değil diye bunlar karıştırılmış ve training, test datası oluşturulmuş\n",
    "(X_train, y_train) , (X_test, y_test) = load_data()      # Loading data"
   ]
  },
  {
   "cell_type": "code",
   "execution_count": 4,
   "metadata": {
    "colab": {
     "base_uri": "https://localhost:8080/"
    },
    "id": "JeiYe7OuzdN6",
    "outputId": "922a18a5-ed88-4849-f457-1e2ab9de5a3f"
   },
   "outputs": [
    {
     "name": "stdout",
     "output_type": "stream",
     "text": [
      "There are  60000 images in the training dataset\n",
      "There are  10000 images in the test dataset\n"
     ]
    }
   ],
   "source": [
    "print(\"There are \", len(X_train), \"images in the training dataset\")     \n",
    "print(\"There are \", len(X_test), \"images in the test dataset\")   "
   ]
  },
  {
   "cell_type": "code",
   "execution_count": 5,
   "metadata": {
    "colab": {
     "base_uri": "https://localhost:8080/"
    },
    "id": "9FNlcgiTzj1X",
    "outputId": "d8c5ca90-c6e8-43ca-99f7-9ef30c94c902"
   },
   "outputs": [
    {
     "data": {
      "text/plain": [
       "(28, 28)"
      ]
     },
     "execution_count": 5,
     "metadata": {},
     "output_type": "execute_result"
    }
   ],
   "source": [
    "# Checking the shape of one image\n",
    "X_train[9].shape # 9. indexin shape i # 28x28 lik bir resimmiş"
   ]
  },
  {
   "cell_type": "code",
   "execution_count": 6,
   "metadata": {
    "colab": {
     "base_uri": "https://localhost:8080/",
     "height": 391
    },
    "id": "nAlrzyEHzr68",
    "outputId": "80972ed1-371b-47dc-92a1-bbc4d8c6bb25"
   },
   "outputs": [
    {
     "data": {
      "text/plain": [
       "<matplotlib.image.AxesImage at 0x7fbc449fe950>"
      ]
     },
     "execution_count": 6,
     "metadata": {},
     "output_type": "execute_result"
    },
    {
     "data": {
      "image/png": "[encoded data removed]",
      "text/plain": [
       "<Figure size 720x432 with 1 Axes>"
      ]
     },
     "metadata": {},
     "output_type": "display_data"
    }
   ],
   "source": [
    "plt.imshow(X_train[9],cmap='gray')  # cmap='gray' yazmazsanız çalışır. Resmi renkli şekilde görebilirsiniz(Bunlara yalancı renkler diyoruz)\n",
    "# Yani resim renkli değil aslında\n",
    "# plt.matshow(X_train[9])"
   ]
  },
  {
   "cell_type": "code",
   "execution_count": 7,
   "metadata": {
    "colab": {
     "base_uri": "https://localhost:8080/"
    },
    "id": "fo95HaLhzn9h",
    "outputId": "227207bc-b66f-4a0c-f9c6-3564dd229c7a"
   },
   "outputs": [
    {
     "data": {
      "text/plain": [
       "array([[  0,   0,   0,   0,   0,   0,   0,   0,   0,   0,   0,   0,   0,\n",
       "          0,   0,   0,   0,   0,   0,   0,   0,   0,   0,   0,   0,   0,\n",
       "          0,   0],\n",
       "       [  0,   0,   0,   0,   0,   0,   0,   0,   0,   0,   0,   0,   0,\n",
       "          0,   0,   0,   0,   0,   0,   0,   0,   0,   0,   0,   0,   0,\n",
       "          0,   0],\n",
       "       [  0,   0,   0,   0,   0,   0,   0,   0,   0,   0,   0,   0,   0,\n",
       "          0,   0,   0,   0,   0,   0,   0,   0,   0,   0,   0,   0,   0,\n",
       "          0,   0],\n",
       "       [  0,   0,   0,   0,   0,   0,   0,   0,   0,   0,   0,   0,   0,\n",
       "          0,   0,   0,   0,   0,   0,   0,   0,   0,   0,   0,   0,   0,\n",
       "          0,   0],\n",
       "       [  0,   0,   0,   0,   0,   0,   0,   0,   0,   0,   0,   0,   0,\n",
       "          0,   0,   0,   0,   0,   0,   0,   0,   0, 189, 190,   0,   0,\n",
       "          0,   0],\n",
       "       [  0,   0,   0,   0,   0,   0,   0,   0,   0,   0,   0,   0,   0,\n",
       "          0,   0,   0,   0,   0,   0,   0,   0, 143, 247, 153,   0,   0,\n",
       "          0,   0],\n",
       "       [  0,   0,   0,   0,   0,   0,   0,   0,   0,   0,   0,   0,   0,\n",
       "          0,   0,   0,   0,   0,   0,   0, 136, 247, 242,  86,   0,   0,\n",
       "          0,   0],\n",
       "       [  0,   0,   0,   0,   0,   0,   0,   0,   0,   0,   0,   0,   0,\n",
       "          0,   0,   0,   0,   0,   0,   0, 192, 252, 187,   0,   0,   0,\n",
       "          0,   0],\n",
       "       [  0,   0,   0,   0,   0,   0,   0,   0,   0,   0,   0,   0,  62,\n",
       "        185,  18,   0,   0,   0,   0,  89, 236, 217,  47,   0,   0,   0,\n",
       "          0,   0],\n",
       "       [  0,   0,   0,   0,   0,   0,   0,   0,   0,   0,   0,   0, 216,\n",
       "        253,  60,   0,   0,   0,   0, 212, 255,  81,   0,   0,   0,   0,\n",
       "          0,   0],\n",
       "       [  0,   0,   0,   0,   0,   0,   0,   0,   0,   0,   0,   0, 206,\n",
       "        252,  68,   0,   0,   0,  48, 242, 253,  89,   0,   0,   0,   0,\n",
       "          0,   0],\n",
       "       [  0,   0,   0,   0,   0,   0,   0,   0,   0,   0,   0, 131, 251,\n",
       "        212,  21,   0,   0,  11, 167, 252, 197,   5,   0,   0,   0,   0,\n",
       "          0,   0],\n",
       "       [  0,   0,   0,   0,   0,   0,   0,   0,   0,   0,  29, 232, 247,\n",
       "         63,   0,   0,   0, 153, 252, 226,   0,   0,   0,   0,   0,   0,\n",
       "          0,   0],\n",
       "       [  0,   0,   0,   0,   0,   0,   0,   0,   0,  45, 219, 252, 143,\n",
       "          0,   0,   0, 116, 249, 252, 103,   0,   0,   0,   0,   0,   0,\n",
       "          0,   0],\n",
       "       [  0,   0,   0,   0,   0,   0,   0,   4,  96, 253, 255, 253, 200,\n",
       "        122,   7,  25, 201, 250, 158,   0,   0,   0,   0,   0,   0,   0,\n",
       "          0,   0],\n",
       "       [  0,   0,   0,   0,   0,   0,   0,  92, 252, 252, 253, 217, 252,\n",
       "        252, 200, 227, 252, 231,   0,   0,   0,   0,   0,   0,   0,   0,\n",
       "          0,   0],\n",
       "       [  0,   0,   0,   0,   0,   0,  87, 251, 247, 231,  65,  48, 189,\n",
       "        252, 252, 253, 252, 251, 227,  35,   0,   0,   0,   0,   0,   0,\n",
       "          0,   0],\n",
       "       [  0,   0,   0,   0,   0,   0, 190, 221,  98,   0,   0,   0,  42,\n",
       "        196, 252, 253, 252, 252, 162,   0,   0,   0,   0,   0,   0,   0,\n",
       "          0,   0],\n",
       "       [  0,   0,   0,   0,   0,   0, 111,  29,   0,   0,   0,   0,  62,\n",
       "        239, 252,  86,  42,  42,  14,   0,   0,   0,   0,   0,   0,   0,\n",
       "          0,   0],\n",
       "       [  0,   0,   0,   0,   0,   0,   0,   0,   0,   0,   0,  15, 148,\n",
       "        253, 218,   0,   0,   0,   0,   0,   0,   0,   0,   0,   0,   0,\n",
       "          0,   0],\n",
       "       [  0,   0,   0,   0,   0,   0,   0,   0,   0,   0,   0, 121, 252,\n",
       "        231,  28,   0,   0,   0,   0,   0,   0,   0,   0,   0,   0,   0,\n",
       "          0,   0],\n",
       "       [  0,   0,   0,   0,   0,   0,   0,   0,   0,   0,  31, 221, 251,\n",
       "        129,   0,   0,   0,   0,   0,   0,   0,   0,   0,   0,   0,   0,\n",
       "          0,   0],\n",
       "       [  0,   0,   0,   0,   0,   0,   0,   0,   0,   0, 218, 252, 160,\n",
       "          0,   0,   0,   0,   0,   0,   0,   0,   0,   0,   0,   0,   0,\n",
       "          0,   0],\n",
       "       [  0,   0,   0,   0,   0,   0,   0,   0,   0,   0, 122, 252,  82,\n",
       "          0,   0,   0,   0,   0,   0,   0,   0,   0,   0,   0,   0,   0,\n",
       "          0,   0],\n",
       "       [  0,   0,   0,   0,   0,   0,   0,   0,   0,   0,   0,   0,   0,\n",
       "          0,   0,   0,   0,   0,   0,   0,   0,   0,   0,   0,   0,   0,\n",
       "          0,   0],\n",
       "       [  0,   0,   0,   0,   0,   0,   0,   0,   0,   0,   0,   0,   0,\n",
       "          0,   0,   0,   0,   0,   0,   0,   0,   0,   0,   0,   0,   0,\n",
       "          0,   0],\n",
       "       [  0,   0,   0,   0,   0,   0,   0,   0,   0,   0,   0,   0,   0,\n",
       "          0,   0,   0,   0,   0,   0,   0,   0,   0,   0,   0,   0,   0,\n",
       "          0,   0],\n",
       "       [  0,   0,   0,   0,   0,   0,   0,   0,   0,   0,   0,   0,   0,\n",
       "          0,   0,   0,   0,   0,   0,   0,   0,   0,   0,   0,   0,   0,\n",
       "          0,   0]], dtype=uint8)"
      ]
     },
     "execution_count": 7,
     "metadata": {},
     "output_type": "execute_result"
    }
   ],
   "source": [
    "X_train[9]"
   ]
  },
  {
   "cell_type": "code",
   "execution_count": 8,
   "metadata": {
    "colab": {
     "base_uri": "https://localhost:8080/"
    },
    "id": "ymYZ0IMzq7x3",
    "outputId": "6218014c-d391-46c3-9a74-d22890d33fb9"
   },
   "outputs": [
    {
     "data": {
      "text/plain": [
       "array([5, 0, 4, ..., 5, 6, 8], dtype=uint8)"
      ]
     },
     "execution_count": 8,
     "metadata": {},
     "output_type": "execute_result"
    }
   ],
   "source": [
    "y_train"
   ]
  },
  {
   "cell_type": "code",
   "execution_count": 9,
   "metadata": {
    "colab": {
     "base_uri": "https://localhost:8080/"
    },
    "id": "zP9FMA-D0Dho",
    "outputId": "a49d62a2-541a-4efe-844f-5f22a02436b4"
   },
   "outputs": [
    {
     "data": {
      "text/plain": [
       "4"
      ]
     },
     "execution_count": 9,
     "metadata": {},
     "output_type": "execute_result"
    }
   ],
   "source": [
    "y_train[9]"
   ]
  },
  {
   "cell_type": "code",
   "execution_count": 10,
   "metadata": {
    "colab": {
     "base_uri": "https://localhost:8080/",
     "height": 315
    },
    "id": "IPKvujQwz00v",
    "outputId": "069515bb-d10c-4128-95e8-69807da78fd3"
   },
   "outputs": [
    {
     "data": {
      "image/png": "[encoded data removed]",
      "text/plain": [
       "<Figure size 864x360 with 10 Axes>"
      ]
     },
     "metadata": {},
     "output_type": "display_data"
    }
   ],
   "source": [
    "num_rows, num_cols = 2, 5\n",
    "f, ax = plt.subplots(2, 5, figsize=(12,5),\n",
    "                     gridspec_kw={'wspace':0.03, 'hspace':0.02}, \n",
    "                     squeeze=True)\n",
    "\n",
    "for r in range(num_rows):\n",
    "    for c in range(num_cols):\n",
    "      \n",
    "        image_index = r * 5 + c\n",
    "        ax[r,c].axis(\"off\")\n",
    "        ax[r,c].set_title('No. %d' % y_train[image_index])\n",
    "        ax[r,c].imshow( X_train[image_index], cmap='gray')\n",
    "       \n",
    "        \n",
    "plt.tight_layout()\n",
    "plt.show()\n",
    "plt.close()\n",
    "\n",
    "# Resimleri görmek istedik burada."
   ]
  },
  {
   "cell_type": "markdown",
   "metadata": {
    "id": "-_pXVdp-y8Mo"
   },
   "source": [
    "# Data Preprocessing"
   ]
  },
  {
   "cell_type": "code",
   "execution_count": 13,
   "metadata": {
    "colab": {
     "base_uri": "https://localhost:8080/"
    },
    "id": "_XspA3CDLpm6",
    "outputId": "76410d00-0115-4e1a-d445-7862ba97392f"
   },
   "outputs": [
    {
     "data": {
      "text/plain": [
       "0"
      ]
     },
     "execution_count": 13,
     "metadata": {},
     "output_type": "execute_result"
    }
   ],
   "source": [
    "# X_train, X_test, y_train, y_test bize hazır geldi burada. Bazı durumlarda kendimiz yapmamız gerekecek\n",
    "X_train[9].min()"
   ]
  },
  {
   "cell_type": "code",
   "execution_count": 14,
   "metadata": {
    "colab": {
     "base_uri": "https://localhost:8080/"
    },
    "id": "XJefIibxLqf2",
    "outputId": "8fe50006-6fc8-464d-8348-ee4dc3626d85"
   },
   "outputs": [
    {
     "data": {
      "text/plain": [
       "255"
      ]
     },
     "execution_count": 14,
     "metadata": {},
     "output_type": "execute_result"
    }
   ],
   "source": [
    "X_train[9].max() # Değerler 0 ile 255 arasında değişiyor değerler. Biz CNN de scaling yapmak avantaj sağlıyor"
   ]
  },
  {
   "cell_type": "code",
   "execution_count": 15,
   "metadata": {
    "id": "m_eSMmhJFqRA"
   },
   "outputs": [],
   "source": [
    "# Normalize image pixels\n",
    "X_train = X_train.astype('float32')\n",
    "X_test = X_test.astype('float32')\n",
    "X_train /= 255\n",
    "X_test /= 255\n",
    "# Buradaki scaling i max değere bölerek yapıyoruz. Ancak zaten scale edilmiş resimlerde olabilir. O zaman bizim\n",
    "# .. scale etmemize gerek kalmayacak."
   ]
  },
  {
   "cell_type": "code",
   "execution_count": 16,
   "metadata": {
    "colab": {
     "base_uri": "https://localhost:8080/"
    },
    "id": "-NqymetKL1Lb",
    "outputId": "81a24309-8759-4440-8acd-d9c6f583e929"
   },
   "outputs": [
    {
     "data": {
      "text/plain": [
       "0.0"
      ]
     },
     "execution_count": 16,
     "metadata": {},
     "output_type": "execute_result"
    }
   ],
   "source": [
    "X_train[9].min()"
   ]
  },
  {
   "cell_type": "code",
   "execution_count": 17,
   "metadata": {
    "colab": {
     "base_uri": "https://localhost:8080/"
    },
    "id": "SOU_kW9nL1OD",
    "outputId": "532c3b56-b839-4e42-967e-679bab5d833f"
   },
   "outputs": [
    {
     "data": {
      "text/plain": [
       "1.0"
      ]
     },
     "execution_count": 17,
     "metadata": {},
     "output_type": "execute_result"
    }
   ],
   "source": [
    "X_train[9].max()"
   ]
  },
  {
   "cell_type": "code",
   "execution_count": 18,
   "metadata": {
    "colab": {
     "base_uri": "https://localhost:8080/",
     "height": 391
    },
    "id": "Jrp0SbiHL7aA",
    "outputId": "9201ace7-b0f7-478a-dfa7-38ca54d2c02b"
   },
   "outputs": [
    {
     "data": {
      "text/plain": [
       "<matplotlib.image.AxesImage at 0x7fbc441fa890>"
      ]
     },
     "execution_count": 18,
     "metadata": {},
     "output_type": "execute_result"
    },
    {
     "data": {
      "image/png": "[encoded data removed]",
      "text/plain": [
       "<Figure size 720x432 with 1 Axes>"
      ]
     },
     "metadata": {},
     "output_type": "display_data"
    }
   ],
   "source": [
    "plt.imshow(X_train[9],cmap='gray')"
   ]
  },
  {
   "cell_type": "code",
   "execution_count": 19,
   "metadata": {
    "colab": {
     "base_uri": "https://localhost:8080/"
    },
    "id": "sIlFJOZgq7x8",
    "outputId": "61fbd24b-1465-4fab-8773-f2178f7eb09d"
   },
   "outputs": [
    {
     "data": {
      "text/plain": [
       "((60000, 28, 28), (10000, 28, 28))"
      ]
     },
     "execution_count": 19,
     "metadata": {},
     "output_type": "execute_result"
    }
   ],
   "source": [
    "X_train.shape, X_test.shape  # 60000 tane 28x28 lik ve 10000 tane 28x28 lik resimler varmış."
   ]
  },
  {
   "cell_type": "code",
   "execution_count": 20,
   "metadata": {
    "colab": {
     "base_uri": "https://localhost:8080/"
    },
    "id": "FE-tDzMkq7x8",
    "outputId": "a4260d07-ea87-4726-82fc-e708edb172b7"
   },
   "outputs": [
    {
     "data": {
      "text/plain": [
       "(60000, 28, 28, 1)"
      ]
     },
     "execution_count": 20,
     "metadata": {},
     "output_type": "execute_result"
    }
   ],
   "source": [
    "X_train.reshape(60000, 28, 28, 1).shape # reshape ile 1 ekliyoruz(Channel sayısı). Bunu model istiyor\n",
    "# Model bu channel sayısına kaç filtre kullanacağına karar verecek"
   ]
  },
  {
   "cell_type": "code",
   "execution_count": 21,
   "metadata": {
    "id": "uk7qzToCFp-s"
   },
   "outputs": [],
   "source": [
    "X_train = X_train.reshape(X_train.shape[0],28, 28, 1) \n",
    "X_test = X_test.reshape(X_test.shape[0], 28, 28, 1)"
   ]
  },
  {
   "cell_type": "code",
   "execution_count": 22,
   "metadata": {
    "colab": {
     "base_uri": "https://localhost:8080/"
    },
    "id": "5nLub1tMFqOc",
    "outputId": "64b32589-5669-4900-a279-3d7f3b2456f0"
   },
   "outputs": [
    {
     "data": {
      "text/plain": [
       "((60000, 28, 28, 1), (10000, 28, 28, 1))"
      ]
     },
     "execution_count": 22,
     "metadata": {},
     "output_type": "execute_result"
    }
   ],
   "source": [
    "X_train.shape, X_test.shape"
   ]
  },
  {
   "cell_type": "code",
   "execution_count": 23,
   "metadata": {
    "colab": {
     "base_uri": "https://localhost:8080/"
    },
    "id": "7r8BUJwuL-a6",
    "outputId": "2a1437a5-32ac-4443-e08e-9b0e9b00885a"
   },
   "outputs": [
    {
     "data": {
      "text/plain": [
       "array([5, 0, 4, ..., 5, 6, 8], dtype=uint8)"
      ]
     },
     "execution_count": 23,
     "metadata": {},
     "output_type": "execute_result"
    }
   ],
   "source": [
    "y_train # Multiclass classification olduğu için y_train en son katmanda, 10 tane nöronumuz olacak ve softmax kullanacağız\n",
    "# Bu nöronlara 0 ve 1 diye değerler verecek ve ben gelen sonuçlara göre sonuç 4 diyeceğim mesela(alttaki resim bkz)\n",
    "# 4. index 1 olsun diğerleri 0 olsun istiyoruz. Çünkü y_train[9] --> 9. indexteki resim = 4 rakamı\n",
    "# Alttaki çıktı --> 1. resim =5 rakamı, 2. resim= 0 rakamı , 3.resim = 4 rakamı"
   ]
  },
  {
   "cell_type": "markdown",
   "metadata": {
    "id": "w7kcsAJcYqiC"
   },
   "source": [
    "![image.png](data:image/png;base64,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)"
   ]
  },
  {
   "cell_type": "code",
   "execution_count": 24,
   "metadata": {
    "colab": {
     "base_uri": "https://localhost:8080/"
    },
    "id": "KVAd2P3Cq7x9",
    "outputId": "21045e0e-8cf1-4329-c6b1-6ad383ce703b"
   },
   "outputs": [
    {
     "data": {
      "text/plain": [
       "(60000,)"
      ]
     },
     "execution_count": 24,
     "metadata": {},
     "output_type": "execute_result"
    }
   ],
   "source": [
    "y_train.shape"
   ]
  },
  {
   "cell_type": "code",
   "execution_count": 25,
   "metadata": {
    "id": "z3CBRoZ1GWHh"
   },
   "outputs": [],
   "source": [
    "from tensorflow.keras.utils import to_categorical\n",
    "# y_train[9] un 4. indexini 1 yapacak diğerlerini 0 yapacak ve categorical hale dönüştürmeye yardımcı olacak bu metod"
   ]
  },
  {
   "cell_type": "code",
   "execution_count": 26,
   "metadata": {
    "colab": {
     "base_uri": "https://localhost:8080/"
    },
    "id": "rwav3vH5FqT9",
    "outputId": "c0126621-2876-4a7f-df36-156fcd2b54a4"
   },
   "outputs": [
    {
     "data": {
      "text/plain": [
       "(60000, 10)"
      ]
     },
     "execution_count": 26,
     "metadata": {},
     "output_type": "execute_result"
    }
   ],
   "source": [
    "Y_train = to_categorical(y_train, 10) \n",
    "Y_test = to_categorical(y_test, 10)\n",
    "Y_train.shape"
   ]
  },
  {
   "cell_type": "code",
   "execution_count": 27,
   "metadata": {
    "colab": {
     "base_uri": "https://localhost:8080/"
    },
    "id": "7ksNIyqiq7x-",
    "outputId": "a54bc0cf-7f61-4288-e935-dc3d3caa84b1"
   },
   "outputs": [
    {
     "data": {
      "text/plain": [
       "4"
      ]
     },
     "execution_count": 27,
     "metadata": {},
     "output_type": "execute_result"
    }
   ],
   "source": [
    "y_train[9]"
   ]
  },
  {
   "cell_type": "code",
   "execution_count": 28,
   "metadata": {
    "colab": {
     "base_uri": "https://localhost:8080/"
    },
    "id": "Wb9d9jiVq7x-",
    "outputId": "3a84f8f8-3ae5-4710-88b1-a619d8bac8aa"
   },
   "outputs": [
    {
     "data": {
      "text/plain": [
       "array([0., 0., 0., 0., 1., 0., 0., 0., 0., 0.], dtype=float32)"
      ]
     },
     "execution_count": 28,
     "metadata": {},
     "output_type": "execute_result"
    }
   ],
   "source": [
    "Y_train[9]"
   ]
  },
  {
   "cell_type": "markdown",
   "metadata": {
    "id": "lMdC_HMuq7x_"
   },
   "source": [
    "# Modeling"
   ]
  },
  {
   "cell_type": "code",
   "execution_count": 29,
   "metadata": {
    "id": "EAvdD1-IHYaV"
   },
   "outputs": [],
   "source": [
    "from tensorflow.keras.models import Sequential\n",
    "from tensorflow.keras.layers import Dense, Conv2D, MaxPool2D, Flatten"
   ]
  },
  {
   "cell_type": "code",
   "execution_count": 67,
   "metadata": {
    "id": "1XKYFc5cGD92"
   },
   "outputs": [],
   "source": [
    "model = Sequential()\n",
    "model.add(Conv2D(filters=32, kernel_size=(3,3), input_shape=(28, 28, 1), activation='relu')) # stride = 1, padding = valid \n",
    "# ilk katmanda Conv2D\n",
    "# Filters = 32 : 32 tane filtre(nöron) olacak. 32 farklı 3x3 lük filter çalışacak \n",
    "# kernel_size = (3,3) : filtre boyutu/maske gibi isimlendiriliyor\n",
    "# stride = 1, padding = vali --> default değerler\n",
    "model.add(MaxPool2D(pool_size=(2, 2))) # stride = pool size, padding = valid # pool_size=(2, 2) :  stride pool_size ile aynı olacak\n",
    "model.add(Flatten()) # Düzleştiriyor. Araya bunu mutlaka ekliyoruz\n",
    "\n",
    "# Alt kısım ANN/Feed Forward Neural network kısmı\n",
    "model.add(Dense(128, activation='relu'))\n",
    "model.add(Dense(10, activation='softmax')) # Çıkış da mecburen 10 nöron koyduk. Çünkü 10 adet resim var\n",
    "model.compile(loss='categorical_crossentropy', optimizer='adam', metrics=['accuracy'])\n",
    "\n",
    "# class chat soru : Birden fazla conv katman ve pool yapabiliyoruz değil mi?\n",
    "# John H: Yapılabilir evet\n",
    "# Class chat soru: "
   ]
  },
  {
   "cell_type": "code",
   "execution_count": 68,
   "metadata": {
    "colab": {
     "base_uri": "https://localhost:8080/"
    },
    "id": "7dlzbf8cLVu0",
    "outputId": "523b559d-73f6-4f7b-e88e-c14d16df2956"
   },
   "outputs": [
    {
     "name": "stdout",
     "output_type": "stream",
     "text": [
      "Model: \"sequential_1\"\n",
      "_________________________________________________________________\n",
      " Layer (type)                Output Shape              Param #   \n",
      "=================================================================\n",
      " conv2d_1 (Conv2D)           (None, 26, 26, 32)        320       \n",
      "                                                                 \n",
      " max_pooling2d_1 (MaxPooling  (None, 13, 13, 32)       0         \n",
      " 2D)                                                             \n",
      "                                                                 \n",
      " flatten_1 (Flatten)         (None, 5408)              0         \n",
      "                                                                 \n",
      " dense_2 (Dense)             (None, 128)               692352    \n",
      "                                                                 \n",
      " dense_3 (Dense)             (None, 10)                1290      \n",
      "                                                                 \n",
      "=================================================================\n",
      "Total params: 693,962\n",
      "Trainable params: 693,962\n",
      "Non-trainable params: 0\n",
      "_________________________________________________________________\n"
     ]
    }
   ],
   "source": [
    "model.summary()\n",
    "# class chat soru: hocam buradaki 32 filtre random mu seçiliyor?\n",
    "# John H: 32 filtreden olduğu için 32 resim çıkıyor 26x26 lık.\n",
    "# Edward H : arbitrary bir deger hocam keyfi. Ama tecrubeye dayali secimler yapiliyor genelde. 2'nin exponensiyelleri olacak sekilde secilir. filtre sayisindan bahsediyorsaniz eger*\n",
    "# 320 update edilecek parametre sayısı. 320 nasıl bulunuyor? \n",
    "# .. Kernel size dan 3x3=9(filtre katsayıları), sonra 32x9 = 288 + 32(biaslar) = 320\n",
    "# 5408x128 + 128(biasler) = 692352\n",
    "# 128 x 10 + 10 = 1290\n",
    "\n",
    "# class chat soru: Kernel size ı neye göre belirliyoruz?\n",
    "# John H: Çok küçük bir filtre ile çalışırsanız çok küçük detayları işler. Büyük olursa daha büyük detaylarla uğraşırsınız\n",
    "# .. Bir de 28x28 e daha büyük bir kernel kullanmak çok sağlıklı olmaz. En sağlıklı kullanım. Mesela 1500x1500 lik resimde\n",
    "# .. 3x3 yerine 11x11 le başlayıp sonraki katmanlarda 7x7 kullanılabilir. Son bir kaç katmanda 3x3 lük kullanılabilir ki\n",
    "# .. son katmanlarda 3x3 kullanmak daha iyi olabiliyor\n",
    "# .. 3x3 ün dezavantajı calculation cost u fazladır(İşlem sayısı artar)"
   ]
  },
  {
   "cell_type": "raw",
   "metadata": {
    "id": "5ziovqNAq7yB"
   },
   "source": [
    "Number of parameter in CL\n",
    "\n",
    "((n x m x l) + 1) x k\n",
    "\n",
    "n x m = filter shape\n",
    "l = number of input channel (feature maps as input)\n",
    "k = number of output channel (feature maps as output)"
   ]
  },
  {
   "cell_type": "code",
   "execution_count": 32,
   "metadata": {
    "colab": {
     "base_uri": "https://localhost:8080/"
    },
    "id": "zzUePEhGq7yB",
    "outputId": "f10d552d-4096-45cf-e61d-0fd4d70e7b66"
   },
   "outputs": [
    {
     "data": {
      "text/plain": [
       "320"
      ]
     },
     "execution_count": 32,
     "metadata": {},
     "output_type": "execute_result"
    }
   ],
   "source": [
    "((3 * 3 * 1) + 1) * 32"
   ]
  },
  {
   "cell_type": "code",
   "execution_count": 69,
   "metadata": {
    "id": "hOuwgRVZGEAu"
   },
   "outputs": [],
   "source": [
    "from tensorflow.keras.callbacks import EarlyStopping"
   ]
  },
  {
   "cell_type": "code",
   "execution_count": 70,
   "metadata": {
    "id": "rtIURzRFGEDN"
   },
   "outputs": [],
   "source": [
    "early_stop = EarlyStopping(monitor='val_accuracy',mode=\"max\", patience=2, restore_best_weights = True)\n",
    "# val_accuracy yerine val_loss da kullanabiliriz\n",
    "# patience=2 : Neden az patience. CNN de overfitting e gitme ihtimali yüksektir. Resimler çok bilgi içeriyor ama onlara karşılık gelen data\n",
    "# .. sayısı yeterli değil o yüzden resim datalarında çalışırken fazla data istenir. O yüzden patience burada genelde 2 ya da 3 tür\n",
    "# Resimleri değişik oriantasyonlar/metodlar ile çoğullayacağız son derste göreceğiz.\n"
   ]
  },
  {
   "cell_type": "code",
   "execution_count": 71,
   "metadata": {
    "colab": {
     "base_uri": "https://localhost:8080/"
    },
    "id": "-IDJimxdKq-k",
    "outputId": "51887e35-c354-46d8-9b8a-ebdd93c42f03"
   },
   "outputs": [
    {
     "name": "stdout",
     "output_type": "stream",
     "text": [
      "Epoch 1/10\n",
      "1875/1875 [==============================] - 6s 3ms/step - loss: 0.1504 - accuracy: 0.9547 - val_loss: 0.0612 - val_accuracy: 0.9820\n",
      "Epoch 2/10\n",
      "1875/1875 [==============================] - 6s 3ms/step - loss: 0.0509 - accuracy: 0.9849 - val_loss: 0.0515 - val_accuracy: 0.9829\n",
      "Epoch 3/10\n",
      "1875/1875 [==============================] - 6s 3ms/step - loss: 0.0342 - accuracy: 0.9892 - val_loss: 0.0452 - val_accuracy: 0.9856\n",
      "Epoch 4/10\n",
      "1875/1875 [==============================] - 6s 3ms/step - loss: 0.0212 - accuracy: 0.9934 - val_loss: 0.0405 - val_accuracy: 0.9878\n",
      "Epoch 5/10\n",
      "1875/1875 [==============================] - 6s 3ms/step - loss: 0.0156 - accuracy: 0.9950 - val_loss: 0.0374 - val_accuracy: 0.9889\n",
      "Epoch 6/10\n",
      "1875/1875 [==============================] - 6s 3ms/step - loss: 0.0115 - accuracy: 0.9963 - val_loss: 0.0572 - val_accuracy: 0.9841\n",
      "Epoch 7/10\n",
      "1875/1875 [==============================] - 6s 3ms/step - loss: 0.0081 - accuracy: 0.9974 - val_loss: 0.0566 - val_accuracy: 0.9856\n"
     ]
    },
    {
     "data": {
      "text/plain": [
       "<keras.callbacks.History at 0x7fbbc2400f50>"
      ]
     },
     "execution_count": 71,
     "metadata": {},
     "output_type": "execute_result"
    }
   ],
   "source": [
    "model.fit(X_train, Y_train, batch_size=32, epochs=10, validation_data=(X_test,Y_test),callbacks=[early_stop]) \n",
    "# epochs=10: Çünkü 2 tane network çalışıyor. Asıl işi yapan convolutional katman bu kadar epoch da işini hallediyor\n",
    "\n",
    "# class chat soru: patience küçük olunca lokal minimuma yakalanma ihtimali artmıyor mu?\n",
    "# Edward H : lokal minimuma yakalanmis modeli daha fazla egiterek kurtaramazsiniz hocam dolayisiyla hayir arttirmiyor. \n",
    "# .. Lokal minimuma yakalaninca gradient sifirlaniyor ve agirliklar update olmuyor artik ve model optimuma yakinsamis gibi egitim bitiyor\n",
    "\n",
    "# class chat soru: Drop out ta kullanılıyor mu hocam overfiti engellemek için?\n",
    "# John H: Dropout da kullanılabiliyor. Başka metodlarda var"
   ]
  },
  {
   "cell_type": "code",
   "execution_count": 72,
   "metadata": {
    "colab": {
     "base_uri": "https://localhost:8080/"
    },
    "id": "1q4GlXAMpyvL",
    "outputId": "6a23684b-8197-4659-b884-dca15278f191"
   },
   "outputs": [
    {
     "data": {
      "text/plain": [
       "(60000, 28, 28, 1)"
      ]
     },
     "execution_count": 72,
     "metadata": {},
     "output_type": "execute_result"
    }
   ],
   "source": [
    "X_train.shape"
   ]
  },
  {
   "cell_type": "code",
   "execution_count": 73,
   "metadata": {
    "colab": {
     "base_uri": "https://localhost:8080/"
    },
    "id": "TTtNlBsOp2vs",
    "outputId": "785e9fb6-8fc5-4467-b91e-17454718c94f"
   },
   "outputs": [
    {
     "data": {
      "text/plain": [
       "(60000, 10)"
      ]
     },
     "execution_count": 73,
     "metadata": {},
     "output_type": "execute_result"
    }
   ],
   "source": [
    "Y_train.shape"
   ]
  },
  {
   "cell_type": "code",
   "execution_count": 74,
   "metadata": {
    "colab": {
     "base_uri": "https://localhost:8080/"
    },
    "id": "wNmOLqBv1Kqn",
    "outputId": "2c9a2edb-0573-4ffb-dbfb-658559e71c51"
   },
   "outputs": [
    {
     "data": {
      "text/plain": [
       "['loss', 'accuracy']"
      ]
     },
     "execution_count": 74,
     "metadata": {},
     "output_type": "execute_result"
    }
   ],
   "source": [
    "model.metrics_names"
   ]
  },
  {
   "cell_type": "code",
   "execution_count": 75,
   "metadata": {
    "colab": {
     "base_uri": "https://localhost:8080/",
     "height": 206
    },
    "id": "2zYPEYGK2qyc",
    "outputId": "74b4c80f-3690-4c6c-e088-748e787c20aa"
   },
   "outputs": [
    {
     "data": {
      "text/html": [
       "\n",
       "  <div id=\"df-4fe5c11d-5601-48e3-a5c4-175fba51f4be\">\n",
       "    <div class=\"colab-df-container\">\n",
       "      <div>\n",
       "<style scoped>\n",
       "    .dataframe tbody tr th:only-of-type {\n",
       "        vertical-align: middle;\n",
       "    }\n",
       "\n",
       "    .dataframe tbody tr th {\n",
       "        vertical-align: top;\n",
       "    }\n",
       "\n",
       "    .dataframe thead th {\n",
       "        text-align: right;\n",
       "    }\n",
       "</style>\n",
       "<table border=\"1\" class=\"dataframe\">\n",
       "  <thead>\n",
       "    <tr style=\"text-align: right;\">\n",
       "      <th></th>\n",
       "      <th>loss</th>\n",
       "      <th>accuracy</th>\n",
       "      <th>val_loss</th>\n",
       "      <th>val_accuracy</th>\n",
       "    </tr>\n",
       "  </thead>\n",
       "  <tbody>\n",
       "    <tr>\n",
       "      <th>0</th>\n",
       "      <td>0.150</td>\n",
       "      <td>0.955</td>\n",
       "      <td>0.061</td>\n",
       "      <td>0.982</td>\n",
       "    </tr>\n",
       "    <tr>\n",
       "      <th>1</th>\n",
       "      <td>0.051</td>\n",
       "      <td>0.985</td>\n",
       "      <td>0.052</td>\n",
       "      <td>0.983</td>\n",
       "    </tr>\n",
       "    <tr>\n",
       "      <th>2</th>\n",
       "      <td>0.034</td>\n",
       "      <td>0.989</td>\n",
       "      <td>0.045</td>\n",
       "      <td>0.986</td>\n",
       "    </tr>\n",
       "    <tr>\n",
       "      <th>3</th>\n",
       "      <td>0.021</td>\n",
       "      <td>0.993</td>\n",
       "      <td>0.041</td>\n",
       "      <td>0.988</td>\n",
       "    </tr>\n",
       "    <tr>\n",
       "      <th>4</th>\n",
       "      <td>0.016</td>\n",
       "      <td>0.995</td>\n",
       "      <td>0.037</td>\n",
       "      <td>0.989</td>\n",
       "    </tr>\n",
       "  </tbody>\n",
       "</table>\n",
       "</div>\n",
       "      <button class=\"colab-df-convert\" onclick=\"convertToInteractive('df-4fe5c11d-5601-48e3-a5c4-175fba51f4be')\"\n",
       "              title=\"Convert this dataframe to an interactive table.\"\n",
       "              style=\"display:none;\">\n",
       "        \n",
       "  <svg xmlns=\"http://www.w3.org/2000/svg\" height=\"24px\"viewBox=\"0 0 24 24\"\n",
       "       width=\"24px\">\n",
       "    <path d=\"M0 0h24v24H0V0z\" fill=\"none\"/>\n",
       "    <path d=\"M18.56 5.44l.94 2.06.94-2.06 2.06-.94-2.06-.94-.94-2.06-.94 2.06-2.06.94zm-11 1L8.5 8.5l.94-2.06 2.06-.94-2.06-.94L8.5 2.5l-.94 2.06-2.06.94zm10 10l.94 2.06.94-2.06 2.06-.94-2.06-.94-.94-2.06-.94 2.06-2.06.94z\"/><path d=\"M17.41 7.96l-1.37-1.37c-.4-.4-.92-.59-1.43-.59-.52 0-1.04.2-1.43.59L10.3 9.45l-7.72 7.72c-.78.78-.78 2.05 0 2.83L4 21.41c.39.39.9.59 1.41.59.51 0 1.02-.2 1.41-.59l7.78-7.78 2.81-2.81c.8-.78.8-2.07 0-2.86zM5.41 20L4 18.59l7.72-7.72 1.47 1.35L5.41 20z\"/>\n",
       "  </svg>\n",
       "      </button>\n",
       "      \n",
       "  <style>\n",
       "    .colab-df-container {\n",
       "      display:flex;\n",
       "      flex-wrap:wrap;\n",
       "      gap: 12px;\n",
       "    }\n",
       "\n",
       "    .colab-df-convert {\n",
       "      background-color: #E8F0FE;\n",
       "      border: none;\n",
       "      border-radius: 50%;\n",
       "      cursor: pointer;\n",
       "      display: none;\n",
       "      fill: #1967D2;\n",
       "      height: 32px;\n",
       "      padding: 0 0 0 0;\n",
       "      width: 32px;\n",
       "    }\n",
       "\n",
       "    .colab-df-convert:hover {\n",
       "      background-color: #E2EBFA;\n",
       "      box-shadow: 0px 1px 2px rgba(60, 64, 67, 0.3), 0px 1px 3px 1px rgba(60, 64, 67, 0.15);\n",
       "      fill: #174EA6;\n",
       "    }\n",
       "\n",
       "    [theme=dark] .colab-df-convert {\n",
       "      background-color: #3B4455;\n",
       "      fill: #D2E3FC;\n",
       "    }\n",
       "\n",
       "    [theme=dark] .colab-df-convert:hover {\n",
       "      background-color: #434B5C;\n",
       "      box-shadow: 0px 1px 3px 1px rgba(0, 0, 0, 0.15);\n",
       "      filter: drop-shadow(0px 1px 2px rgba(0, 0, 0, 0.3));\n",
       "      fill: #FFFFFF;\n",
       "    }\n",
       "  </style>\n",
       "\n",
       "      <script>\n",
       "        const buttonEl =\n",
       "          document.querySelector('#df-4fe5c11d-5601-48e3-a5c4-175fba51f4be button.colab-df-convert');\n",
       "        buttonEl.style.display =\n",
       "          google.colab.kernel.accessAllowed ? 'block' : 'none';\n",
       "\n",
       "        async function convertToInteractive(key) {\n",
       "          const element = document.querySelector('#df-4fe5c11d-5601-48e3-a5c4-175fba51f4be');\n",
       "          const dataTable =\n",
       "            await google.colab.kernel.invokeFunction('convertToInteractive',\n",
       "                                                     [key], {});\n",
       "          if (!dataTable) return;\n",
       "\n",
       "          const docLinkHtml = 'Like what you see? Visit the ' +\n",
       "            '<a target=\"_blank\" href=https://colab.research.google.com/notebooks/data_table.ipynb>data table notebook</a>'\n",
       "            + ' to learn more about interactive tables.';\n",
       "          element.innerHTML = '';\n",
       "          dataTable['output_type'] = 'display_data';\n",
       "          await google.colab.output.renderOutput(dataTable, element);\n",
       "          const docLink = document.createElement('div');\n",
       "          docLink.innerHTML = docLinkHtml;\n",
       "          element.appendChild(docLink);\n",
       "        }\n",
       "      </script>\n",
       "    </div>\n",
       "  </div>\n",
       "  "
      ],
      "text/plain": [
       "   loss  accuracy  val_loss  val_accuracy\n",
       "0 0.150     0.955     0.061         0.982\n",
       "1 0.051     0.985     0.052         0.983\n",
       "2 0.034     0.989     0.045         0.986\n",
       "3 0.021     0.993     0.041         0.988\n",
       "4 0.016     0.995     0.037         0.989"
      ]
     },
     "execution_count": 75,
     "metadata": {},
     "output_type": "execute_result"
    }
   ],
   "source": [
    "summary = pd.DataFrame(model.history.history)\n",
    "summary.head()"
   ]
  },
  {
   "cell_type": "code",
   "execution_count": 76,
   "metadata": {
    "colab": {
     "base_uri": "https://localhost:8080/",
     "height": 374
    },
    "id": "7cigrrimq7yC",
    "outputId": "7310b668-b184-4b13-c453-ac72cd18e1e0"
   },
   "outputs": [
    {
     "data": {
      "image/png": "[encoded data removed]",
      "text/plain": [
       "<Figure size 720x432 with 1 Axes>"
      ]
     },
     "metadata": {},
     "output_type": "display_data"
    }
   ],
   "source": [
    "summary.plot();\n",
    "# Aralık açılmaya başlayınca orada kesmiş(accuracy ve val_accuracy arasındaki fark)\n",
    "# Aşağıda biraz daha yakından inceleyelim"
   ]
  },
  {
   "cell_type": "code",
   "execution_count": 77,
   "metadata": {
    "colab": {
     "base_uri": "https://localhost:8080/",
     "height": 374
    },
    "id": "W8tAgvwGq7yC",
    "outputId": "d490dcca-dec4-4c4c-d4c5-8a4bd018d80c"
   },
   "outputs": [
    {
     "data": {
      "image/png": "[encoded data removed]",
      "text/plain": [
       "<Figure size 720x432 with 1 Axes>"
      ]
     },
     "metadata": {},
     "output_type": "display_data"
    }
   ],
   "source": [
    "summary[[\"loss\", \"val_loss\"]].plot();"
   ]
  },
  {
   "cell_type": "code",
   "execution_count": 78,
   "metadata": {
    "colab": {
     "base_uri": "https://localhost:8080/",
     "height": 374
    },
    "id": "1sj58xlyq7yD",
    "outputId": "d5da5245-7c96-4da7-a491-2b9a5c2a3794"
   },
   "outputs": [
    {
     "data": {
      "image/png": "[encoded data removed]",
      "text/plain": [
       "<Figure size 720x432 with 1 Axes>"
      ]
     },
     "metadata": {},
     "output_type": "display_data"
    }
   ],
   "source": [
    "summary[[\"accuracy\", \"val_accuracy\"]].plot();"
   ]
  },
  {
   "cell_type": "markdown",
   "metadata": {
    "id": "UEcpbjixq7yD"
   },
   "source": [
    "# Evaluation on Test Data"
   ]
  },
  {
   "cell_type": "code",
   "execution_count": 79,
   "metadata": {
    "id": "3qZywTaf4Nay"
   },
   "outputs": [],
   "source": [
    "from sklearn.metrics import classification_report, confusion_matrix,multilabel_confusion_matrix"
   ]
  },
  {
   "cell_type": "code",
   "execution_count": 80,
   "metadata": {
    "colab": {
     "base_uri": "https://localhost:8080/"
    },
    "id": "1naFYlgT35-S",
    "outputId": "e701928c-a8b3-4edb-c829-7649430d1fcf"
   },
   "outputs": [
    {
     "name": "stdout",
     "output_type": "stream",
     "text": [
      "313/313 [==============================] - 1s 4ms/step - loss: 0.0374 - accuracy: 0.9889\n"
     ]
    },
    {
     "data": {
      "text/plain": [
       "[0.03739839792251587, 0.9889000058174133]"
      ]
     },
     "execution_count": 80,
     "metadata": {},
     "output_type": "execute_result"
    }
   ],
   "source": [
    "model.evaluate(X_test,Y_test)\n",
    "\n",
    "# Class chat soru : validation datasını train içerisinden bölseydik hocam\n",
    "# John H : Yapılabilir. Biz burada yapmadık"
   ]
  },
  {
   "cell_type": "code",
   "execution_count": 81,
   "metadata": {
    "colab": {
     "base_uri": "https://localhost:8080/"
    },
    "id": "3DyaGeFU46Hv",
    "outputId": "24560987-15d5-47f5-c1f9-02c516babeee"
   },
   "outputs": [
    {
     "name": "stdout",
     "output_type": "stream",
     "text": [
      "Test loss: 0.03739839792251587\n",
      "Test accuracy: 0.9889000058174133\n"
     ]
    }
   ],
   "source": [
    "score = model.evaluate(X_test, Y_test, verbose=0)\n",
    "print('Test loss:', score[0])\n",
    "print('Test accuracy:', score[1])"
   ]
  },
  {
   "cell_type": "code",
   "execution_count": 82,
   "metadata": {
    "colab": {
     "base_uri": "https://localhost:8080/"
    },
    "id": "IOAxLbRQ4cMe",
    "outputId": "8a614963-e62f-4a59-efec-e8a4c9350423"
   },
   "outputs": [
    {
     "data": {
      "text/plain": [
       "array([[1.0453933e-10, 1.7795557e-07, 1.1874899e-07, ..., 9.9998939e-01,\n",
       "        6.0151059e-08, 5.7553888e-07],\n",
       "       [1.6100918e-08, 1.8904766e-06, 9.9999785e-01, ..., 6.8675654e-10,\n",
       "        6.0932220e-10, 5.3963236e-12],\n",
       "       [4.6747616e-07, 9.9984813e-01, 8.6657010e-06, ..., 1.8449560e-05,\n",
       "        8.1970047e-06, 1.3660593e-08],\n",
       "       ...,\n",
       "       [2.3319344e-16, 4.2396692e-10, 4.2097554e-15, ..., 1.5458518e-08,\n",
       "        2.4525180e-08, 9.6915386e-08],\n",
       "       [7.4073851e-11, 5.6452109e-12, 2.1947409e-11, ..., 2.2367493e-10,\n",
       "        3.6452297e-04, 2.9002331e-10],\n",
       "       [3.2795256e-14, 1.7559076e-12, 1.5645467e-10, ..., 1.2451000e-14,\n",
       "        1.5199608e-10, 2.3099046e-14]], dtype=float32)"
      ]
     },
     "execution_count": 82,
     "metadata": {},
     "output_type": "execute_result"
    }
   ],
   "source": [
    "pred_prob = model.predict(X_test)\n",
    "pred_prob"
   ]
  },
  {
   "cell_type": "code",
   "execution_count": 92,
   "metadata": {
    "colab": {
     "base_uri": "https://localhost:8080/"
    },
    "id": "k2kpyVAFq7yE",
    "outputId": "f563e784-5e20-4baf-9a36-ccc8fdc7c946"
   },
   "outputs": [
    {
     "data": {
      "text/plain": [
       "(10000, 10)"
      ]
     },
     "execution_count": 92,
     "metadata": {},
     "output_type": "execute_result"
    }
   ],
   "source": [
    "pred_prob.shape"
   ]
  },
  {
   "cell_type": "code",
   "execution_count": 93,
   "metadata": {
    "colab": {
     "base_uri": "https://localhost:8080/"
    },
    "id": "5Hc9CVZEHPkX",
    "outputId": "0370a386-3e55-43ab-d0dd-75b467f64f6d"
   },
   "outputs": [
    {
     "data": {
      "text/plain": [
       "array([1.0453933e-10, 1.7795557e-07, 1.1874899e-07, 9.7570774e-06,\n",
       "       1.4516374e-09, 3.7262029e-09, 3.8395567e-15, 9.9998939e-01,\n",
       "       6.0151059e-08, 5.7553888e-07], dtype=float32)"
      ]
     },
     "execution_count": 93,
     "metadata": {},
     "output_type": "execute_result"
    }
   ],
   "source": [
    "pred_prob[0]"
   ]
  },
  {
   "cell_type": "code",
   "execution_count": 94,
   "metadata": {
    "colab": {
     "base_uri": "https://localhost:8080/"
    },
    "id": "5SU04Ba_q7yF",
    "outputId": "b7c7e9ce-b404-493c-a16a-6ef07531e6fc"
   },
   "outputs": [
    {
     "data": {
      "text/plain": [
       "7"
      ]
     },
     "execution_count": 94,
     "metadata": {},
     "output_type": "execute_result"
    }
   ],
   "source": [
    "np.argmax(pred_prob[0]) # problar içindeki maximum değeri ver"
   ]
  },
  {
   "cell_type": "code",
   "execution_count": 95,
   "metadata": {
    "colab": {
     "base_uri": "https://localhost:8080/"
    },
    "id": "P54bs5fIQ1EU",
    "outputId": "24206aa8-8404-40eb-cc37-a841cd53412e"
   },
   "outputs": [
    {
     "data": {
      "text/plain": [
       "array([7, 2, 1, ..., 4, 5, 6])"
      ]
     },
     "execution_count": 95,
     "metadata": {},
     "output_type": "execute_result"
    }
   ],
   "source": [
    "y_pred = np.argmax(pred_prob, axis=1)\n",
    "y_pred"
   ]
  },
  {
   "cell_type": "code",
   "execution_count": 96,
   "metadata": {
    "colab": {
     "base_uri": "https://localhost:8080/"
    },
    "id": "Ci5uKY1_HPkY",
    "outputId": "d8701c4e-3663-4548-b79e-153bc89ef506"
   },
   "outputs": [
    {
     "data": {
      "text/plain": [
       "(10000,)"
      ]
     },
     "execution_count": 96,
     "metadata": {},
     "output_type": "execute_result"
    }
   ],
   "source": [
    "y_pred.shape"
   ]
  },
  {
   "cell_type": "code",
   "execution_count": 97,
   "metadata": {
    "colab": {
     "base_uri": "https://localhost:8080/"
    },
    "id": "HUl6w6Jf423N",
    "outputId": "3ccd3035-9553-48c6-ddad-d49151f0e4c3"
   },
   "outputs": [
    {
     "name": "stdout",
     "output_type": "stream",
     "text": [
      "              precision    recall  f1-score   support\n",
      "\n",
      "           0       0.98      0.99      0.99       980\n",
      "           1       0.99      1.00      0.99      1135\n",
      "           2       0.99      0.98      0.99      1032\n",
      "           3       0.99      0.99      0.99      1010\n",
      "           4       0.99      0.99      0.99       982\n",
      "           5       0.99      0.99      0.99       892\n",
      "           6       0.99      0.99      0.99       958\n",
      "           7       0.99      0.99      0.99      1028\n",
      "           8       0.98      0.99      0.99       974\n",
      "           9       0.99      0.98      0.98      1009\n",
      "\n",
      "    accuracy                           0.99     10000\n",
      "   macro avg       0.99      0.99      0.99     10000\n",
      "weighted avg       0.99      0.99      0.99     10000\n",
      "\n"
     ]
    }
   ],
   "source": [
    "print(classification_report(y_test, y_pred))\n",
    "# Her sınıfın recall ları gayet yüksek istediğimiz gibi"
   ]
  },
  {
   "cell_type": "code",
   "execution_count": 98,
   "metadata": {
    "colab": {
     "base_uri": "https://localhost:8080/"
    },
    "id": "weQW_anSNmj8",
    "outputId": "4f033a3b-cb0f-41ea-b011-b3abdd496317"
   },
   "outputs": [
    {
     "name": "stdout",
     "output_type": "stream",
     "text": [
      "[[ 975    0    1    1    0    0    2    0    1    0]\n",
      " [   0 1130    1    0    2    0    1    0    1    0]\n",
      " [   2    1 1016    1    2    0    0    6    4    0]\n",
      " [   0    0    0 1004    0    4    0    0    2    0]\n",
      " [   1    0    0    0  974    0    1    0    3    3]\n",
      " [   2    0    1    5    0  880    3    0    1    0]\n",
      " [   5    3    0    0    1    1  947    0    1    0]\n",
      " [   2    2    4    1    0    0    0 1017    1    1]\n",
      " [   5    0    1    1    0    1    0    2  961    3]\n",
      " [   1    1    0    6    6    6    0    3    1  985]]\n"
     ]
    }
   ],
   "source": [
    "print(confusion_matrix(y_test, y_pred))"
   ]
  },
  {
   "cell_type": "code",
   "execution_count": 99,
   "metadata": {
    "colab": {
     "base_uri": "https://localhost:8080/",
     "height": 609
    },
    "id": "eJMTHZuMSVsT",
    "outputId": "063b04bd-bc7a-41a5-ed94-e8ac4f46332d"
   },
   "outputs": [
    {
     "data": {
      "text/plain": [
       "<matplotlib.axes._subplots.AxesSubplot at 0x7fbbc203a850>"
      ]
     },
     "execution_count": 99,
     "metadata": {},
     "output_type": "execute_result"
    },
    {
     "data": {
      "image/png": "[encoded data removed]",
      "text/plain": [
       "<Figure size 1080x720 with 2 Axes>"
      ]
     },
     "metadata": {},
     "output_type": "display_data"
    }
   ],
   "source": [
    "plt.figure(figsize=(15,10))\n",
    "sns.heatmap(confusion_matrix(y_test, y_pred), annot=True, cmap=\"Blues\", linewidths=.5, linecolor='black', fmt='g', annot_kws = {\"size\": 15})\n",
    "# Hangi kısımlarda yanlış sınıflandırma varsa, o resimlere bakıp o resimleri çıkarıp başarı arttırılabilir\n",
    "# .. ya da o resim değiştirilebilir"
   ]
  },
  {
   "cell_type": "code",
   "execution_count": 100,
   "metadata": {
    "colab": {
     "base_uri": "https://localhost:8080/"
    },
    "id": "-6wHt1Stq7yK",
    "outputId": "84146b38-1d48-46f0-a081-05e755b28025"
   },
   "outputs": [
    {
     "data": {
      "text/plain": [
       "array([False, False, False, ..., False, False, False])"
      ]
     },
     "execution_count": 100,
     "metadata": {},
     "output_type": "execute_result"
    }
   ],
   "source": [
    "y_test != y_pred "
   ]
  },
  {
   "cell_type": "code",
   "execution_count": 101,
   "metadata": {
    "colab": {
     "base_uri": "https://localhost:8080/"
    },
    "id": "NEfpBMxNq7yK",
    "outputId": "438e7ffe-f069-4d66-dfdc-c261c277de28"
   },
   "outputs": [
    {
     "data": {
      "text/plain": [
       "111"
      ]
     },
     "execution_count": 101,
     "metadata": {},
     "output_type": "execute_result"
    }
   ],
   "source": [
    "(y_test != y_pred).sum()  # 10000 tanede 111 tane hata yapmış. John H: Çok problem değil. Gayet iyi"
   ]
  },
  {
   "cell_type": "markdown",
   "metadata": {
    "id": "8FZSZfp2q7yL"
   },
   "source": [
    "# Prediction"
   ]
  },
  {
   "cell_type": "code",
   "execution_count": 102,
   "metadata": {
    "id": "WduIUJj64rIp"
   },
   "outputs": [],
   "source": [
    "my_number = X_test[3]"
   ]
  },
  {
   "cell_type": "code",
   "execution_count": 103,
   "metadata": {
    "colab": {
     "base_uri": "https://localhost:8080/"
    },
    "id": "tDzJimh6q7yL",
    "outputId": "f35350f7-1ccc-4484-c9ca-3df1c22e7480"
   },
   "outputs": [
    {
     "data": {
      "text/plain": [
       "(28, 28, 1)"
      ]
     },
     "execution_count": 103,
     "metadata": {},
     "output_type": "execute_result"
    }
   ],
   "source": [
    "my_number.shape"
   ]
  },
  {
   "cell_type": "code",
   "execution_count": 104,
   "metadata": {
    "colab": {
     "base_uri": "https://localhost:8080/",
     "height": 374
    },
    "id": "18_nBUbAN1fh",
    "outputId": "17cb7174-7d2c-4a2a-9168-309679728b8e"
   },
   "outputs": [
    {
     "data": {
      "image/png": "[encoded data removed]",
      "text/plain": [
       "<Figure size 720x432 with 1 Axes>"
      ]
     },
     "metadata": {},
     "output_type": "display_data"
    }
   ],
   "source": [
    "plt.imshow(my_number.reshape(28,28));"
   ]
  },
  {
   "cell_type": "code",
   "execution_count": 105,
   "metadata": {
    "colab": {
     "base_uri": "https://localhost:8080/"
    },
    "id": "1DCFzSFtOGZF",
    "outputId": "c680cb34-d28d-4fe5-b0e6-ef8a79c042f3"
   },
   "outputs": [
    {
     "data": {
      "text/plain": [
       "array([[9.9999785e-01, 5.6507005e-10, 8.4492450e-07, 1.6375188e-09,\n",
       "        3.1324101e-09, 5.3539667e-10, 9.5507482e-07, 5.8661604e-09,\n",
       "        2.3947175e-07, 1.0758681e-07]], dtype=float32)"
      ]
     },
     "execution_count": 105,
     "metadata": {},
     "output_type": "execute_result"
    }
   ],
   "source": [
    "pred_prob = model.predict(my_number.reshape(1,28,28,1))  # resmi girerken kaç channel lı resim gireceğimizi söylememiz gerekiyor modele(\"1,28,28,1\" da ilk \"1\" yazan kısım)\n",
    "pred_prob"
   ]
  },
  {
   "cell_type": "code",
   "execution_count": 106,
   "metadata": {
    "colab": {
     "base_uri": "https://localhost:8080/"
    },
    "id": "zetmO1KEN4ro",
    "outputId": "1ca0664e-1872-4bd4-a1c1-54748158f2c1"
   },
   "outputs": [
    {
     "data": {
      "text/plain": [
       "0"
      ]
     },
     "execution_count": 106,
     "metadata": {},
     "output_type": "execute_result"
    }
   ],
   "source": [
    "# SHAPE --> (num_images,width,height,color_channels)\n",
    "y_pred = np.argmax(pred_prob)\n",
    "y_pred"
   ]
  },
  {
   "cell_type": "code",
   "execution_count": 107,
   "metadata": {
    "id": "OuF9luxd1p56"
   },
   "outputs": [],
   "source": [
    "model.save(\"cnn-1.h5\")"
   ]
  },
  {
   "cell_type": "markdown",
   "metadata": {
    "id": "6eu9uga5x3dS"
   },
   "source": [
    "# Using"
   ]
  },
  {
   "cell_type": "code",
   "execution_count": 108,
   "metadata": {
    "id": "ip1QdUmtkWWx"
   },
   "outputs": [],
   "source": [
    "model=tf.keras.models.load_model('cnn-1.h5')"
   ]
  },
  {
   "cell_type": "code",
   "execution_count": 112,
   "metadata": {
    "colab": {
     "base_uri": "https://localhost:8080/"
    },
    "id": "EoF1QpDkksrd",
    "outputId": "6a550bc1-beb5-4950-e989-8e0a6c88db21"
   },
   "outputs": [
    {
     "data": {
      "text/plain": [
       "(28, 28, 1)"
      ]
     },
     "execution_count": 112,
     "metadata": {},
     "output_type": "execute_result"
    }
   ],
   "source": [
    "X_test[24].shape"
   ]
  },
  {
   "cell_type": "code",
   "execution_count": 109,
   "metadata": {
    "id": "KM_yvYZUkdro"
   },
   "outputs": [],
   "source": [
    "pred=model.predict(np.expand_dims(X_test[24],axis=0)) # 3 boyuttan 4 boyuta çeviriyor. --> \"1,28,28,1\" şekline(reshape de kullanılabilir)"
   ]
  },
  {
   "cell_type": "code",
   "execution_count": 110,
   "metadata": {
    "colab": {
     "base_uri": "https://localhost:8080/"
    },
    "id": "r2_GU2pile0u",
    "outputId": "eedf6e90-0f33-42c2-c1b4-ed5086ef9aef"
   },
   "outputs": [
    {
     "data": {
      "text/plain": [
       "4"
      ]
     },
     "execution_count": 110,
     "metadata": {},
     "output_type": "execute_result"
    }
   ],
   "source": [
    "np.argmax(pred)"
   ]
  },
  {
   "cell_type": "code",
   "execution_count": 111,
   "metadata": {
    "colab": {
     "base_uri": "https://localhost:8080/",
     "height": 391
    },
    "id": "5oyYgdmillYZ",
    "outputId": "7fc029c8-c600-45e0-d8a2-9768d9bda157"
   },
   "outputs": [
    {
     "data": {
      "text/plain": [
       "<matplotlib.image.AxesImage at 0x7fbba039c5d0>"
      ]
     },
     "execution_count": 111,
     "metadata": {},
     "output_type": "execute_result"
    },
    {
     "data": {
      "image/png": "[encoded data removed]",
      "text/plain": [
       "<Figure size 720x432 with 1 Axes>"
      ]
     },
     "metadata": {},
     "output_type": "display_data"
    }
   ],
   "source": [
    "plt.imshow(X_test[24].reshape(28,28))"
   ]
  },
  {
   "cell_type": "markdown",
   "metadata": {
    "id": "4xHIWlhcq7yN"
   },
   "source": [
    "___\n",
    "\n",
    "<p style=\"text-align: center;\"><img src=\"https://docs.google.com/uc?id=1lY0Uj5R04yMY3-ZppPWxqCr5pvBLYPnV\" class=\"img-fluid\" alt=\"CLRSWY\"></p>\n",
    "\n",
    "___"
   ]
  }
 ],
 "metadata": {
  "accelerator": "GPU",
  "colab": {
   "collapsed_sections": [],
   "provenance": []
  },
  "gpuClass": "standard",
  "kernelspec": {
   "display_name": "Python 3 (ipykernel)",
   "language": "python",
   "name": "python3"
  },
  "language_info": {
   "codemirror_mode": {
    "name": "ipython",
    "version": 3
   },
   "file_extension": ".py",
   "mimetype": "text/x-python",
   "name": "python",
   "nbconvert_exporter": "python",
   "pygments_lexer": "ipython3",
   "version": "3.8.5"
  },
  "toc": {
   "base_numbering": 1,
   "nav_menu": {},
   "number_sections": false,
   "sideBar": true,
   "skip_h1_title": false,
   "title_cell": "Table of Contents",
   "title_sidebar": "Contents",
   "toc_cell": false,
   "toc_position": {},
   "toc_section_display": true,
   "toc_window_display": true
  }
 },
 "nbformat": 4,
 "nbformat_minor": 1
}
